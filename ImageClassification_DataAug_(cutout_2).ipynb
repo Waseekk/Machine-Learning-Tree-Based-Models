{
 "cells": [
  {
   "cell_type": "markdown",
   "id": "17bd9ea5",
   "metadata": {},
   "source": [
    "## Convolutional Neural Networks (CNNs):\n",
    "CNNs are a type of deep learning model designed for processing structured grid data, such as images. They consist of layers of learnable filters (also known as kernels) that scan the input data to extract hierarchical features.<p>\n",
    " Here I am using CFIR10 Image Classification data for analysis different test accuracies for different Data Augmentation methods."
   ]
  },
  {
   "cell_type": "code",
   "execution_count": null,
   "id": "1445a85a",
   "metadata": {},
   "outputs": [],
   "source": [
    "import tensorflow as tf\n",
    "from tensorflow import keras\n",
    "from tensorflow.keras.layers import Conv2D, MaxPooling2D, Flatten, Dense, Dropout, Input\n",
    "import numpy as np\n",
    "import random\n",
    "from tensorflow.keras.layers import Dense, BatchNormalization\n",
    "from tensorflow.keras import regularizers\n",
    "import matplotlib.pyplot as plt\n",
    "import random\n",
    "from tensorflow.keras.applications import ResNet50\n",
    "from tensorflow.keras.models import Model\n",
    "from keras.regularizers import l2,l1"
   ]
  },
  {
   "cell_type": "code",
   "execution_count": 51,
   "id": "5e4e3ca8",
   "metadata": {},
   "outputs": [],
   "source": [
    "import matplotlib.pyplot as plt"
   ]
  },
  {
   "cell_type": "markdown",
   "id": "09171ef5",
   "metadata": {},
   "source": []
  },
  {
   "cell_type": "markdown",
   "id": "147e61c9",
   "metadata": {},
   "source": [
    "#### Data Loading"
   ]
  },
  {
   "cell_type": "code",
   "execution_count": 53,
   "id": "c6e43401",
   "metadata": {},
   "outputs": [
    {
     "name": "stdout",
     "output_type": "stream",
     "text": [
      "Training data samples: 45000\n",
      "Validation data samples: 5000\n",
      "Test data samples: 10000\n"
     ]
    }
   ],
   "source": [
    "(x_train, y_train), (x_test, y_test) = keras.datasets.cifar10.load_data()\n",
    "val_split = 0.1 #proportion of the training data that you want to allocate for validation\n",
    "val_indices = int(len(x_train) * val_split) # to ensure that you have a whole number of samples for validation.\n",
    "new_x_train, new_y_train = x_train[val_indices:], y_train[val_indices:]\n",
    "\n",
    "x_val, y_val = x_train[:val_indices], y_train[:val_indices]\n",
    "\n",
    "\n",
    "print(f\"Training data samples: {len(new_x_train)}\")\n",
    "\n",
    "print(f\"Validation data samples: {len(x_val)}\")\n",
    "print(f\"Test data samples: {len(x_test)}\")"
   ]
  },
  {
   "cell_type": "markdown",
   "id": "02b93b5e",
   "metadata": {},
   "source": [
    "#### Normalization"
   ]
  },
  {
   "cell_type": "code",
   "execution_count": 54,
   "id": "198d9295",
   "metadata": {},
   "outputs": [
    {
     "name": "stdout",
     "output_type": "stream",
     "text": [
      "(50000, 32, 32, 3)\n"
     ]
    }
   ],
   "source": [
    "\n",
    "new_x_train_nor = new_x_train/255\n",
    "x_val_nor  = x_val/255\n",
    "x_test_nor = x_test/255\n",
    "print(x_train.shape)"
   ]
  },
  {
   "cell_type": "code",
   "execution_count": null,
   "id": "f3b67c75",
   "metadata": {},
   "outputs": [],
   "source": [
    "#### Label Prep"
   ]
  },
  {
   "cell_type": "code",
   "execution_count": 55,
   "id": "5cce841c",
   "metadata": {},
   "outputs": [],
   "source": [
    "# Label Prep\n",
    "from keras.src.utils.np_utils import to_categorical\n",
    "total_class = len(np.unique(new_y_train))\n",
    "\n",
    "new_y_train_hot = to_categorical( new_y_train, total_class)\n",
    "\n",
    "y_val_hot  = to_categorical( y_val, total_class)\n",
    "\n",
    "y_test_hot = to_categorical( y_test, total_class)"
   ]
  },
  {
   "cell_type": "markdown",
   "id": "fd960524",
   "metadata": {},
   "source": [
    "Checking the class for validation."
   ]
  },
  {
   "cell_type": "code",
   "execution_count": 56,
   "id": "245fec24",
   "metadata": {},
   "outputs": [
    {
     "data": {
      "text/plain": [
       "(array([4016., 4041., 3965., 3976., 3948., 4018., 3983., 4018., 4018.,\n",
       "        4017.]),\n",
       " array([0. , 0.9, 1.8, 2.7, 3.6, 4.5, 5.4, 6.3, 7.2, 8.1, 9. ]),\n",
       " <BarContainer object of 10 artists>)"
      ]
     },
     "execution_count": 56,
     "metadata": {},
     "output_type": "execute_result"
    },
    {
     "data": {
      "image/png": "[encoded data removed]",
      "text/plain": [
       "<Figure size 640x480 with 1 Axes>"
      ]
     },
     "metadata": {},
     "output_type": "display_data"
    }
   ],
   "source": [
    "indx = [i for i in range(0, len(new_x_train_nor))]\n",
    "random.shuffle(indx)\n",
    "#indx\n",
    "\n",
    "new_y_train_hot_1 =  []\n",
    "new_x_train_nor_1 = []\n",
    "\n",
    "small_f = 40000 # allocated length of the dataset\n",
    "for i in range(small_f):\n",
    "  new_x_train_nor_1.append(new_x_train_nor[indx[i]] )\n",
    "  new_y_train_hot_1.append(new_y_train_hot[indx[i]] )\n",
    "\n",
    "\n",
    "new_y_train_hot_1 = np.array(new_y_train_hot_1)\n",
    "new_x_train_nor_1 = np.array(new_x_train_nor_1)\n",
    "label_id = np.argmax(new_y_train_hot_1,-1)\n",
    "\n",
    "plt.hist(label_id, 10)"
   ]
  },
  {
   "cell_type": "code",
   "execution_count": null,
   "id": "f252d8e7",
   "metadata": {},
   "outputs": [],
   "source": []
  },
  {
   "cell_type": "code",
   "execution_count": 19,
   "id": "d7be480e",
   "metadata": {},
   "outputs": [],
   "source": [
    "import kerastuner as kt"
   ]
  },
  {
   "cell_type": "code",
   "execution_count": 91,
   "id": "fb632458",
   "metadata": {},
   "outputs": [],
   "source": [
    "filters = 48\n",
    "kernel_size = 3\n",
    "dropout = 0.06\n",
    "l2_lambda = .01\n",
    "input_shape= (32, 32, 3)\n",
    "inputs = Input(shape=input_shape)\n",
    "initial_learning_rate=.001\n",
    "\n",
    "\n",
    "x = Conv2D(filters=filters, kernel_size=kernel_size, activation='elu', padding='same',kernel_initializer='he_normal', kernel_regularizer=l2(l2_lambda))(inputs)\n",
    "    \n",
    "x = MaxPooling2D()(x)\n",
    "x = Conv2D(filters=filters*2,kernel_size=kernel_size, activation='elu', padding='same', kernel_initializer='he_normal', kernel_regularizer=l2(l2_lambda))(x)\n",
    "    #x = BatchNormalization()(x)\n",
    "x = MaxPooling2D()(x)\n",
    "\n",
    "x = Conv2D(filters=filters*3, kernel_size=kernel_size, activation='elu', padding='same', kernel_initializer='he_normal', kernel_regularizer=l2(l2_lambda))(x)\n",
    "    #x = BatchNormalization()(x)\n",
    "x = MaxPooling2D()(x)\n",
    "x = MaxPooling2D()(x)\n",
    "x = BatchNormalization()(x)\n",
    "\n",
    "    # x = Conv2D(filters=filters*3,kernel_size=kernel_size, activation='elu', padding='same', kernel_initializer='he_normal', kernel_regularizer=l2(l2_lambda))(x)\n",
    "    # #x = BatchNormalization()(x)\n",
    "    # x = MaxPooling2D()(x)\n",
    "    # x = Conv2D(filters=filters*4, kernel_size=kernel_size, activation='elu', padding='same', kernel_initializer='he_normal', kernel_regularizer=l2(l2_lambda))(x)\n",
    "    # #x = BatchNormalization()(x)\n",
    "    # x = MaxPooling2D()(x)\n",
    "    # x = BatchNormalization()(x)\n",
    "\n",
    "#     x = Conv2D(filters=filters*4,kernel_size=kernel_size, activation='elu', padding='same', kernel_initializer='he_normal', kernel_regularizer=l2(l2_lambda))(x)\n",
    "#     x = MaxPooling2D()(x)\n",
    "#     x = BatchNormalization()(x) \n",
    "    \n",
    "# x = Conv2D(filters=filters*4, kernel_size=kernel_size, activation='elu', padding='same', kernel_initializer='he_normal', kernel_regularizer=l2(l2_lambda))(x)\n",
    "# x = MaxPooling2D()(x)\n",
    "# x = BatchNormalization()(x)\n",
    " #  \n",
    "  #  x = BatchNormalization()(x)\n",
    "\n",
    "\n",
    "\n",
    "x = Conv2D(filters=filters*4, kernel_size=kernel_size, activation='elu', padding='same', kernel_initializer='he_normal', kernel_regularizer=l2(l2_lambda))(x)\n",
    "x = BatchNormalization()(x)\n",
    "x = Flatten()(x)\n",
    "x = Dropout(dropout)(x)\n",
    "outputs = keras.layers.Dense(10, activation='softmax')(x)\n",
    "    \n",
    "model5 = keras.models.Model(inputs=inputs, outputs=outputs)\n",
    "\n",
    "lr_schedule = tf.keras.optimizers.schedules.ExponentialDecay(initial_learning_rate, decay_steps=150, decay_rate=0.9)\n",
    "optimizer = tf.keras.optimizers.Adam(learning_rate=lr_schedule)\n",
    "early_stopping=tf.keras.callbacks.EarlyStopping(monitor='val_loss',patience=15, restore_best_weights=True)\n",
    "# Compile the model\n",
    "model5.compile(optimizer=optimizer ,loss='categorical_crossentropy', metrics=['accuracy'])"
   ]
  },
  {
   "cell_type": "code",
   "execution_count": 92,
   "id": "a1ee9387",
   "metadata": {},
   "outputs": [
    {
     "name": "stdout",
     "output_type": "stream",
     "text": [
      "Model: \"model_15\"\n",
      "_________________________________________________________________\n",
      " Layer (type)                Output Shape              Param #   \n",
      "=================================================================\n",
      " input_17 (InputLayer)       [(None, 32, 32, 3)]       0         \n",
      "                                                                 \n",
      " conv2d_67 (Conv2D)          (None, 32, 32, 48)        1344      \n",
      "                                                                 \n",
      " max_pooling2d_42 (MaxPooli  (None, 16, 16, 48)        0         \n",
      " ng2D)                                                           \n",
      "                                                                 \n",
      " conv2d_68 (Conv2D)          (None, 16, 16, 96)        41568     \n",
      "                                                                 \n",
      " max_pooling2d_43 (MaxPooli  (None, 8, 8, 96)          0         \n",
      " ng2D)                                                           \n",
      "                                                                 \n",
      " conv2d_69 (Conv2D)          (None, 8, 8, 144)         124560    \n",
      "                                                                 \n",
      " max_pooling2d_44 (MaxPooli  (None, 4, 4, 144)         0         \n",
      " ng2D)                                                           \n",
      "                                                                 \n",
      " max_pooling2d_45 (MaxPooli  (None, 2, 2, 144)         0         \n",
      " ng2D)                                                           \n",
      "                                                                 \n",
      " batch_normalization_39 (Ba  (None, 2, 2, 144)         576       \n",
      " tchNormalization)                                               \n",
      "                                                                 \n",
      " conv2d_70 (Conv2D)          (None, 2, 2, 192)         249024    \n",
      "                                                                 \n",
      " batch_normalization_40 (Ba  (None, 2, 2, 192)         768       \n",
      " tchNormalization)                                               \n",
      "                                                                 \n",
      " flatten_15 (Flatten)        (None, 768)               0         \n",
      "                                                                 \n",
      " dropout_15 (Dropout)        (None, 768)               0         \n",
      "                                                                 \n",
      " dense_15 (Dense)            (None, 10)                7690      \n",
      "                                                                 \n",
      "=================================================================\n",
      "Total params: 425530 (1.62 MB)\n",
      "Trainable params: 424858 (1.62 MB)\n",
      "Non-trainable params: 672 (2.62 KB)\n",
      "_________________________________________________________________\n"
     ]
    }
   ],
   "source": [
    "model5.summary()"
   ]
  },
  {
   "cell_type": "code",
   "execution_count": null,
   "id": "7628f69b",
   "metadata": {},
   "outputs": [],
   "source": []
  },
  {
   "cell_type": "code",
   "execution_count": 81,
   "id": "fa181040",
   "metadata": {},
   "outputs": [
    {
     "name": "stdout",
     "output_type": "stream",
     "text": [
      "Model: \"model_10\"\n",
      "_________________________________________________________________\n",
      " Layer (type)                Output Shape              Param #   \n",
      "=================================================================\n",
      " input_12 (InputLayer)       [(None, 32, 32, 3)]       0         \n",
      "                                                                 \n",
      " conv2d_47 (Conv2D)          (None, 32, 32, 32)        896       \n",
      "                                                                 \n",
      " conv2d_48 (Conv2D)          (None, 32, 32, 64)        18496     \n",
      "                                                                 \n",
      " max_pooling2d_25 (MaxPooli  (None, 16, 16, 64)        0         \n",
      " ng2D)                                                           \n",
      "                                                                 \n",
      " conv2d_49 (Conv2D)          (None, 16, 16, 96)        55392     \n",
      "                                                                 \n",
      " max_pooling2d_26 (MaxPooli  (None, 8, 8, 96)          0         \n",
      " ng2D)                                                           \n",
      "                                                                 \n",
      " batch_normalization_29 (Ba  (None, 8, 8, 96)          384       \n",
      " tchNormalization)                                               \n",
      "                                                                 \n",
      " conv2d_50 (Conv2D)          (None, 8, 8, 128)         110720    \n",
      "                                                                 \n",
      " batch_normalization_30 (Ba  (None, 8, 8, 128)         512       \n",
      " tchNormalization)                                               \n",
      "                                                                 \n",
      " flatten_10 (Flatten)        (None, 8192)              0         \n",
      "                                                                 \n",
      " dropout_10 (Dropout)        (None, 8192)              0         \n",
      "                                                                 \n",
      " dense_10 (Dense)            (None, 10)                81930     \n",
      "                                                                 \n",
      "=================================================================\n",
      "Total params: 268330 (1.02 MB)\n",
      "Trainable params: 267882 (1.02 MB)\n",
      "Non-trainable params: 448 (1.75 KB)\n",
      "_________________________________________________________________\n"
     ]
    }
   ],
   "source": [
    "model4.summary()"
   ]
  },
  {
   "cell_type": "code",
   "execution_count": 77,
   "id": "13bd8f1d",
   "metadata": {},
   "outputs": [],
   "source": [
    "def sample_beta_distribution(size, concentration_0=0.2, concentration_1=0.2):\n",
    "    gamma_1_sample = tf.random.gamma(shape=[size], alpha=concentration_1)\n",
    "    gamma_2_sample = tf.random.gamma(shape=[size], alpha=concentration_0)\n",
    "    return gamma_1_sample / (gamma_1_sample + gamma_2_sample)\n",
    "\n",
    "\n",
    "@tf.function\n",
    "def get_box(lambda_value):\n",
    "    IMG_SIZE =32 # cahnge here if you need to\n",
    "    cut_rat = tf.math.sqrt(1.0 - lambda_value)\n",
    "\n",
    "    cut_w = IMG_SIZE * cut_rat  # rw\n",
    "    cut_w = tf.cast(cut_w, tf.int32)\n",
    "\n",
    "    cut_h = IMG_SIZE * cut_rat  # rh\n",
    "    cut_h = tf.cast(cut_h, tf.int32)\n",
    "\n",
    "    cut_x = tf.random.uniform((1,), minval=0, maxval=IMG_SIZE, dtype=tf.int32)  # rx\n",
    "    cut_y = tf.random.uniform((1,), minval=0, maxval=IMG_SIZE, dtype=tf.int32)  # ry\n",
    "\n",
    "    boundaryx1 = tf.clip_by_value(cut_x[0] - cut_w // 2, 0, IMG_SIZE)\n",
    "    boundaryy1 = tf.clip_by_value(cut_y[0] - cut_h // 2, 0, IMG_SIZE)\n",
    "    bbx2 = tf.clip_by_value(cut_x[0] + cut_w // 2, 0, IMG_SIZE)\n",
    "    bby2 = tf.clip_by_value(cut_y[0] + cut_h // 2, 0, IMG_SIZE)\n",
    "\n",
    "    target_h = bby2 - boundaryy1\n",
    "    if target_h == 0:\n",
    "        target_h += 1\n",
    "\n",
    "    target_w = bbx2 - boundaryx1\n",
    "    if target_w == 0:\n",
    "        target_w += 1\n",
    "\n",
    "    return boundaryx1, boundaryy1, target_h, target_w\n",
    "\n",
    "\n",
    "@tf.function\n",
    "def cutmix(train_ds_one, train_ds_two):\n",
    "    (image1, label1), (image2, label2) = train_ds_one, train_ds_two\n",
    "    IMG_SIZE = image1.shape[0]\n",
    "    alpha = [0.25]\n",
    "    beta = [0.25]\n",
    "\n",
    "    # Get a sample from the Beta distribution\n",
    "    lambda_value = sample_beta_distribution(1, alpha, beta)\n",
    "\n",
    "    # Define Lambda\n",
    "    lambda_value = lambda_value[0][0]\n",
    "\n",
    "    # Get the bounding box offsets, heights and widths\n",
    "    boundaryx1, boundaryy1, target_h, target_w = get_box(lambda_value)\n",
    "\n",
    "    # Get a patch from the second image (`image2`)\n",
    "    crop2 = tf.image.crop_to_bounding_box(\n",
    "        image2, boundaryy1, boundaryx1, target_h, target_w\n",
    "    )\n",
    "    # Pad the `image2` patch (`crop2`) with the same offset\n",
    "    image2 = tf.image.pad_to_bounding_box(\n",
    "        crop2, boundaryy1, boundaryx1, IMG_SIZE, IMG_SIZE\n",
    "    )\n",
    "    # Get a patch from the first image (`image1`)\n",
    "    crop1 = tf.image.crop_to_bounding_box(\n",
    "        image1, boundaryy1, boundaryx1, target_h, target_w\n",
    "    )\n",
    "    # Pad the `image1` patch (`crop1`) with the same offset\n",
    "    img1 = tf.image.pad_to_bounding_box(\n",
    "        crop1, boundaryy1, boundaryx1, IMG_SIZE, IMG_SIZE\n",
    "    )\n",
    "\n",
    "    # Modify the first image by subtracting the patch from `image1`\n",
    "    # (before applying the `image2` patch)\n",
    "    image1 = image1 - img1\n",
    "    # Add the modified `image1` and `image2`  together to get the CutMix image\n",
    "    image = image1 + image2\n",
    "\n",
    "    # Adjust Lambda in accordance to the pixel ration\n",
    "    lambda_value = 1 - (target_w * target_h) / (IMG_SIZE * IMG_SIZE)\n",
    "    lambda_value = tf.cast(lambda_value, tf.float32)\n",
    "\n",
    "    # Combine the labels of both images\n",
    "    label = lambda_value * label1 + (1 - lambda_value) * label2\n",
    "    return image, label"
   ]
  },
  {
   "cell_type": "code",
   "execution_count": 78,
   "id": "51267814",
   "metadata": {},
   "outputs": [],
   "source": [
    "batch_size = 16\n",
    "auto = tf.data.AUTOTUNE\n",
    "\n",
    "def make_datasets(images, labels):\n",
    "    dataset = tf.data.Dataset.from_tensor_slices((images, labels))\n",
    "\n",
    "    dataset = dataset.shuffle(1024)\n",
    "    dataset = dataset.batch(batch_size)\n",
    "    return dataset.prefetch(auto)\n",
    "\n",
    "def _augment_fn(images, labels):\n",
    "    images = tf.image.random_crop(images, (32, 32, 3))\n",
    "    images = tf.image.random_flip_left_right(images)\n",
    "    images = tf.image.random_brightness(images, 0.9)\n",
    "    return images, labels\n",
    "\n",
    "\n",
    "def make_augmented_datasets(images, labels):\n",
    "    dataset = tf.data.Dataset.from_tensor_slices((images, labels))\n",
    "    dataset = dataset.shuffle(1024).map( _augment_fn, num_parallel_calls=auto)\n",
    "\n",
    "    dataset = dataset.shuffle(1024)\n",
    "    dataset = dataset.batch(batch_size)\n",
    "\n",
    "\n",
    "    return dataset.prefetch(auto)\n",
    "\n",
    "def cut_mix_data(X_traina, y_traina, batch_size ):\n",
    "\n",
    "    train_ds_one =  tf.data.Dataset.from_tensor_slices((X_traina, y_traina)).shuffle(1024)\n",
    "\n",
    "    train_ds_two = tf.data.Dataset.from_tensor_slices((X_traina, y_traina)).shuffle(1024)\n",
    "\n",
    "    train_ds_two = train_ds_two.shuffle(1024).map( _augment_fn, num_parallel_calls=auto)\n",
    "\n",
    "    train_ds = tf.data.Dataset.zip((train_ds_one, train_ds_two))\n",
    "\n",
    "    train_dataset= (train_ds.shuffle(1024).map(cutmix,num_parallel_calls=auto).batch(batch_size ).prefetch(auto))\n",
    "\n",
    "    return train_dataset\n",
    "\n",
    "\n",
    "\n",
    "train_set =   cut_mix_data(new_x_train_nor_1, new_y_train_hot_1, batch_size)\n",
    "val_set =   make_datasets(x_val_nor, y_val_hot)\n",
    "test_set =  make_datasets(x_test_nor, y_test_hot )"
   ]
  },
  {
   "cell_type": "code",
   "execution_count": null,
   "id": "6a39dcf1",
   "metadata": {},
   "outputs": [],
   "source": []
  },
  {
   "cell_type": "code",
   "execution_count": 93,
   "id": "e1467ecb",
   "metadata": {},
   "outputs": [
    {
     "name": "stdout",
     "output_type": "stream",
     "text": [
      "Epoch 1/100\n",
      "2500/2500 [==============================] - 189s 71ms/step - loss: 3.4279 - accuracy: 0.3286 - val_loss: 1.6173 - val_accuracy: 0.5782\n",
      "Epoch 2/100\n",
      "2500/2500 [==============================] - 156s 62ms/step - loss: 1.9589 - accuracy: 0.4879 - val_loss: 1.2742 - val_accuracy: 0.6934\n",
      "Epoch 3/100\n",
      "2500/2500 [==============================] - 160s 64ms/step - loss: 1.8164 - accuracy: 0.5409 - val_loss: 1.2022 - val_accuracy: 0.7174\n",
      "Epoch 4/100\n",
      "2500/2500 [==============================] - 169s 67ms/step - loss: 1.7852 - accuracy: 0.5512 - val_loss: 1.1921 - val_accuracy: 0.7228\n",
      "Epoch 5/100\n",
      "2500/2500 [==============================] - 163s 65ms/step - loss: 1.7810 - accuracy: 0.5533 - val_loss: 1.1870 - val_accuracy: 0.7210\n",
      "Epoch 6/100\n",
      "2500/2500 [==============================] - 163s 65ms/step - loss: 1.7849 - accuracy: 0.5526 - val_loss: 1.1904 - val_accuracy: 0.7220\n",
      "Epoch 7/100\n",
      "2500/2500 [==============================] - 143s 57ms/step - loss: 1.7806 - accuracy: 0.5560 - val_loss: 1.1880 - val_accuracy: 0.7216\n",
      "Epoch 8/100\n",
      "2500/2500 [==============================] - 144s 58ms/step - loss: 1.7740 - accuracy: 0.5565 - val_loss: 1.1919 - val_accuracy: 0.7220\n",
      "Epoch 9/100\n",
      "2500/2500 [==============================] - 155s 62ms/step - loss: 1.7777 - accuracy: 0.5559 - val_loss: 1.1891 - val_accuracy: 0.7216\n",
      "Epoch 10/100\n",
      "2500/2500 [==============================] - 163s 65ms/step - loss: 1.7802 - accuracy: 0.5569 - val_loss: 1.1905 - val_accuracy: 0.7210\n",
      "Epoch 11/100\n",
      "2500/2500 [==============================] - 160s 64ms/step - loss: 1.7822 - accuracy: 0.5539 - val_loss: 1.1911 - val_accuracy: 0.7226\n",
      "Epoch 12/100\n",
      "2500/2500 [==============================] - 154s 62ms/step - loss: 1.7830 - accuracy: 0.5552 - val_loss: 1.1914 - val_accuracy: 0.7224\n",
      "Epoch 13/100\n",
      "2500/2500 [==============================] - 139s 56ms/step - loss: 1.7851 - accuracy: 0.5539 - val_loss: 1.1930 - val_accuracy: 0.7214\n",
      "Epoch 14/100\n",
      "2500/2500 [==============================] - 142s 57ms/step - loss: 1.7874 - accuracy: 0.5530 - val_loss: 1.1930 - val_accuracy: 0.7216\n",
      "Epoch 15/100\n",
      "2500/2500 [==============================] - 141s 56ms/step - loss: 1.7802 - accuracy: 0.5578 - val_loss: 1.1879 - val_accuracy: 0.7218\n",
      "Epoch 16/100\n",
      "2500/2500 [==============================] - 144s 57ms/step - loss: 1.7839 - accuracy: 0.5543 - val_loss: 1.1916 - val_accuracy: 0.7222\n",
      "Epoch 17/100\n",
      "2500/2500 [==============================] - 142s 57ms/step - loss: 1.7786 - accuracy: 0.5560 - val_loss: 1.1916 - val_accuracy: 0.7218\n",
      "Epoch 18/100\n",
      "2500/2500 [==============================] - 156s 62ms/step - loss: 1.7813 - accuracy: 0.5535 - val_loss: 1.1901 - val_accuracy: 0.7222\n",
      "Epoch 19/100\n",
      "2500/2500 [==============================] - 150s 60ms/step - loss: 1.7802 - accuracy: 0.5570 - val_loss: 1.1888 - val_accuracy: 0.7226\n",
      "Epoch 20/100\n",
      "2500/2500 [==============================] - 160s 64ms/step - loss: 1.7861 - accuracy: 0.5526 - val_loss: 1.1939 - val_accuracy: 0.7218\n",
      "625/625 [==============================] - 25s 37ms/step - loss: 1.2090 - accuracy: 0.7039\n",
      "Test accuracy: 0.7039\n"
     ]
    }
   ],
   "source": [
    "# Train the model with the training data and validation data\n",
    "history = model5.fit(train_set,epochs=100,validation_data=val_set,callbacks=[early_stopping])  # Include any necessary callbacks\n",
    "\n",
    "# Evaluate the best model on the test set\n",
    "test_loss, test_accuracy = model5.evaluate(test_set)\n",
    "print(f'Test accuracy: {test_accuracy:.4f}')"
   ]
  },
  {
   "cell_type": "code",
   "execution_count": 94,
   "id": "7f123ce3",
   "metadata": {},
   "outputs": [
    {
     "name": "stdout",
     "output_type": "stream",
     "text": [
      "Test accuracy: 0.7039\n"
     ]
    }
   ],
   "source": [
    "print(f'Test accuracy: {(test_accuracy):.4f}')"
   ]
  },
  {
   "cell_type": "code",
   "execution_count": 95,
   "id": "627914c8",
   "metadata": {},
   "outputs": [
    {
     "name": "stdout",
     "output_type": "stream",
     "text": [
      "0.7228000164031982 0.7130700051784515\n"
     ]
    }
   ],
   "source": [
    "# Access test accuracy values from the history object\n",
    "test_accuracies = history.history['val_accuracy']  # Test accuracies for each epoch\n",
    "\n",
    "# Calculate maximum and mean test accuracies\n",
    "max_test_accuracy = max(test_accuracies)  # Maximum test accuracy\n",
    "mean_test_accuracy = sum(test_accuracies) / len(test_accuracies)  # Mean test accuracy\n",
    "\n",
    "print(max_test_accuracy,mean_test_accuracy)"
   ]
  },
  {
   "cell_type": "code",
   "execution_count": 96,
   "id": "a192ff57",
   "metadata": {},
   "outputs": [
    {
     "data": {
      "text/plain": [
       "<matplotlib.legend.Legend at 0x294f4712c20>"
      ]
     },
     "execution_count": 96,
     "metadata": {},
     "output_type": "execute_result"
    },
    {
     "data": {
      "image/png": "[encoded data removed]",
      "text/plain": [
       "<Figure size 700x400 with 1 Axes>"
      ]
     },
     "metadata": {},
     "output_type": "display_data"
    }
   ],
   "source": [
    "fig, ax = plt.subplots(figsize=(7, 4))\n",
    "plt.plot(history.history['accuracy'])\n",
    "plt.plot(history.history['val_accuracy'])\n",
    "plt.legend(['train_accuracy', 'val_accuracy'], loc='upper left')"
   ]
  },
  {
   "cell_type": "code",
   "execution_count": 29,
   "id": "2eccff6a",
   "metadata": {},
   "outputs": [
    {
     "name": "stdout",
     "output_type": "stream",
     "text": [
      "Test accuracy: 0.7344\n"
     ]
    }
   ],
   "source": [
    "print(f'Test accuracy: {(test_accuracy):.4f}')"
   ]
  },
  {
   "cell_type": "code",
   "execution_count": 32,
   "id": "af983343",
   "metadata": {},
   "outputs": [
    {
     "name": "stdout",
     "output_type": "stream",
     "text": [
      "0.7864000201225281 0.7369772737676447\n"
     ]
    }
   ],
   "source": [
    "# Access test accuracy values from the history object\n",
    "test_accuracies = history.history['val_accuracy']  # Test accuracies for each epoch\n",
    "\n",
    "# Calculate maximum and mean test accuracies\n",
    "max_test_accuracy = max(test_accuracies)  # Maximum test accuracy\n",
    "mean_test_accuracy = sum(test_accuracies) / len(test_accuracies)  # Mean test accuracy\n",
    "\n",
    "print(max_test_accuracy,mean_test_accuracy)"
   ]
  },
  {
   "cell_type": "code",
   "execution_count": 34,
   "id": "a1db20b4",
   "metadata": {},
   "outputs": [
    {
     "name": "stdout",
     "output_type": "stream",
     "text": [
      "Epoch 1/10\n",
      "2500/2500 [==============================] - 94s 38ms/step - loss: 1.4345 - accuracy: 0.6282 - val_loss: 0.8586 - val_accuracy: 0.7380\n",
      "Epoch 2/10\n",
      "2500/2500 [==============================] - 90s 36ms/step - loss: 1.4280 - accuracy: 0.6353 - val_loss: 0.7555 - val_accuracy: 0.7858\n",
      "Epoch 3/10\n",
      "2500/2500 [==============================] - 91s 36ms/step - loss: 1.4239 - accuracy: 0.6322 - val_loss: 0.7489 - val_accuracy: 0.7858\n",
      "Epoch 4/10\n",
      "2500/2500 [==============================] - 91s 36ms/step - loss: 1.4308 - accuracy: 0.6294 - val_loss: 0.8037 - val_accuracy: 0.7680\n",
      "Epoch 5/10\n",
      "2500/2500 [==============================] - 92s 37ms/step - loss: 1.4253 - accuracy: 0.6334 - val_loss: 0.8148 - val_accuracy: 0.7566\n",
      "Epoch 6/10\n",
      "2500/2500 [==============================] - 90s 36ms/step - loss: 1.4262 - accuracy: 0.6303 - val_loss: 0.7926 - val_accuracy: 0.7720\n",
      "Epoch 7/10\n",
      "2500/2500 [==============================] - 86s 34ms/step - loss: 1.4226 - accuracy: 0.6333 - val_loss: 0.7865 - val_accuracy: 0.7728\n",
      "Epoch 8/10\n",
      "2500/2500 [==============================] - 86s 34ms/step - loss: 1.4253 - accuracy: 0.6337 - val_loss: 0.7808 - val_accuracy: 0.7810\n",
      "Epoch 9/10\n",
      "2500/2500 [==============================] - 93s 37ms/step - loss: 1.4251 - accuracy: 0.6349 - val_loss: 0.7811 - val_accuracy: 0.7852\n",
      "Epoch 10/10\n",
      "2500/2500 [==============================] - 91s 36ms/step - loss: 1.4191 - accuracy: 0.6333 - val_loss: 0.8058 - val_accuracy: 0.7650\n"
     ]
    }
   ],
   "source": [
    "# Assuming you have already trained your model with early stopping\n",
    "#history = best_model.fit(train_set, epochs=100, validation_data=val_set, callbacks=[early_stopping])\n",
    "\n",
    "# If you want to continue training for additional epochs:\n",
    "additional_epochs = 10  # Specify the number of additional epochs you want to train for\n",
    "\n",
    "# Continue training the model for additional_epochs\n",
    "history = best_model5_2.fit(train_set, epochs=additional_epochs, validation_data=val_set)\n",
    "\n"
   ]
  },
  {
   "cell_type": "code",
   "execution_count": 35,
   "id": "184e009c",
   "metadata": {},
   "outputs": [
    {
     "data": {
      "text/plain": [
       "<matplotlib.legend.Legend at 0x2951fbb9090>"
      ]
     },
     "execution_count": 35,
     "metadata": {},
     "output_type": "execute_result"
    },
    {
     "data": {
      "image/png": "[encoded data removed]",
      "text/plain": [
       "<Figure size 700x400 with 1 Axes>"
      ]
     },
     "metadata": {},
     "output_type": "display_data"
    }
   ],
   "source": [
    "fig, ax = plt.subplots(figsize=(7, 4))\n",
    "plt.plot(history.history['accuracy'])\n",
    "plt.plot(history.history['val_accuracy'])\n",
    "plt.legend(['train_accuracy', 'val_accuracy'], loc='upper left')"
   ]
  },
  {
   "cell_type": "code",
   "execution_count": null,
   "id": "579c85d0",
   "metadata": {},
   "outputs": [],
   "source": []
  }
 ],
 "metadata": {
  "kernelspec": {
   "display_name": "Python 3 (ipykernel)",
   "language": "python",
   "name": "python3"
  },
  "language_info": {
   "codemirror_mode": {
    "name": "ipython",
    "version": 3
   },
   "file_extension": ".py",
   "mimetype": "text/x-python",
   "name": "python",
   "nbconvert_exporter": "python",
   "pygments_lexer": "ipython3",
   "version": "3.10.9"
  }
 },
 "nbformat": 4,
 "nbformat_minor": 5
}
