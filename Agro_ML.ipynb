{
 "cells": [
  {
   "cell_type": "markdown",
   "id": "d3d001b0-2e2f-4b58-8442-99520bad831f",
   "metadata": {},
   "source": [
    "# Select the Best Crops \n",
    "\n",
    "\n",
    "\n",
    "Measuring essential soil metrics such as nitrogen, phosphorous, potassium levels, and pH value is an important aspect of assessing soil condition. However, it can be an expensive and time-consuming process, which can cause farmers to prioritize which metrics to measure based on their budget constraints.\n",
    "\n",
    "Farmers have various options when it comes to deciding which crop to plant each season. Their primary objective is to maximize the yield of their crops, taking into account different factors. One crucial factor that affects crop growth is the condition of the soil in the field, which can be assessed by measuring basic elements such as nitrogen and potassium levels. Each crop has an ideal soil condition that ensures optimal growth and maximum yield.\n",
    "\n",
    "A farmer reached out to you as a machine learning expert for assistance in selecting the best crop for his field. They've provided you with a dataset called `soil_measures.csv`, which contains:\n",
    "\n",
    "- `\"N\"`: Nitrogen content ratio in the soil\n",
    "- `\"P\"`: Phosphorous content ratio in the soil\n",
    "- `\"K\"`: Potassium content ratio in the soil\n",
    "- `\"pH\"` value of the soil\n",
    "- `\"crop\"`: categorical values that contain various crops (target variable).\n",
    "\n",
    "Each row in this dataset represents various measures of the soil in a particular field. Based on these measurements, the crop specified in the `\"crop\"` column is the optimal choice for that field.  \n"
   ]
  },
  {
   "cell_type": "code",
   "execution_count": 48,
   "id": "4aae9e29-d7d6-4cc1-853b-967094828df7",
   "metadata": {
    "executionCancelledAt": null,
    "executionTime": 49,
    "lastExecutedAt": 1696447918593,
    "lastScheduledRunId": null,
    "lastSuccessfullyExecutedCode": "from itertools import combinations"
   },
   "outputs": [],
   "source": [
    "from itertools import combinations"
   ]
  },
  {
   "cell_type": "code",
   "execution_count": 49,
   "id": "d0eb4f16-5a99-460d-a5ba-706b7ef0bbe7",
   "metadata": {
    "executionCancelledAt": null,
    "executionTime": 49,
    "id": "bA5ajAmk7XH6",
    "lastExecutedAt": 1696447918642,
    "lastScheduledRunId": null,
    "lastSuccessfullyExecutedCode": "# All required libraries are imported here for you.\nimport matplotlib.pyplot as plt\nimport pandas as pd\nfrom sklearn.linear_model import LogisticRegression\nfrom sklearn.model_selection import train_test_split\nimport seaborn as sns\nfrom sklearn.metrics import f1_score\n\n# Load the dataset\ncrops = pd.read_csv(\"soil_measures.csv\")\n\n# Write your code here\ncrops = pd.read_csv(\"soil_measures.csv\")\n\n# Check the number of crop categories\nnum_crops = crops['crop'].nunique()\nprint(f\"Number of crop categories: {num_crops}\")\n",
    "outputsMetadata": {
     "0": {
      "height": 36,
      "type": "stream"
     }
    }
   },
   "outputs": [
    {
     "name": "stdout",
     "output_type": "stream",
     "text": [
      "Number of crop categories: 22\n"
     ]
    }
   ],
   "source": [
    "# All required libraries are imported here for you.\n",
    "import matplotlib.pyplot as plt\n",
    "import pandas as pd\n",
    "from sklearn.linear_model import LogisticRegression\n",
    "from sklearn.model_selection import train_test_split\n",
    "import seaborn as sns\n",
    "from sklearn.metrics import f1_score\n",
    "\n",
    "# Load the dataset\n",
    "crops = pd.read_csv(\"soil_measures.csv\")\n",
    "\n",
    "# Write your code here\n",
    "crops = pd.read_csv(\"soil_measures.csv\")\n",
    "\n",
    "# Check the number of crop categories\n",
    "num_crops = crops['crop'].nunique()\n",
    "print(f\"Number of crop categories: {num_crops}\")\n"
   ]
  },
  {
   "cell_type": "code",
   "execution_count": 50,
   "id": "0eddd852-b5d3-4bc3-94e6-c72eceac6ef3",
   "metadata": {
    "executionCancelledAt": null,
    "executionTime": 56,
    "lastExecutedAt": 1696447918698,
    "lastScheduledRunId": null,
    "lastSuccessfullyExecutedCode": "display(crops.head()), crops.info()",
    "outputsMetadata": {
     "0": {
      "height": 193,
      "type": "dataFrame"
     },
     "1": {
      "height": 251,
      "type": "stream"
     }
    }
   },
   "outputs": [
    {
     "data": {
      "application/com.datacamp.data-table.v1+json": {
       "table": {
        "data": [
         {
          "K": 43,
          "N": 90,
          "P": 42,
          "crop": "rice",
          "index": 0,
          "ph": 6.502985292
         },
         {
          "K": 41,
          "N": 85,
          "P": 58,
          "crop": "rice",
          "index": 1,
          "ph": 7.038096361
         },
         {
          "K": 44,
          "N": 60,
          "P": 55,
          "crop": "rice",
          "index": 2,
          "ph": 7.840207144
         },
         {
          "K": 40,
          "N": 74,
          "P": 35,
          "crop": "rice",
          "index": 3,
          "ph": 6.980400905
         },
         {
          "K": 42,
          "N": 78,
          "P": 42,
          "crop": "rice",
          "index": 4,
          "ph": 7.628472891
         }
        ],
        "schema": {
         "fields": [
          {
           "name": "index",
           "type": "integer"
          },
          {
           "name": "N",
           "type": "integer"
          },
          {
           "name": "P",
           "type": "integer"
          },
          {
           "name": "K",
           "type": "integer"
          },
          {
           "name": "ph",
           "type": "number"
          },
          {
           "name": "crop",
           "type": "string"
          }
         ],
         "pandas_version": "1.4.0",
         "primaryKey": [
          "index"
         ]
        }
       },
       "total_rows": 5,
       "truncation_type": null
      },
      "text/html": [
       "<div>\n",
       "<style scoped>\n",
       "    .dataframe tbody tr th:only-of-type {\n",
       "        vertical-align: middle;\n",
       "    }\n",
       "\n",
       "    .dataframe tbody tr th {\n",
       "        vertical-align: top;\n",
       "    }\n",
       "\n",
       "    .dataframe thead th {\n",
       "        text-align: right;\n",
       "    }\n",
       "</style>\n",
       "<table border=\"1\" class=\"dataframe\">\n",
       "  <thead>\n",
       "    <tr style=\"text-align: right;\">\n",
       "      <th></th>\n",
       "      <th>N</th>\n",
       "      <th>P</th>\n",
       "      <th>K</th>\n",
       "      <th>ph</th>\n",
       "      <th>crop</th>\n",
       "    </tr>\n",
       "  </thead>\n",
       "  <tbody>\n",
       "    <tr>\n",
       "      <th>0</th>\n",
       "      <td>90</td>\n",
       "      <td>42</td>\n",
       "      <td>43</td>\n",
       "      <td>6.502985</td>\n",
       "      <td>rice</td>\n",
       "    </tr>\n",
       "    <tr>\n",
       "      <th>1</th>\n",
       "      <td>85</td>\n",
       "      <td>58</td>\n",
       "      <td>41</td>\n",
       "      <td>7.038096</td>\n",
       "      <td>rice</td>\n",
       "    </tr>\n",
       "    <tr>\n",
       "      <th>2</th>\n",
       "      <td>60</td>\n",
       "      <td>55</td>\n",
       "      <td>44</td>\n",
       "      <td>7.840207</td>\n",
       "      <td>rice</td>\n",
       "    </tr>\n",
       "    <tr>\n",
       "      <th>3</th>\n",
       "      <td>74</td>\n",
       "      <td>35</td>\n",
       "      <td>40</td>\n",
       "      <td>6.980401</td>\n",
       "      <td>rice</td>\n",
       "    </tr>\n",
       "    <tr>\n",
       "      <th>4</th>\n",
       "      <td>78</td>\n",
       "      <td>42</td>\n",
       "      <td>42</td>\n",
       "      <td>7.628473</td>\n",
       "      <td>rice</td>\n",
       "    </tr>\n",
       "  </tbody>\n",
       "</table>\n",
       "</div>"
      ],
      "text/plain": [
       "    N   P   K        ph  crop\n",
       "0  90  42  43  6.502985  rice\n",
       "1  85  58  41  7.038096  rice\n",
       "2  60  55  44  7.840207  rice\n",
       "3  74  35  40  6.980401  rice\n",
       "4  78  42  42  7.628473  rice"
      ]
     },
     "metadata": {},
     "output_type": "display_data"
    },
    {
     "name": "stdout",
     "output_type": "stream",
     "text": [
      "<class 'pandas.core.frame.DataFrame'>\n",
      "RangeIndex: 2200 entries, 0 to 2199\n",
      "Data columns (total 5 columns):\n",
      " #   Column  Non-Null Count  Dtype  \n",
      "---  ------  --------------  -----  \n",
      " 0   N       2200 non-null   int64  \n",
      " 1   P       2200 non-null   int64  \n",
      " 2   K       2200 non-null   int64  \n",
      " 3   ph      2200 non-null   float64\n",
      " 4   crop    2200 non-null   object \n",
      "dtypes: float64(1), int64(3), object(1)\n",
      "memory usage: 86.1+ KB\n"
     ]
    },
    {
     "data": {
      "text/plain": [
       "(None, None)"
      ]
     },
     "execution_count": 50,
     "metadata": {},
     "output_type": "execute_result"
    }
   ],
   "source": [
    "display(crops.head()), crops.info()"
   ]
  },
  {
   "cell_type": "code",
   "execution_count": 51,
   "id": "dfd038dd-415f-44c6-837b-f9a1d545682f",
   "metadata": {
    "executionCancelledAt": null,
    "executionTime": 60,
    "lastExecutedAt": 1696447918758,
    "lastScheduledRunId": null,
    "lastSuccessfullyExecutedCode": "# Check for missing values\nmissing_values = crops.isnull().sum()\nprint(\"Missing values in the dataset:\")\nprint(missing_values)\n\n# Check if all potential feature columns are numeric\nnumeric_check = crops.drop('crop', axis=1).apply(pd.to_numeric, errors='coerce').isnull().sum()\nprint(\"Non-numeric values in potential feature columns:\")\nprint(numeric_check)\n",
    "outputsMetadata": {
     "0": {
      "height": 270,
      "type": "stream"
     }
    }
   },
   "outputs": [
    {
     "name": "stdout",
     "output_type": "stream",
     "text": [
      "Missing values in the dataset:\n",
      "N       0\n",
      "P       0\n",
      "K       0\n",
      "ph      0\n",
      "crop    0\n",
      "dtype: int64\n",
      "Non-numeric values in potential feature columns:\n",
      "N     0\n",
      "P     0\n",
      "K     0\n",
      "ph    0\n",
      "dtype: int64\n"
     ]
    }
   ],
   "source": [
    "# Check for missing values\n",
    "missing_values = crops.isnull().sum()\n",
    "print(\"Missing values in the dataset:\")\n",
    "print(missing_values)\n",
    "\n",
    "# Check if all potential feature columns are numeric\n",
    "numeric_check = crops.drop('crop', axis=1).apply(pd.to_numeric, errors='coerce').isnull().sum()\n",
    "print(\"Non-numeric values in potential feature columns:\")\n",
    "print(numeric_check)\n"
   ]
  },
  {
   "cell_type": "code",
   "execution_count": 52,
   "id": "365af45a-cd52-4118-ac4a-a5e67e325973",
   "metadata": {
    "executionCancelledAt": null,
    "executionTime": 52,
    "lastExecutedAt": 1696447918810,
    "lastScheduledRunId": null,
    "lastSuccessfullyExecutedCode": "# Split the data into training and test sets\nX = crops.drop('crop', axis=1)\ny = crops['crop']\nX_train, X_test, y_train, y_test = train_test_split(X, y, test_size=0.2, random_state=42)\n\nX_train.shape,y_train.shape,X_test.shape"
   },
   "outputs": [
    {
     "data": {
      "text/plain": [
       "((1760, 4), (1760,), (440, 4))"
      ]
     },
     "execution_count": 52,
     "metadata": {},
     "output_type": "execute_result"
    }
   ],
   "source": [
    "# Split the data into training and test sets\n",
    "X = crops.drop('crop', axis=1)\n",
    "y = crops['crop']\n",
    "X_train, X_test, y_train, y_test = train_test_split(X, y, test_size=0.2, random_state=42)\n",
    "\n",
    "X_train.shape,y_train.shape,X_test.shape"
   ]
  },
  {
   "cell_type": "code",
   "execution_count": 53,
   "id": "7246cd28-d1ae-472e-8b89-ce2ab1940aac",
   "metadata": {
    "executionCancelledAt": null,
    "executionTime": 75,
    "lastExecutedAt": 1696447918885,
    "lastScheduledRunId": null,
    "lastSuccessfullyExecutedCode": "X",
    "outputsMetadata": {
     "0": {
      "height": 316,
      "type": "dataFrame"
     }
    }
   },
   "outputs": [
    {
     "data": {
      "application/com.datacamp.data-table.v1+json": {
       "table": {
        "data": [
         {
          "K": 43,
          "N": 90,
          "P": 42,
          "index": 0,
          "ph": 6.502985292
         },
         {
          "K": 41,
          "N": 85,
          "P": 58,
          "index": 1,
          "ph": 7.038096361
         },
         {
          "K": 44,
          "N": 60,
          "P": 55,
          "index": 2,
          "ph": 7.840207144
         },
         {
          "K": 40,
          "N": 74,
          "P": 35,
          "index": 3,
          "ph": 6.980400905
         },
         {
          "K": 42,
          "N": 78,
          "P": 42,
          "index": 4,
          "ph": 7.628472891
         },
         {
          "K": 42,
          "N": 69,
          "P": 37,
          "index": 5,
          "ph": 7.073453503
         },
         {
          "K": 38,
          "N": 69,
          "P": 55,
          "index": 6,
          "ph": 5.70080568
         },
         {
          "K": 40,
          "N": 94,
          "P": 53,
          "index": 7,
          "ph": 5.718627178
         },
         {
          "K": 38,
          "N": 89,
          "P": 54,
          "index": 8,
          "ph": 6.685346424
         },
         {
          "K": 38,
          "N": 68,
          "P": 58,
          "index": 9,
          "ph": 6.336253525
         },
         {
          "K": 40,
          "N": 91,
          "P": 53,
          "index": 10,
          "ph": 5.386167788
         },
         {
          "K": 42,
          "N": 90,
          "P": 46,
          "index": 11,
          "ph": 7.50283396
         },
         {
          "K": 44,
          "N": 78,
          "P": 58,
          "index": 12,
          "ph": 5.108681786
         },
         {
          "K": 36,
          "N": 93,
          "P": 56,
          "index": 13,
          "ph": 6.98435366
         },
         {
          "K": 37,
          "N": 94,
          "P": 50,
          "index": 14,
          "ph": 6.94801983
         },
         {
          "K": 39,
          "N": 60,
          "P": 48,
          "index": 15,
          "ph": 7.042299069
         },
         {
          "K": 41,
          "N": 85,
          "P": 38,
          "index": 16,
          "ph": 6.249050656
         },
         {
          "K": 39,
          "N": 91,
          "P": 35,
          "index": 17,
          "ph": 6.970859754
         },
         {
          "K": 36,
          "N": 77,
          "P": 38,
          "index": 18,
          "ph": 5.953933276
         },
         {
          "K": 40,
          "N": 88,
          "P": 35,
          "index": 19,
          "ph": 5.85393208
         },
         {
          "K": 36,
          "N": 89,
          "P": 45,
          "index": 20,
          "ph": 6.442475375
         },
         {
          "K": 43,
          "N": 76,
          "P": 40,
          "index": 21,
          "ph": 5.070175667
         },
         {
          "K": 41,
          "N": 67,
          "P": 59,
          "index": 22,
          "ph": 6.012632591
         },
         {
          "K": 43,
          "N": 83,
          "P": 41,
          "index": 23,
          "ph": 6.254028451
         },
         {
          "K": 37,
          "N": 98,
          "P": 47,
          "index": 24,
          "ph": 7.375482851
         },
         {
          "K": 41,
          "N": 66,
          "P": 53,
          "index": 25,
          "ph": 7.778915154
         },
         {
          "K": 43,
          "N": 97,
          "P": 59,
          "index": 26,
          "ph": 6.286500176
         },
         {
          "K": 41,
          "N": 97,
          "P": 50,
          "index": 27,
          "ph": 7.070959995
         },
         {
          "K": 44,
          "N": 60,
          "P": 49,
          "index": 28,
          "ph": 6.244841491
         },
         {
          "K": 35,
          "N": 84,
          "P": 51,
          "index": 29,
          "ph": 6.043304899
         },
         {
          "K": 41,
          "N": 73,
          "P": 57,
          "index": 30,
          "ph": 5.824709117
         },
         {
          "K": 40,
          "N": 92,
          "P": 35,
          "index": 31,
          "ph": 6.357389366
         },
         {
          "K": 39,
          "N": 85,
          "P": 37,
          "index": 32,
          "ph": 6.364134968
         },
         {
          "K": 38,
          "N": 98,
          "P": 53,
          "index": 33,
          "ph": 5.01450727
         },
         {
          "K": 44,
          "N": 88,
          "P": 54,
          "index": 34,
          "ph": 6.149410611
         },
         {
          "K": 42,
          "N": 95,
          "P": 55,
          "index": 35,
          "ph": 5.950660556
         },
         {
          "K": 35,
          "N": 99,
          "P": 57,
          "index": 36,
          "ph": 5.960370061
         },
         {
          "K": 36,
          "N": 95,
          "P": 39,
          "index": 37,
          "ph": 5.561398642
         },
         {
          "K": 44,
          "N": 60,
          "P": 43,
          "index": 38,
          "ph": 7.416245107
         },
         {
          "K": 41,
          "N": 63,
          "P": 44,
          "index": 39,
          "ph": 5.583370042
         },
         {
          "K": 36,
          "N": 62,
          "P": 42,
          "index": 40,
          "ph": 6.430010215
         },
         {
          "K": 43,
          "N": 64,
          "P": 45,
          "index": 41,
          "ph": 5.534878156
         },
         {
          "K": 36,
          "N": 83,
          "P": 60,
          "index": 42,
          "ph": 6.903985986
         },
         {
          "K": 40,
          "N": 82,
          "P": 40,
          "index": 43,
          "ph": 6.271478838
         },
         {
          "K": 45,
          "N": 85,
          "P": 52,
          "index": 44,
          "ph": 7.224285503
         },
         {
          "K": 38,
          "N": 91,
          "P": 35,
          "index": 45,
          "ph": 6.13428721
         },
         {
          "K": 42,
          "N": 76,
          "P": 49,
          "index": 46,
          "ph": 5.206373153
         },
         {
          "K": 38,
          "N": 74,
          "P": 39,
          "index": 47,
          "ph": 7.782051313
         },
         {
          "K": 39,
          "N": 79,
          "P": 43,
          "index": 48,
          "ph": 7.062779015
         },
         {
          "K": 45,
          "N": 88,
          "P": 55,
          "index": 49,
          "ph": 7.730367824
         },
         {
          "K": 43,
          "N": 60,
          "P": 36,
          "index": 50,
          "ph": 5.286203711
         },
         {
          "K": 39,
          "N": 76,
          "P": 60,
          "index": 51,
          "ph": 6.766240045
         },
         {
          "K": 42,
          "N": 93,
          "P": 56,
          "index": 52,
          "ph": 7.382762603
         },
         {
          "K": 43,
          "N": 65,
          "P": 60,
          "index": 53,
          "ph": 5.658169482
         },
         {
          "K": 36,
          "N": 95,
          "P": 52,
          "index": 54,
          "ph": 5.543360238
         },
         {
          "K": 39,
          "N": 75,
          "P": 38,
          "index": 55,
          "ph": 6.215109715
         },
         {
          "K": 38,
          "N": 74,
          "P": 54,
          "index": 56,
          "ph": 7.120272972
         },
         {
          "K": 45,
          "N": 91,
          "P": 36,
          "index": 57,
          "ph": 5.950647577
         },
         {
          "K": 40,
          "N": 71,
          "P": 46,
          "index": 58,
          "ph": 7.236705436
         },
         {
          "K": 35,
          "N": 99,
          "P": 55,
          "index": 59,
          "ph": 6.501697816
         },
         {
          "K": 38,
          "N": 72,
          "P": 40,
          "index": 60,
          "ph": 7.592490617
         },
         {
          "K": 45,
          "N": 83,
          "P": 58,
          "index": 61,
          "ph": 5.875345751
         },
         {
          "K": 38,
          "N": 93,
          "P": 58,
          "index": 62,
          "ph": 6.932400225
         },
         {
          "K": 42,
          "N": 70,
          "P": 36,
          "index": 63,
          "ph": 6.946209881
         },
         {
          "K": 42,
          "N": 76,
          "P": 47,
          "index": 64,
          "ph": 5.739175027
         },
         {
          "K": 36,
          "N": 99,
          "P": 41,
          "index": 65,
          "ph": 6.738652179
         },
         {
          "K": 37,
          "N": 99,
          "P": 54,
          "index": 66,
          "ph": 5.594819626
         },
         {
          "K": 35,
          "N": 86,
          "P": 59,
          "index": 67,
          "ph": 6.946636369
         },
         {
          "K": 41,
          "N": 69,
          "P": 46,
          "index": 68,
          "ph": 5.012139669
         },
         {
          "K": 37,
          "N": 91,
          "P": 56,
          "index": 69,
          "ph": 6.363472208
         },
         {
          "K": 41,
          "N": 61,
          "P": 52,
          "index": 70,
          "ph": 6.880431223
         },
         {
          "K": 38,
          "N": 67,
          "P": 45,
          "index": 71,
          "ph": 7.300410836
         },
         {
          "K": 37,
          "N": 79,
          "P": 42,
          "index": 72,
          "ph": 6.587918708
         },
         {
          "K": 42,
          "N": 78,
          "P": 43,
          "index": 73,
          "ph": 7.283736617
         },
         {
          "K": 36,
          "N": 75,
          "P": 54,
          "index": 74,
          "ph": 7.023936392
         },
         {
          "K": 45,
          "N": 97,
          "P": 36,
          "index": 75,
          "ph": 6.939083505
         },
         {
          "K": 44,
          "N": 67,
          "P": 47,
          "index": 76,
          "ph": 7.868474653
         },
         {
          "K": 38,
          "N": 73,
          "P": 35,
          "index": 77,
          "ph": 5.005306977
         },
         {
          "K": 37,
          "N": 77,
          "P": 36,
          "index": 78,
          "ph": 6.136131869
         },
         {
          "K": 38,
          "N": 81,
          "P": 41,
          "index": 79,
          "ph": 7.524080076
         },
         {
          "K": 43,
          "N": 68,
          "P": 57,
          "index": 80,
          "ph": 5.706943251
         },
         {
          "K": 35,
          "N": 72,
          "P": 45,
          "index": 81,
          "ph": 5.758506323
         },
         {
          "K": 43,
          "N": 61,
          "P": 53,
          "index": 82,
          "ph": 6.349606327
         },
         {
          "K": 39,
          "N": 67,
          "P": 43,
          "index": 83,
          "ph": 5.999969026
         },
         {
          "K": 39,
          "N": 67,
          "P": 58,
          "index": 84,
          "ph": 5.453592032
         },
         {
          "K": 38,
          "N": 66,
          "P": 60,
          "index": 85,
          "ph": 6.372576327
         },
         {
          "K": 38,
          "N": 82,
          "P": 43,
          "index": 86,
          "ph": 5.105588355
         },
         {
          "K": 44,
          "N": 84,
          "P": 50,
          "index": 87,
          "ph": 5.935344406
         },
         {
          "K": 42,
          "N": 81,
          "P": 53,
          "index": 88,
          "ph": 5.17782304
         },
         {
          "K": 40,
          "N": 91,
          "P": 50,
          "index": 89,
          "ph": 6.462391607
         },
         {
          "K": 38,
          "N": 93,
          "P": 53,
          "index": 90,
          "ph": 7.069172227
         },
         {
          "K": 38,
          "N": 90,
          "P": 44,
          "index": 91,
          "ph": 7.473134377
         },
         {
          "K": 35,
          "N": 81,
          "P": 45,
          "index": 92,
          "ph": 6.158376967
         },
         {
          "K": 38,
          "N": 78,
          "P": 40,
          "index": 93,
          "ph": 7.549873681
         },
         {
          "K": 36,
          "N": 60,
          "P": 51,
          "index": 94,
          "ph": 6.028321558
         },
         {
          "K": 42,
          "N": 88,
          "P": 46,
          "index": 95,
          "ph": 6.604993475
         },
         {
          "K": 37,
          "N": 93,
          "P": 47,
          "index": 96,
          "ph": 6.500343222
         },
         {
          "K": 45,
          "N": 60,
          "P": 55,
          "index": 97,
          "ph": 5.935745417
         },
         {
          "K": 44,
          "N": 78,
          "P": 35,
          "index": 98,
          "ph": 7.072655622
         },
         {
          "K": 40,
          "N": 65,
          "P": 37,
          "index": 99,
          "ph": 5.333322606
         },
         {
          "K": 16,
          "N": 71,
          "P": 54,
          "index": 100,
          "ph": 5.749914421
         },
         {
          "K": 17,
          "N": 61,
          "P": 44,
          "index": 101,
          "ph": 6.931756558
         },
         {
          "K": 16,
          "N": 80,
          "P": 43,
          "index": 102,
          "ph": 6.657964753
         },
         {
          "K": 21,
          "N": 73,
          "P": 58,
          "index": 103,
          "ph": 6.596060648
         },
         {
          "K": 20,
          "N": 61,
          "P": 38,
          "index": 104,
          "ph": 5.970458434
         },
         {
          "K": 16,
          "N": 68,
          "P": 41,
          "index": 105,
          "ph": 6.158830619
         },
         {
          "K": 17,
          "N": 93,
          "P": 41,
          "index": 106,
          "ph": 6.047906679
         },
         {
          "K": 19,
          "N": 89,
          "P": 60,
          "index": 107,
          "ph": 5.913664501
         },
         {
          "K": 17,
          "N": 76,
          "P": 44,
          "index": 108,
          "ph": 5.855442401
         },
         {
          "K": 25,
          "N": 67,
          "P": 60,
          "index": 109,
          "ph": 5.750254943
         },
         {
          "K": 19,
          "N": 70,
          "P": 44,
          "index": 110,
          "ph": 5.852607099
         },
         {
          "K": 21,
          "N": 90,
          "P": 49,
          "index": 111,
          "ph": 6.472523287
         },
         {
          "K": 16,
          "N": 62,
          "P": 52,
          "index": 112,
          "ph": 6.967057762
         },
         {
          "K": 16,
          "N": 92,
          "P": 44,
          "index": 113,
          "ph": 6.082973754
         },
         {
          "K": 21,
          "N": 66,
          "P": 54,
          "index": 114,
          "ph": 5.919045532
         },
         {
          "K": 22,
          "N": 63,
          "P": 58,
          "index": 115,
          "ph": 6.204747653
         },
         {
          "K": 17,
          "N": 70,
          "P": 47,
          "index": 116,
          "ph": 6.600827017
         },
         {
          "K": 17,
          "N": 61,
          "P": 41,
          "index": 117,
          "ph": 6.021902237
         },
         {
          "K": 19,
          "N": 66,
          "P": 53,
          "index": 118,
          "ph": 6.033550195
         },
         {
          "K": 19,
          "N": 74,
          "P": 55,
          "index": 119,
          "ph": 6.28886807
         },
         {
          "K": 21,
          "N": 77,
          "P": 57,
          "index": 120,
          "ph": 6.550563823
         },
         {
          "K": 15,
          "N": 99,
          "P": 50,
          "index": 121,
          "ph": 5.573286437
         },
         {
          "K": 22,
          "N": 74,
          "P": 56,
          "index": 122,
          "ph": 6.829199275
         },
         {
          "K": 21,
          "N": 83,
          "P": 45,
          "index": 123,
          "ph": 5.716222912
         },
         {
          "K": 16,
          "N": 100,
          "P": 48,
          "index": 124,
          "ph": 5.54990242
         },
         {
          "K": 16,
          "N": 79,
          "P": 51,
          "index": 125,
          "ph": 6.586244581
         },
         {
          "K": 18,
          "N": 94,
          "P": 39,
          "index": 126,
          "ph": 5.893093135
         },
         {
          "K": 15,
          "N": 75,
          "P": 49,
          "index": 127,
          "ph": 5.918263801
         },
         {
          "K": 22,
          "N": 78,
          "P": 48,
          "index": 128,
          "ph": 5.588650585
         },
         {
          "K": 20,
          "N": 87,
          "P": 54,
          "index": 129,
          "ph": 6.576418207
         },
         {
          "K": 25,
          "N": 87,
          "P": 35,
          "index": 130,
          "ph": 6.178056304
         },
         {
          "K": 19,
          "N": 63,
          "P": 43,
          "index": 131,
          "ph": 6.641906353
         },
         {
          "K": 25,
          "N": 84,
          "P": 57,
          "index": 132,
          "ph": 6.489040367
         },
         {
          "K": 23,
          "N": 64,
          "P": 35,
          "index": 133,
          "ph": 5.680361038
         },
         {
          "K": 22,
          "N": 60,
          "P": 46,
          "index": 134,
          "ph": 6.625404348
         },
         {
          "K": 21,
          "N": 98,
          "P": 44,
          "index": 135,
          "ph": 6.524478032
         },
         {
          "K": 18,
          "N": 75,
          "P": 56,
          "index": 136,
          "ph": 5.696205468
         },
         {
          "K": 21,
          "N": 86,
          "P": 55,
          "index": 137,
          "ph": 6.803931519
         },
         {
          "K": 18,
          "N": 98,
          "P": 35,
          "index": 138,
          "ph": 6.252797548
         },
         {
          "K": 18,
          "N": 76,
          "P": 57,
          "index": 139,
          "ph": 6.092725883
         },
         {
          "K": 17,
          "N": 99,
          "P": 56,
          "index": 140,
          "ph": 6.234330356
         },
         {
          "K": 23,
          "N": 60,
          "P": 44,
          "index": 141,
          "ph": 5.722579819
         },
         {
          "K": 17,
          "N": 74,
          "P": 48,
          "index": 142,
          "ph": 6.430616465
         },
         {
          "K": 17,
          "N": 89,
          "P": 60,
          "index": 143,
          "ph": 5.983952675
         },
         {
          "K": 23,
          "N": 69,
          "P": 51,
          "index": 144,
          "ph": 6.80163854
         },
         {
          "K": 22,
          "N": 96,
          "P": 46,
          "index": 145,
          "ph": 6.499936446
         },
         {
          "K": 15,
          "N": 61,
          "P": 60,
          "index": 146,
          "ph": 6.265564338
         },
         {
          "K": 18,
          "N": 74,
          "P": 58,
          "index": 147,
          "ph": 6.727303282
         },
         {
          "K": 23,
          "N": 74,
          "P": 43,
          "index": 148,
          "ph": 6.325235159
         },
         {
          "K": 17,
          "N": 63,
          "P": 43,
          "index": 149,
          "ph": 6.807487794
         },
         {
          "K": 20,
          "N": 99,
          "P": 36,
          "index": 150,
          "ph": 6.671085817
         },
         {
          "K": 23,
          "N": 77,
          "P": 36,
          "index": 151,
          "ph": 6.648725327
         },
         {
          "K": 23,
          "N": 87,
          "P": 60,
          "index": 152,
          "ph": 6.439071996
         },
         {
          "K": 17,
          "N": 60,
          "P": 38,
          "index": 153,
          "ph": 6.474476516
         },
         {
          "K": 17,
          "N": 94,
          "P": 54,
          "index": 154,
          "ph": 5.871647806
         },
         {
          "K": 22,
          "N": 95,
          "P": 38,
          "index": 155,
          "ph": 5.730617109
         },
         {
          "K": 21,
          "N": 84,
          "P": 44,
          "index": 156,
          "ph": 5.850439831
         },
         {
          "K": 19,
          "N": 77,
          "P": 58,
          "index": 157,
          "ph": 5.791649933
         },
         {
          "K": 20,
          "N": 66,
          "P": 44,
          "index": 158,
          "ph": 6.740000688
         },
         {
          "K": 16,
          "N": 63,
          "P": 35,
          "index": 159,
          "ph": 6.272417541
         },
         {
          "K": 20,
          "N": 79,
          "P": 45,
          "index": 160,
          "ph": 5.715208817
         },
         {
          "K": 25,
          "N": 72,
          "P": 60,
          "index": 161,
          "ph": 5.773454729
         },
         {
          "K": 24,
          "N": 67,
          "P": 51,
          "index": 162,
          "ph": 5.584171461
         },
         {
          "K": 24,
          "N": 86,
          "P": 36,
          "index": 163,
          "ph": 5.787268394
         },
         {
          "K": 18,
          "N": 76,
          "P": 48,
          "index": 164,
          "ph": 5.77597783
         },
         {
          "K": 18,
          "N": 75,
          "P": 53,
          "index": 165,
          "ph": 6.864793607
         },
         {
          "K": 23,
          "N": 81,
          "P": 45,
          "index": 166,
          "ph": 6.192360003
         },
         {
          "K": 21,
          "N": 73,
          "P": 45,
          "index": 167,
          "ph": 6.636803223
         },
         {
          "K": 24,
          "N": 71,
          "P": 35,
          "index": 168,
          "ph": 5.826426917
         },
         {
          "K": 22,
          "N": 96,
          "P": 54,
          "index": 169,
          "ph": 6.960358276
         },
         {
          "K": 18,
          "N": 99,
          "P": 39,
          "index": 170,
          "ph": 6.11275104
         },
         {
          "K": 20,
          "N": 62,
          "P": 48,
          "index": 171,
          "ph": 6.708446922
         },
         {
          "K": 16,
          "N": 86,
          "P": 37,
          "index": 172,
          "ph": 5.561510732
         },
         {
          "K": 19,
          "N": 94,
          "P": 50,
          "index": 173,
          "ph": 5.873242491
         },
         {
          "K": 24,
          "N": 76,
          "P": 39,
          "index": 174,
          "ph": 6.995843776
         },
         {
          "K": 17,
          "N": 77,
          "P": 52,
          "index": 175,
          "ph": 5.714799723
         },
         {
          "K": 23,
          "N": 74,
          "P": 39,
          "index": 176,
          "ph": 6.78073637
         },
         {
          "K": 20,
          "N": 81,
          "P": 49,
          "index": 177,
          "ph": 5.513697923
         },
         {
          "K": 21,
          "N": 63,
          "P": 42,
          "index": 178,
          "ph": 5.798423908
         },
         {
          "K": 21,
          "N": 99,
          "P": 38,
          "index": 179,
          "ph": 6.352471866
         },
         {
          "K": 25,
          "N": 90,
          "P": 52,
          "index": 180,
          "ph": 6.822586546
         },
         {
          "K": 19,
          "N": 68,
          "P": 40,
          "index": 181,
          "ph": 6.655426355
         },
         {
          "K": 24,
          "N": 60,
          "P": 57,
          "index": 182,
          "ph": 6.121294041
         },
         {
          "K": 18,
          "N": 71,
          "P": 52,
          "index": 183,
          "ph": 5.790770203
         },
         {
          "K": 17,
          "N": 61,
          "P": 59,
          "index": 184,
          "ph": 6.47444292
         },
         {
          "K": 15,
          "N": 88,
          "P": 38,
          "index": 185,
          "ph": 6.455116637
         },
         {
          "K": 22,
          "N": 65,
          "P": 60,
          "index": 186,
          "ph": 6.606984086
         },
         {
          "K": 22,
          "N": 78,
          "P": 37,
          "index": 187,
          "ph": 6.330554389
         },
         {
          "K": 15,
          "N": 78,
          "P": 58,
          "index": 188,
          "ph": 6.528631266
         },
         {
          "K": 23,
          "N": 92,
          "P": 60,
          "index": 189,
          "ph": 5.721667141
         },
         {
          "K": 17,
          "N": 79,
          "P": 59,
          "index": 190,
          "ph": 6.644205485
         },
         {
          "K": 15,
          "N": 91,
          "P": 55,
          "index": 191,
          "ph": 6.376651091
         },
         {
          "K": 18,
          "N": 76,
          "P": 51,
          "index": 192,
          "ph": 6.247040422
         },
         {
          "K": 25,
          "N": 87,
          "P": 48,
          "index": 193,
          "ph": 6.656730008
         },
         {
          "K": 22,
          "N": 71,
          "P": 60,
          "index": 194,
          "ph": 6.2048017
         },
         {
          "K": 24,
          "N": 90,
          "P": 57,
          "index": 195,
          "ph": 6.158860284
         },
         {
          "K": 22,
          "N": 67,
          "P": 35,
          "index": 196,
          "ph": 6.385684214
         },
         {
          "K": 19,
          "N": 60,
          "P": 54,
          "index": 197,
          "ph": 6.417820493
         },
         {
          "K": 23,
          "N": 83,
          "P": 58,
          "index": 198,
          "ph": 6.381201909
         },
         {
          "K": 19,
          "N": 83,
          "P": 57,
          "index": 199,
          "ph": 6.877869005
         },
         {
          "K": 77,
          "N": 40,
          "P": 72,
          "index": 200,
          "ph": 7.485996067
         },
         {
          "K": 84,
          "N": 23,
          "P": 72,
          "index": 201,
          "ph": 6.920251378
         },
         {
          "K": 85,
          "N": 39,
          "P": 58,
          "index": 202,
          "ph": 5.996932037
         },
         {
          "K": 85,
          "N": 22,
          "P": 72,
          "index": 203,
          "ph": 6.391173589
         },
         {
          "K": 77,
          "N": 36,
          "P": 67,
          "index": 204,
          "ph": 7.152811172
         },
         {
          "K": 81,
          "N": 32,
          "P": 73,
          "index": 205,
          "ph": 5.988992796
         },
         {
          "K": 84,
          "N": 58,
          "P": 70,
          "index": 206,
          "ph": 6.231049028
         },
         {
          "K": 84,
          "N": 59,
          "P": 70,
          "index": 207,
          "ph": 7.550808267
         },
         {
          "K": 75,
          "N": 42,
          "P": 62,
          "index": 208,
          "ph": 7.010570541
         },
         {
          "K": 81,
          "N": 28,
          "P": 74,
          "index": 209,
          "ph": 8.753795334
         },
         {
          "K": 79,
          "N": 58,
          "P": 66,
          "index": 210,
          "ph": 8.718192847
         },
         {
          "K": 79,
          "N": 43,
          "P": 66,
          "index": 211,
          "ph": 7.976607593
         },
         {
          "K": 81,
          "N": 58,
          "P": 63,
          "index": 212,
          "ph": 6.515499549
         },
         {
          "K": 85,
          "N": 23,
          "P": 62,
          "index": 213,
          "ph": 8.490127142
         },
         {
          "K": 77,
          "N": 27,
          "P": 62,
          "index": 214,
          "ph": 6.576415562
         },
         {
          "K": 84,
          "N": 28,
          "P": 72,
          "index": 215,
          "ph": 6.481783043
         },
         {
          "K": 76,
          "N": 50,
          "P": 56,
          "index": 216,
          "ph": 7.966605025
         },
         {
          "K": 84,
          "N": 39,
          "P": 71,
          "index": 217,
          "ph": 8.140825437
         },
         {
          "K": 76,
          "N": 25,
          "P": 78,
          "index": 218,
          "ph": 7.228963452
         },
         {
          "K": 77,
          "N": 31,
          "P": 70,
          "index": 219,
          "ph": 6.492546046
         },
         {
          "K": 83,
          "N": 26,
          "P": 80,
          "index": 220,
          "ph": 7.528599957
         },
         {
          "K": 77,
          "N": 25,
          "P": 68,
          "index": 221,
          "ph": 7.701446446
         },
         {
          "K": 76,
          "N": 31,
          "P": 78,
          "index": 222,
          "ph": 8.519975748
         },
         {
          "K": 83,
          "N": 60,
          "P": 68,
          "index": 223,
          "ph": 6.620900869
         },
         {
          "K": 83,
          "N": 59,
          "P": 62,
          "index": 224,
          "ph": 8.104396058
         },
         {
          "K": 78,
          "N": 22,
          "P": 67,
          "index": 225,
          "ph": 6.204090835
         },
         {
          "K": 80,
          "N": 36,
          "P": 65,
          "index": 226,
          "ph": 6.051091339
         },
         {
          "K": 84,
          "N": 59,
          "P": 60,
          "index": 227,
          "ph": 7.690962338
         },
         {
          "K": 85,
          "N": 54,
          "P": 77,
          "index": 228,
          "ph": 7.829211144
         },
         {
          "K": 81,
          "N": 43,
          "P": 68,
          "index": 229,
          "ph": 6.761599706
         },
         {
          "K": 82,
          "N": 28,
          "P": 76,
          "index": 230,
          "ph": 6.654425315
         },
         {
          "K": 85,
          "N": 42,
          "P": 79,
          "index": 231,
          "ph": 6.129533877
         },
         {
          "K": 83,
          "N": 32,
          "P": 60,
          "index": 232,
          "ph": 8.829273328
         },
         {
          "K": 76,
          "N": 22,
          "P": 78,
          "index": 233,
          "ph": 8.621662982
         },
         {
          "K": 75,
          "N": 31,
          "P": 79,
          "index": 234,
          "ph": 8.204862075
         },
         {
          "K": 81,
          "N": 28,
          "P": 58,
          "index": 235,
          "ph": 6.18042747
         },
         {
          "K": 77,
          "N": 57,
          "P": 58,
          "index": 236,
          "ph": 7.978996755
         },
         {
          "K": 78,
          "N": 49,
          "P": 55,
          "index": 237,
          "ph": 7.863113671
         },
         {
          "K": 77,
          "N": 46,
          "P": 76,
          "index": 238,
          "ph": 6.967843048
         },
         {
          "K": 77,
          "N": 54,
          "P": 61,
          "index": 239,
          "ph": 6.206582193
         },
         {
          "K": 76,
          "N": 38,
          "P": 60,
          "index": 240,
          "ph": 8.868741443
         },
         {
          "K": 79,
          "N": 59,
          "P": 55,
          "index": 241,
          "ph": 8.766128654
         },
         {
          "K": 75,
          "N": 36,
          "P": 76,
          "index": 242,
          "ph": 8.736337905
         },
         {
          "K": 81,
          "N": 57,
          "P": 68,
          "index": 243,
          "ph": 8.081095263
         },
         {
          "K": 81,
          "N": 35,
          "P": 66,
          "index": 244,
          "ph": 6.138243973
         },
         {
          "K": 78,
          "N": 35,
          "P": 64,
          "index": 245,
          "ph": 7.496645259
         },
         {
          "K": 79,
          "N": 52,
          "P": 60,
          "index": 246,
          "ph": 8.380185271
         },
         {
          "K": 83,
          "N": 27,
          "P": 76,
          "index": 247,
          "ph": 6.289614016
         },
         {
          "K": 84,
          "N": 57,
          "P": 60,
          "index": 248,
          "ph": 6.586777189
         },
         {
          "K": 78,
          "N": 52,
          "P": 68,
          "index": 249,
          "ph": 6.89655198
         },
         {
          "K": 79,
          "N": 43,
          "P": 79,
          "index": 250,
          "ph": 7.806747656
         },
         {
          "K": 85,
          "N": 44,
          "P": 74,
          "index": 251,
          "ph": 7.150681303
         },
         {
          "K": 78,
          "N": 24,
          "P": 55,
          "index": 252,
          "ph": 6.64919573
         },
         {
          "K": 75,
          "N": 29,
          "P": 77,
          "index": 253,
          "ph": 7.778591618
         },
         {
          "K": 78,
          "N": 20,
          "P": 60,
          "index": 254,
          "ph": 6.358740355
         },
         {
          "K": 78,
          "N": 56,
          "P": 67,
          "index": 255,
          "ph": 8.255450758
         },
         {
          "K": 85,
          "N": 37,
          "P": 66,
          "index": 256,
          "ph": 6.456148474
         },
         {
          "K": 76,
          "N": 49,
          "P": 71,
          "index": 257,
          "ph": 6.613072145
         },
         {
          "K": 80,
          "N": 59,
          "P": 69,
          "index": 258,
          "ph": 8.165359297
         },
         {
          "K": 77,
          "N": 20,
          "P": 79,
          "index": 259,
          "ph": 7.64867466
         },
         {
          "K": 85,
          "N": 24,
          "P": 56,
          "index": 260,
          "ph": 6.545888558
         },
         {
          "K": 75,
          "N": 51,
          "P": 72,
          "index": 261,
          "ph": 7.104224797
         },
         {
          "K": 85,
          "N": 57,
          "P": 73,
          "index": 262,
          "ph": 7.358099622
         },
         {
          "K": 82,
          "N": 22,
          "P": 64,
          "index": 263,
          "ph": 6.4740245
         },
         {
          "K": 79,
          "N": 52,
          "P": 73,
          "index": 264,
          "ph": 7.840339389
         },
         {
          "K": 75,
          "N": 29,
          "P": 75,
          "index": 265,
          "ph": 7.064790365
         },
         {
          "K": 78,
          "N": 44,
          "P": 59,
          "index": 266,
          "ph": 7.599033472
         },
         {
          "K": 82,
          "N": 41,
          "P": 69,
          "index": 267,
          "ph": 6.715587232
         },
         {
          "K": 85,
          "N": 52,
          "P": 56,
          "index": 268,
          "ph": 6.81712422
         },
         {
          "K": 80,
          "N": 34,
          "P": 76,
          "index": 269,
          "ph": 7.985417393
         },
         {
          "K": 83,
          "N": 42,
          "P": 74,
          "index": 270,
          "ph": 7.545258424
         },
         {
          "K": 79,
          "N": 34,
          "P": 71,
          "index": 271,
          "ph": 7.728998197
         },
         {
          "K": 79,
          "N": 27,
          "P": 73,
          "index": 272,
          "ph": 7.354973451
         },
         {
          "K": 79,
          "N": 30,
          "P": 70,
          "index": 273,
          "ph": 7.313122235
         },
         {
          "K": 75,
          "N": 57,
          "P": 57,
          "index": 274,
          "ph": 7.785039076
         },
         {
          "K": 82,
          "N": 27,
          "P": 79,
          "index": 275,
          "ph": 6.307004923
         },
         {
          "K": 85,
          "N": 32,
          "P": 71,
          "index": 276,
          "ph": 6.403982316
         },
         {
          "K": 82,
          "N": 31,
          "P": 76,
          "index": 277,
          "ph": 7.599279991
         },
         {
          "K": 84,
          "N": 33,
          "P": 75,
          "index": 278,
          "ph": 7.217018459
         },
         {
          "K": 77,
          "N": 47,
          "P": 80,
          "index": 279,
          "ph": 7.561108006
         },
         {
          "K": 80,
          "N": 54,
          "P": 62,
          "index": 280,
          "ph": 7.489545074
         },
         {
          "K": 78,
          "N": 47,
          "P": 79,
          "index": 281,
          "ph": 6.609696734
         },
         {
          "K": 83,
          "N": 35,
          "P": 57,
          "index": 282,
          "ph": 7.476800943
         },
         {
          "K": 77,
          "N": 53,
          "P": 73,
          "index": 283,
          "ph": 7.325451279
         },
         {
          "K": 78,
          "N": 45,
          "P": 61,
          "index": 284,
          "ph": 6.489389282
         },
         {
          "K": 79,
          "N": 37,
          "P": 78,
          "index": 285,
          "ph": 7.786366322
         },
         {
          "K": 81,
          "N": 30,
          "P": 75,
          "index": 286,
          "ph": 6.408437886
         },
         {
          "K": 82,
          "N": 37,
          "P": 55,
          "index": 287,
          "ph": 8.423873703
         },
         {
          "K": 76,
          "N": 53,
          "P": 65,
          "index": 288,
          "ph": 8.719960893
         },
         {
          "K": 85,
          "N": 22,
          "P": 60,
          "index": 289,
          "ph": 7.811997977
         },
         {
          "K": 78,
          "N": 60,
          "P": 61,
          "index": 290,
          "ph": 6.317153205
         },
         {
          "K": 77,
          "N": 42,
          "P": 67,
          "index": 291,
          "ph": 7.114405288
         },
         {
          "K": 76,
          "N": 39,
          "P": 76,
          "index": 292,
          "ph": 8.135900726
         },
         {
          "K": 76,
          "N": 35,
          "P": 63,
          "index": 293,
          "ph": 7.714153038
         },
         {
          "K": 82,
          "N": 30,
          "P": 65,
          "index": 294,
          "ph": 7.103798069
         },
         {
          "K": 78,
          "N": 57,
          "P": 56,
          "index": 295,
          "ph": 8.861479668
         },
         {
          "K": 78,
          "N": 48,
          "P": 65,
          "index": 296,
          "ph": 7.861128148
         },
         {
          "K": 83,
          "N": 36,
          "P": 56,
          "index": 297,
          "ph": 7.4526709
         },
         {
          "K": 75,
          "N": 40,
          "P": 58,
          "index": 298,
          "ph": 7.168096055
         },
         {
          "K": 82,
          "N": 49,
          "P": 69,
          "index": 299,
          "ph": 7.26311855
         },
         {
          "K": 25,
          "N": 13,
          "P": 60,
          "index": 300,
          "ph": 5.68597166
         },
         {
          "K": 16,
          "N": 25,
          "P": 70,
          "index": 301,
          "ph": 5.759237003
         },
         {
          "K": 22,
          "N": 31,
          "P": 55,
          "index": 302,
          "ph": 5.873171894
         },
         {
          "K": 16,
          "N": 40,
          "P": 64,
          "index": 303,
          "ph": 5.926676985
         },
         {
          "K": 20,
          "N": 2,
          "P": 61,
          "index": 304,
          "ph": 5.95561668
         },
         {
          "K": 22,
          "N": 26,
          "P": 65,
          "index": 305,
          "ph": 5.949949081
         },
         {
          "K": 21,
          "N": 17,
          "P": 57,
          "index": 306,
          "ph": 5.789214289
         },
         {
          "K": 18,
          "N": 26,
          "P": 80,
          "index": 307,
          "ph": 5.581021521
         },
         {
          "K": 17,
          "N": 17,
          "P": 59,
          "index": 308,
          "ph": 5.689858133
         },
         {
          "K": 22,
          "N": 27,
          "P": 59,
          "index": 309,
          "ph": 5.794158504
         },
         {
          "K": 24,
          "N": 28,
          "P": 58,
          "index": 310,
          "ph": 5.748190463
         },
         {
          "K": 19,
          "N": 25,
          "P": 57,
          "index": 311,
          "ph": 5.566522896
         },
         {
          "K": 17,
          "N": 28,
          "P": 80,
          "index": 312,
          "ph": 5.809419584
         },
         {
          "K": 22,
          "N": 25,
          "P": 60,
          "index": 313,
          "ph": 5.887263027
         },
         {
          "K": 23,
          "N": 12,
          "P": 78,
          "index": 314,
          "ph": 5.99812453
         },
         {
          "K": 25,
          "N": 6,
          "P": 77,
          "index": 315,
          "ph": 5.792744849
         },
         {
          "K": 17,
          "N": 22,
          "P": 79,
          "index": 316,
          "ph": 5.912289889
         },
         {
          "K": 15,
          "N": 27,
          "P": 80,
          "index": 317,
          "ph": 5.788386951
         },
         {
          "K": 23,
          "N": 10,
          "P": 55,
          "index": 318,
          "ph": 5.728233081
         },
         {
          "K": 20,
          "N": 23,
          "P": 65,
          "index": 319,
          "ph": 5.833940084
         },
         {
          "K": 16,
          "N": 19,
          "P": 78,
          "index": 320,
          "ph": 5.967533236
         },
         {
          "K": 25,
          "N": 19,
          "P": 65,
          "index": 321,
          "ph": 5.625096446
         },
         {
          "K": 19,
          "N": 22,
          "P": 70,
          "index": 322,
          "ph": 5.515615023
         },
         {
          "K": 22,
          "N": 37,
          "P": 64,
          "index": 323,
          "ph": 5.954665349
         },
         {
          "K": 17,
          "N": 11,
          "P": 71,
          "index": 324,
          "ph": 5.74644777
         },
         {
          "K": 20,
          "N": 18,
          "P": 79,
          "index": 325,
          "ph": 5.877347515
         },
         {
          "K": 17,
          "N": 21,
          "P": 63,
          "index": 326,
          "ph": 5.979973965
         },
         {
          "K": 22,
          "N": 24,
          "P": 80,
          "index": 327,
          "ph": 5.635993966
         },
         {
          "K": 22,
          "N": 34,
          "P": 60,
          "index": 328,
          "ph": 5.635231778
         },
         {
          "K": 21,
          "N": 16,
          "P": 75,
          "index": 329,
          "ph": 5.679224346
         },
         {
          "K": 23,
          "N": 17,
          "P": 77,
          "index": 330,
          "ph": 5.670062975
         },
         {
          "K": 18,
          "N": 37,
          "P": 72,
          "index": 331,
          "ph": 5.724242065
         },
         {
          "K": 20,
          "N": 40,
          "P": 73,
          "index": 332,
          "ph": 5.811314232
         },
         {
          "K": 17,
          "N": 9,
          "P": 77,
          "index": 333,
          "ph": 5.783425416
         },
         {
          "K": 23,
          "N": 1,
          "P": 62,
          "index": 334,
          "ph": 5.607808432
         },
         {
          "K": 22,
          "N": 33,
          "P": 59,
          "index": 335,
          "ph": 5.946999529
         },
         {
          "K": 19,
          "N": 23,
          "P": 59,
          "index": 336,
          "ph": 5.852046999
         },
         {
          "K": 22,
          "N": 6,
          "P": 62,
          "index": 337,
          "ph": 5.824090984
         },
         {
          "K": 20,
          "N": 25,
          "P": 63,
          "index": 338,
          "ph": 5.502999119
         },
         {
          "K": 23,
          "N": 7,
          "P": 79,
          "index": 339,
          "ph": 5.821649914
         },
         {
          "K": 17,
          "N": 8,
          "P": 72,
          "index": 340,
          "ph": 5.711439256
         },
         {
          "K": 15,
          "N": 27,
          "P": 64,
          "index": 341,
          "ph": 5.514927264
         },
         {
          "K": 23,
          "N": 28,
          "P": 66,
          "index": 342,
          "ph": 5.99616119
         },
         {
          "K": 18,
          "N": 32,
          "P": 57,
          "index": 343,
          "ph": 5.695422863
         },
         {
          "K": 22,
          "N": 27,
          "P": 56,
          "index": 344,
          "ph": 5.833010958
         },
         {
          "K": 24,
          "N": 17,
          "P": 77,
          "index": 345,
          "ph": 5.568456899
         },
         {
          "K": 15,
          "N": 0,
          "P": 65,
          "index": 346,
          "ph": 5.645435626
         },
         {
          "K": 21,
          "N": 13,
          "P": 72,
          "index": 347,
          "ph": 5.821194486
         },
         {
          "K": 23,
          "N": 34,
          "P": 60,
          "index": 348,
          "ph": 5.659254981
         },
         {
          "K": 19,
          "N": 9,
          "P": 80,
          "index": 349,
          "ph": 5.945465949
         },
         {
          "K": 20,
          "N": 11,
          "P": 72,
          "index": 350,
          "ph": 5.951177452
         },
         {
          "K": 24,
          "N": 3,
          "P": 67,
          "index": 351,
          "ph": 5.520880014
         },
         {
          "K": 23,
          "N": 35,
          "P": 69,
          "index": 352,
          "ph": 5.578410206
         },
         {
          "K": 25,
          "N": 3,
          "P": 77,
          "index": 353,
          "ph": 5.608165195
         },
         {
          "K": 19,
          "N": 23,
          "P": 62,
          "index": 354,
          "ph": 5.609435128
         },
         {
          "K": 17,
          "N": 22,
          "P": 71,
          "index": 355,
          "ph": 5.509295379
         },
         {
          "K": 25,
          "N": 31,
          "P": 79,
          "index": 356,
          "ph": 5.902033406
         },
         {
          "K": 18,
          "N": 34,
          "P": 59,
          "index": 357,
          "ph": 5.744117663
         },
         {
          "K": 17,
          "N": 12,
          "P": 63,
          "index": 358,
          "ph": 5.717143397
         },
         {
          "K": 20,
          "N": 27,
          "P": 56,
          "index": 359,
          "ph": 5.542690119
         },
         {
          "K": 24,
          "N": 7,
          "P": 63,
          "index": 360,
          "ph": 5.858617867
         },
         {
          "K": 22,
          "N": 24,
          "P": 67,
          "index": 361,
          "ph": 5.618844277
         },
         {
          "K": 24,
          "N": 11,
          "P": 71,
          "index": 362,
          "ph": 5.606620346
         },
         {
          "K": 15,
          "N": 37,
          "P": 74,
          "index": 363,
          "ph": 5.582178402
         },
         {
          "K": 24,
          "N": 25,
          "P": 76,
          "index": 364,
          "ph": 5.56503533
         },
         {
          "K": 17,
          "N": 34,
          "P": 66,
          "index": 365,
          "ph": 5.889614577
         },
         {
          "K": 15,
          "N": 20,
          "P": 69,
          "index": 366,
          "ph": 5.934136378
         },
         {
          "K": 16,
          "N": 37,
          "P": 65,
          "index": 367,
          "ph": 5.683548308
         },
         {
          "K": 15,
          "N": 18,
          "P": 74,
          "index": 368,
          "ph": 5.70836603
         },
         {
          "K": 25,
          "N": 4,
          "P": 67,
          "index": 369,
          "ph": 5.948164454
         },
         {
          "K": 25,
          "N": 37,
          "P": 56,
          "index": 370,
          "ph": 5.774755144
         },
         {
          "K": 15,
          "N": 5,
          "P": 59,
          "index": 371,
          "ph": 5.97229163
         },
         {
          "K": 21,
          "N": 11,
          "P": 61,
          "index": 372,
          "ph": 5.532100554
         },
         {
          "K": 20,
          "N": 22,
          "P": 80,
          "index": 373,
          "ph": 5.669560726
         },
         {
          "K": 19,
          "N": 12,
          "P": 61,
          "index": 374,
          "ph": 5.655726817
         },
         {
          "K": 21,
          "N": 5,
          "P": 74,
          "index": 375,
          "ph": 5.591704014
         },
         {
          "K": 22,
          "N": 27,
          "P": 69,
          "index": 376,
          "ph": 5.932323085
         },
         {
          "K": 18,
          "N": 31,
          "P": 75,
          "index": 377,
          "ph": 5.824208309
         },
         {
          "K": 20,
          "N": 36,
          "P": 68,
          "index": 378,
          "ph": 5.86442953
         },
         {
          "K": 16,
          "N": 5,
          "P": 65,
          "index": 379,
          "ph": 5.866744372
         },
         {
          "K": 15,
          "N": 32,
          "P": 79,
          "index": 380,
          "ph": 5.706198621
         },
         {
          "K": 22,
          "N": 11,
          "P": 78,
          "index": 381,
          "ph": 5.940546818
         },
         {
          "K": 22,
          "N": 0,
          "P": 55,
          "index": 382,
          "ph": 5.916779289
         },
         {
          "K": 15,
          "N": 14,
          "P": 59,
          "index": 383,
          "ph": 5.779090476
         },
         {
          "K": 23,
          "N": 29,
          "P": 68,
          "index": 384,
          "ph": 5.82738029
         },
         {
          "K": 19,
          "N": 32,
          "P": 68,
          "index": 385,
          "ph": 5.514234138
         },
         {
          "K": 17,
          "N": 17,
          "P": 64,
          "index": 386,
          "ph": 5.662699104
         },
         {
          "K": 19,
          "N": 13,
          "P": 69,
          "index": 387,
          "ph": 5.86390397
         },
         {
          "K": 22,
          "N": 14,
          "P": 67,
          "index": 388,
          "ph": 5.624690248
         },
         {
          "K": 20,
          "N": 9,
          "P": 69,
          "index": 389,
          "ph": 5.591560999
         },
         {
          "K": 22,
          "N": 20,
          "P": 73,
          "index": 390,
          "ph": 5.976312538
         },
         {
          "K": 20,
          "N": 40,
          "P": 78,
          "index": 391,
          "ph": 5.669236258
         },
         {
          "K": 23,
          "N": 27,
          "P": 72,
          "index": 392,
          "ph": 5.961934481
         },
         {
          "K": 15,
          "N": 14,
          "P": 67,
          "index": 393,
          "ph": 5.690065688
         },
         {
          "K": 18,
          "N": 7,
          "P": 56,
          "index": 394,
          "ph": 5.698371311
         },
         {
          "K": 18,
          "N": 27,
          "P": 65,
          "index": 395,
          "ph": 5.59503163
         },
         {
          "K": 16,
          "N": 30,
          "P": 63,
          "index": 396,
          "ph": 5.525904526
         },
         {
          "K": 25,
          "N": 37,
          "P": 70,
          "index": 397,
          "ph": 5.819403771
         },
         {
          "K": 19,
          "N": 27,
          "P": 63,
          "index": 398,
          "ph": 5.562201934
         },
         {
          "K": 24,
          "N": 22,
          "P": 60,
          "index": 399,
          "ph": 5.630664753
         },
         {
          "K": 24,
          "N": 3,
          "P": 72,
          "index": 400,
          "ph": 6.03160778
         },
         {
          "K": 23,
          "N": 40,
          "P": 59,
          "index": 401,
          "ph": 5.269084669
         },
         {
          "K": 23,
          "N": 33,
          "P": 73,
          "index": 402,
          "ph": 5.985792703
         },
         {
          "K": 24,
          "N": 27,
          "P": 57,
          "index": 403,
          "ph": 6.09186275
         },
         {
          "K": 18,
          "N": 10,
          "P": 79,
          "index": 404,
          "ph": 5.624731338
         },
         {
          "K": 25,
          "N": 30,
          "P": 75,
          "index": 405,
          "ph": 6.446091759
         },
         {
          "K": 20,
          "N": 40,
          "P": 70,
          "index": 406,
          "ph": 5.623490043
         },
         {
          "K": 19,
          "N": 38,
          "P": 55,
          "index": 407,
          "ph": 5.864623352
         },
         {
          "K": 20,
          "N": 35,
          "P": 58,
          "index": 408,
          "ph": 5.761702519
         },
         {
          "K": 21,
          "N": 38,
          "P": 61,
          "index": 409,
          "ph": 4.696518678
         },
         {
          "K": 24,
          "N": 33,
          "P": 58,
          "index": 410,
          "ph": 5.269504214
         },
         {
          "K": 17,
          "N": 16,
          "P": 56,
          "index": 411,
          "ph": 7.445444883
         },
         {
          "K": 17,
          "N": 31,
          "P": 72,
          "index": 412,
          "ph": 5.833031708
         },
         {
          "K": 20,
          "N": 16,
          "P": 80,
          "index": 413,
          "ph": 7.339320929
         },
         {
          "K": 17,
          "N": 27,
          "P": 72,
          "index": 414,
          "ph": 6.347929353
         },
         {
          "K": 19,
          "N": 40,
          "P": 62,
          "index": 415,
          "ph": 4.697750704
         },
         {
          "K": 16,
          "N": 18,
          "P": 58,
          "index": 416,
          "ph": 4.962661422
         },
         {
          "K": 16,
          "N": 3,
          "P": 68,
          "index": 417,
          "ph": 4.964887857
         },
         {
          "K": 24,
          "N": 26,
          "P": 67,
          "index": 418,
          "ph": 5.642813116
         },
         {
          "K": 20,
          "N": 16,
          "P": 70,
          "index": 419,
          "ph": 5.6093956
         },
         {
          "K": 19,
          "N": 24,
          "P": 63,
          "index": 420,
          "ph": 4.681576043
         },
         {
          "K": 25,
          "N": 9,
          "P": 76,
          "index": 421,
          "ph": 5.70951224
         },
         {
          "K": 19,
          "N": 16,
          "P": 55,
          "index": 422,
          "ph": 6.413543781
         },
         {
          "K": 21,
          "N": 28,
          "P": 75,
          "index": 423,
          "ph": 6.007508163
         },
         {
          "K": 24,
          "N": 16,
          "P": 71,
          "index": 424,
          "ph": 4.946369874
         },
         {
          "K": 21,
          "N": 24,
          "P": 70,
          "index": 425,
          "ph": 5.517208078
         },
         {
          "K": 21,
          "N": 38,
          "P": 72,
          "index": 426,
          "ph": 5.902103172
         },
         {
          "K": 21,
          "N": 9,
          "P": 66,
          "index": 427,
          "ph": 5.719889876
         },
         {
          "K": 17,
          "N": 34,
          "P": 56,
          "index": 428,
          "ph": 4.548202098
         },
         {
          "K": 19,
          "N": 1,
          "P": 76,
          "index": 429,
          "ph": 6.669529416
         },
         {
          "K": 19,
          "N": 6,
          "P": 69,
          "index": 430,
          "ph": 4.750929218
         },
         {
          "K": 21,
          "N": 26,
          "P": 73,
          "index": 431,
          "ph": 4.946263888
         },
         {
          "K": 18,
          "N": 27,
          "P": 61,
          "index": 432,
          "ph": 5.266227032
         },
         {
          "K": 23,
          "N": 27,
          "P": 71,
          "index": 433,
          "ph": 7.10959773
         },
         {
          "K": 21,
          "N": 36,
          "P": 61,
          "index": 434,
          "ph": 5.617008201
         },
         {
          "K": 18,
          "N": 17,
          "P": 73,
          "index": 435,
          "ph": 5.632353113
         },
         {
          "K": 22,
          "N": 26,
          "P": 72,
          "index": 436,
          "ph": 4.674941549
         },
         {
          "K": 16,
          "N": 17,
          "P": 64,
          "index": 437,
          "ph": 7.161797643
         },
         {
          "K": 19,
          "N": 14,
          "P": 74,
          "index": 438,
          "ph": 6.624966131
         },
         {
          "K": 15,
          "N": 39,
          "P": 60,
          "index": 439,
          "ph": 5.004074624
         },
         {
          "K": 15,
          "N": 6,
          "P": 66,
          "index": 440,
          "ph": 6.345806011
         },
         {
          "K": 18,
          "N": 8,
          "P": 59,
          "index": 441,
          "ph": 6.216814453
         },
         {
          "K": 18,
          "N": 2,
          "P": 67,
          "index": 442,
          "ph": 5.921666758
         },
         {
          "K": 17,
          "N": 1,
          "P": 76,
          "index": 443,
          "ph": 6.012719118
         },
         {
          "K": 19,
          "N": 16,
          "P": 73,
          "index": 444,
          "ph": 4.684079249
         },
         {
          "K": 25,
          "N": 23,
          "P": 75,
          "index": 445,
          "ph": 7.077170002
         },
         {
          "K": 20,
          "N": 32,
          "P": 70,
          "index": 446,
          "ph": 6.208843215
         },
         {
          "K": 22,
          "N": 28,
          "P": 59,
          "index": 447,
          "ph": 7.05181629
         },
         {
          "K": 23,
          "N": 5,
          "P": 62,
          "index": 448,
          "ph": 4.722222454
         },
         {
          "K": 25,
          "N": 36,
          "P": 67,
          "index": 449,
          "ph": 6.418062652
         },
         {
          "K": 23,
          "N": 1,
          "P": 66,
          "index": 450,
          "ph": 4.803564468
         },
         {
          "K": 20,
          "N": 24,
          "P": 73,
          "index": 451,
          "ph": 4.608695247
         },
         {
          "K": 18,
          "N": 17,
          "P": 67,
          "index": 452,
          "ph": 5.611510977
         },
         {
          "K": 18,
          "N": 5,
          "P": 55,
          "index": 453,
          "ph": 7.322097972
         },
         {
          "K": 24,
          "N": 5,
          "P": 56,
          "index": 454,
          "ph": 5.023115055
         },
         {
          "K": 17,
          "N": 37,
          "P": 77,
          "index": 455,
          "ph": 5.617122801
         },
         {
          "K": 20,
          "N": 13,
          "P": 73,
          "index": 456,
          "ph": 5.391560418
         },
         {
          "K": 23,
          "N": 6,
          "P": 63,
          "index": 457,
          "ph": 5.906596905
         },
         {
          "K": 22,
          "N": 16,
          "P": 77,
          "index": 458,
          "ph": 6.574209678
         },
         {
          "K": 20,
          "N": 25,
          "P": 64,
          "index": 459,
          "ph": 4.807776749
         },
         {
          "K": 24,
          "N": 34,
          "P": 75,
          "index": 460,
          "ph": 4.760038039
         },
         {
          "K": 23,
          "N": 20,
          "P": 77,
          "index": 461,
          "ph": 5.180271502
         },
         {
          "K": 25,
          "N": 35,
          "P": 80,
          "index": 462,
          "ph": 4.895927306
         },
         {
          "K": 24,
          "N": 14,
          "P": 75,
          "index": 463,
          "ph": 6.436160044
         },
         {
          "K": 21,
          "N": 36,
          "P": 80,
          "index": 464,
          "ph": 7.066087261
         },
         {
          "K": 18,
          "N": 7,
          "P": 77,
          "index": 465,
          "ph": 6.655918078
         },
         {
          "K": 25,
          "N": 29,
          "P": 78,
          "index": 466,
          "ph": 5.982854523
         },
         {
          "K": 21,
          "N": 30,
          "P": 60,
          "index": 467,
          "ph": 5.457871273
         },
         {
          "K": 16,
          "N": 20,
          "P": 74,
          "index": 468,
          "ph": 4.759490199
         },
         {
          "K": 23,
          "N": 19,
          "P": 57,
          "index": 469,
          "ph": 7.342409555
         },
         {
          "K": 19,
          "N": 3,
          "P": 60,
          "index": 470,
          "ph": 4.820788186
         },
         {
          "K": 19,
          "N": 5,
          "P": 77,
          "index": 471,
          "ph": 6.242052013
         },
         {
          "K": 20,
          "N": 5,
          "P": 68,
          "index": 472,
          "ph": 5.001038726
         },
         {
          "K": 21,
          "N": 37,
          "P": 73,
          "index": 473,
          "ph": 5.560224583
         },
         {
          "K": 24,
          "N": 9,
          "P": 59,
          "index": 474,
          "ph": 4.747352458
         },
         {
          "K": 15,
          "N": 20,
          "P": 72,
          "index": 475,
          "ph": 7.313517308
         },
         {
          "K": 23,
          "N": 31,
          "P": 56,
          "index": 476,
          "ph": 5.661826398
         },
         {
          "K": 21,
          "N": 0,
          "P": 70,
          "index": 477,
          "ph": 4.672437054
         },
         {
          "K": 15,
          "N": 21,
          "P": 74,
          "index": 478,
          "ph": 6.471862118
         },
         {
          "K": 18,
          "N": 13,
          "P": 67,
          "index": 479,
          "ph": 5.384762927
         },
         {
          "K": 20,
          "N": 27,
          "P": 74,
          "index": 480,
          "ph": 5.859813416
         },
         {
          "K": 24,
          "N": 29,
          "P": 72,
          "index": 481,
          "ph": 6.962386495
         },
         {
          "K": 20,
          "N": 5,
          "P": 68,
          "index": 482,
          "ph": 6.12166671
         },
         {
          "K": 19,
          "N": 39,
          "P": 57,
          "index": 483,
          "ph": 6.421748487
         },
         {
          "K": 16,
          "N": 22,
          "P": 62,
          "index": 484,
          "ph": 4.828936119
         },
         {
          "K": 23,
          "N": 18,
          "P": 55,
          "index": 485,
          "ph": 6.98571967
         },
         {
          "K": 21,
          "N": 39,
          "P": 77,
          "index": 486,
          "ph": 4.603563116
         },
         {
          "K": 20,
          "N": 13,
          "P": 75,
          "index": 487,
          "ph": 6.979540061
         },
         {
          "K": 24,
          "N": 27,
          "P": 71,
          "index": 488,
          "ph": 7.064973419
         },
         {
          "K": 22,
          "N": 26,
          "P": 64,
          "index": 489,
          "ph": 5.16516459
         },
         {
          "K": 16,
          "N": 23,
          "P": 55,
          "index": 490,
          "ph": 5.111488821
         },
         {
          "K": 19,
          "N": 4,
          "P": 69,
          "index": 491,
          "ph": 5.374358869
         },
         {
          "K": 19,
          "N": 20,
          "P": 67,
          "index": 492,
          "ph": 5.671419084
         },
         {
          "K": 17,
          "N": 7,
          "P": 74,
          "index": 493,
          "ph": 5.667419697
         },
         {
          "K": 18,
          "N": 17,
          "P": 64,
          "index": 494,
          "ph": 6.07938452
         },
         {
          "K": 17,
          "N": 35,
          "P": 71,
          "index": 495,
          "ph": 6.931924963
         },
         {
          "K": 22,
          "N": 11,
          "P": 72,
          "index": 496,
          "ph": 6.842744374
         },
         {
          "K": 22,
          "N": 20,
          "P": 60,
          "index": 497,
          "ph": 6.876572503
         },
         {
          "K": 18,
          "N": 10,
          "P": 71,
          "index": 498,
          "ph": 6.151029296
         },
         {
          "K": 24,
          "N": 33,
          "P": 61,
          "index": 499,
          "ph": 4.567446499
         },
         {
          "K": 18,
          "N": 3,
          "P": 49,
          "index": 500,
          "ph": 3.692863601
         },
         {
          "K": 23,
          "N": 22,
          "P": 59,
          "index": 501,
          "ph": 4.371745575
         },
         {
          "K": 25,
          "N": 36,
          "P": 58,
          "index": 502,
          "ph": 8.399135958
         },
         {
          "K": 18,
          "N": 4,
          "P": 43,
          "index": 503,
          "ph": 8.840656256
         },
         {
          "K": 16,
          "N": 29,
          "P": 54,
          "index": 504,
          "ph": 8.153022903
         },
         {
          "K": 22,
          "N": 32,
          "P": 43,
          "index": 505,
          "ph": 5.270749441
         },
         {
          "K": 15,
          "N": 14,
          "P": 55,
          "index": 506,
          "ph": 8.050304395
         },
         {
          "K": 20,
          "N": 5,
          "P": 35,
          "index": 507,
          "ph": 9.679240873
         },
         {
          "K": 24,
          "N": 25,
          "P": 57,
          "index": 508,
          "ph": 6.974978386
         },
         {
          "K": 24,
          "N": 11,
          "P": 53,
          "index": 509,
          "ph": 7.39389918
         },
         {
          "K": 17,
          "N": 40,
          "P": 49,
          "index": 510,
          "ph": 6.68727523
         },
         {
          "K": 25,
          "N": 38,
          "P": 56,
          "index": 511,
          "ph": 7.88118645
         },
         {
          "K": 23,
          "N": 27,
          "P": 43,
          "index": 512,
          "ph": 5.875333778
         },
         {
          "K": 22,
          "N": 24,
          "P": 38,
          "index": 513,
          "ph": 8.202706015
         },
         {
          "K": 21,
          "N": 23,
          "P": 45,
          "index": 514,
          "ph": 8.985348193
         },
         {
          "K": 20,
          "N": 29,
          "P": 57,
          "index": 515,
          "ph": 5.87707519
         },
         {
          "K": 23,
          "N": 31,
          "P": 35,
          "index": 516,
          "ph": 7.707595055
         },
         {
          "K": 25,
          "N": 0,
          "P": 55,
          "index": 517,
          "ph": 4.524171562
         },
         {
          "K": 22,
          "N": 7,
          "P": 45,
          "index": 518,
          "ph": 9.926212291
         },
         {
          "K": 25,
          "N": 17,
          "P": 58,
          "index": 519,
          "ph": 6.455592696
         },
         {
          "K": 17,
          "N": 11,
          "P": 44,
          "index": 520,
          "ph": 8.016210782
         },
         {
          "K": 22,
          "N": 22,
          "P": 49,
          "index": 521,
          "ph": 3.71105919
         },
         {
          "K": 19,
          "N": 9,
          "P": 51,
          "index": 522,
          "ph": 5.49091063
         },
         {
          "K": 15,
          "N": 28,
          "P": 48,
          "index": 523,
          "ph": 9.254089438
         },
         {
          "K": 19,
          "N": 26,
          "P": 50,
          "index": 524,
          "ph": 6.005242945
         },
         {
          "K": 20,
          "N": 36,
          "P": 56,
          "index": 525,
          "ph": 7.437078236
         },
         {
          "K": 18,
          "N": 8,
          "P": 60,
          "index": 526,
          "ph": 3.808429173
         },
         {
          "K": 21,
          "N": 24,
          "P": 37,
          "index": 527,
          "ph": 5.818219385
         },
         {
          "K": 24,
          "N": 22,
          "P": 43,
          "index": 528,
          "ph": 4.52363558
         },
         {
          "K": 24,
          "N": 36,
          "P": 43,
          "index": 529,
          "ph": 3.510404312
         },
         {
          "K": 24,
          "N": 22,
          "P": 44,
          "index": 530,
          "ph": 6.030447288
         },
         {
          "K": 22,
          "N": 17,
          "P": 43,
          "index": 531,
          "ph": 5.498340808
         },
         {
          "K": 15,
          "N": 8,
          "P": 45,
          "index": 532,
          "ph": 4.61136408
         },
         {
          "K": 23,
          "N": 7,
          "P": 56,
          "index": 533,
          "ph": 5.545219232
         },
         {
          "K": 16,
          "N": 36,
          "P": 57,
          "index": 534,
          "ph": 8.292875734
         },
         {
          "K": 19,
          "N": 11,
          "P": 45,
          "index": 535,
          "ph": 3.828031463
         },
         {
          "K": 22,
          "N": 6,
          "P": 36,
          "index": 536,
          "ph": 8.869532817
         },
         {
          "K": 20,
          "N": 17,
          "P": 57,
          "index": 537,
          "ph": 3.793575185
         },
         {
          "K": 20,
          "N": 4,
          "P": 47,
          "index": 538,
          "ph": 4.193189124
         },
         {
          "K": 16,
          "N": 9,
          "P": 49,
          "index": 539,
          "ph": 7.661537348
         },
         {
          "K": 24,
          "N": 25,
          "P": 51,
          "index": 540,
          "ph": 9.392694614
         },
         {
          "K": 21,
          "N": 36,
          "P": 44,
          "index": 541,
          "ph": 4.516154055
         },
         {
          "K": 20,
          "N": 21,
          "P": 38,
          "index": 542,
          "ph": 5.794289715
         },
         {
          "K": 20,
          "N": 37,
          "P": 57,
          "index": 543,
          "ph": 7.354286985
         },
         {
          "K": 18,
          "N": 32,
          "P": 48,
          "index": 544,
          "ph": 5.993513566
         },
         {
          "K": 20,
          "N": 29,
          "P": 44,
          "index": 545,
          "ph": 8.620107545
         },
         {
          "K": 18,
          "N": 25,
          "P": 51,
          "index": 546,
          "ph": 9.45949344
         },
         {
          "K": 24,
          "N": 10,
          "P": 44,
          "index": 547,
          "ph": 8.0344125
         },
         {
          "K": 18,
          "N": 23,
          "P": 35,
          "index": 548,
          "ph": 5.414492777
         },
         {
          "K": 23,
          "N": 9,
          "P": 60,
          "index": 549,
          "ph": 6.276004336
         },
         {
          "K": 21,
          "N": 3,
          "P": 58,
          "index": 550,
          "ph": 9.160691747
         },
         {
          "K": 22,
          "N": 22,
          "P": 42,
          "index": 551,
          "ph": 7.887658711
         },
         {
          "K": 21,
          "N": 12,
          "P": 39,
          "index": 552,
          "ph": 8.183844843
         },
         {
          "K": 22,
          "N": 39,
          "P": 36,
          "index": 553,
          "ph": 9.072011412
         },
         {
          "K": 16,
          "N": 32,
          "P": 41,
          "index": 554,
          "ph": 7.702287236
         },
         {
          "K": 15,
          "N": 30,
          "P": 41,
          "index": 555,
          "ph": 5.88509677
         },
         {
          "K": 22,
          "N": 19,
          "P": 36,
          "index": 556,
          "ph": 6.16496284
         },
         {
          "K": 15,
          "N": 4,
          "P": 46,
          "index": 557,
          "ph": 3.504752314
         },
         {
          "K": 20,
          "N": 21,
          "P": 39,
          "index": 558,
          "ph": 7.388007483
         },
         {
          "K": 25,
          "N": 35,
          "P": 57,
          "index": 559,
          "ph": 8.340398059
         },
         {
          "K": 24,
          "N": 22,
          "P": 55,
          "index": 560,
          "ph": 8.66077954
         },
         {
          "K": 17,
          "N": 35,
          "P": 51,
          "index": 561,
          "ph": 3.558822825
         },
         {
          "K": 17,
          "N": 17,
          "P": 56,
          "index": 562,
          "ph": 5.9565851
         },
         {
          "K": 17,
          "N": 28,
          "P": 57,
          "index": 563,
          "ph": 9.416003106
         },
         {
          "K": 16,
          "N": 22,
          "P": 36,
          "index": 564,
          "ph": 8.18422855
         },
         {
          "K": 19,
          "N": 11,
          "P": 41,
          "index": 565,
          "ph": 5.131779302
         },
         {
          "K": 18,
          "N": 38,
          "P": 38,
          "index": 566,
          "ph": 6.294130313
         },
         {
          "K": 24,
          "N": 23,
          "P": 37,
          "index": 567,
          "ph": 7.991902443
         },
         {
          "K": 20,
          "N": 25,
          "P": 35,
          "index": 568,
          "ph": 8.923095695
         },
         {
          "K": 20,
          "N": 40,
          "P": 45,
          "index": 569,
          "ph": 6.878498176
         },
         {
          "K": 19,
          "N": 23,
          "P": 58,
          "index": 570,
          "ph": 5.243634849
         },
         {
          "K": 23,
          "N": 2,
          "P": 56,
          "index": 571,
          "ph": 7.550090941
         },
         {
          "K": 17,
          "N": 3,
          "P": 56,
          "index": 572,
          "ph": 8.709291688
         },
         {
          "K": 25,
          "N": 26,
          "P": 51,
          "index": 573,
          "ph": 7.792508068
         },
         {
          "K": 20,
          "N": 39,
          "P": 42,
          "index": 574,
          "ph": 8.055908858
         },
         {
          "K": 20,
          "N": 27,
          "P": 59,
          "index": 575,
          "ph": 4.397698806
         },
         {
          "K": 19,
          "N": 24,
          "P": 45,
          "index": 576,
          "ph": 5.952384957
         },
         {
          "K": 17,
          "N": 7,
          "P": 40,
          "index": 577,
          "ph": 8.532078733
         },
         {
          "K": 23,
          "N": 15,
          "P": 45,
          "index": 578,
          "ph": 7.224193642
         },
         {
          "K": 23,
          "N": 26,
          "P": 52,
          "index": 579,
          "ph": 4.931890506
         },
         {
          "K": 16,
          "N": 20,
          "P": 45,
          "index": 580,
          "ph": 4.626212446
         },
         {
          "K": 24,
          "N": 34,
          "P": 54,
          "index": 581,
          "ph": 5.026003659
         },
         {
          "K": 25,
          "N": 19,
          "P": 51,
          "index": 582,
          "ph": 3.5253661
         },
         {
          "K": 21,
          "N": 29,
          "P": 41,
          "index": 583,
          "ph": 8.86979671
         },
         {
          "K": 22,
          "N": 20,
          "P": 50,
          "index": 584,
          "ph": 9.406887533
         },
         {
          "K": 23,
          "N": 11,
          "P": 40,
          "index": 585,
          "ph": 5.80428611
         },
         {
          "K": 15,
          "N": 15,
          "P": 54,
          "index": 586,
          "ph": 8.35495812
         },
         {
          "K": 22,
          "N": 35,
          "P": 55,
          "index": 587,
          "ph": 8.634929739
         },
         {
          "K": 25,
          "N": 9,
          "P": 59,
          "index": 588,
          "ph": 7.699200949
         },
         {
          "K": 18,
          "N": 40,
          "P": 45,
          "index": 589,
          "ph": 5.261285926
         },
         {
          "K": 19,
          "N": 35,
          "P": 38,
          "index": 590,
          "ph": 9.112771682
         },
         {
          "K": 17,
          "N": 14,
          "P": 58,
          "index": 591,
          "ph": 4.605700542
         },
         {
          "K": 18,
          "N": 40,
          "P": 55,
          "index": 592,
          "ph": 7.115994051
         },
         {
          "K": 23,
          "N": 18,
          "P": 36,
          "index": 593,
          "ph": 7.214078621
         },
         {
          "K": 15,
          "N": 35,
          "P": 52,
          "index": 594,
          "ph": 9.93509073
         },
         {
          "K": 22,
          "N": 4,
          "P": 59,
          "index": 595,
          "ph": 8.914074888
         },
         {
          "K": 16,
          "N": 22,
          "P": 51,
          "index": 596,
          "ph": 8.639586199
         },
         {
          "K": 17,
          "N": 33,
          "P": 47,
          "index": 597,
          "ph": 8.621514073
         },
         {
          "K": 17,
          "N": 2,
          "P": 51,
          "index": 598,
          "ph": 5.838508699
         },
         {
          "K": 21,
          "N": 16,
          "P": 51,
          "index": 599,
          "ph": 3.532008668
         },
         {
          "K": 20,
          "N": 19,
          "P": 55,
          "index": 600,
          "ph": 7.18530147
         },
         {
          "K": 20,
          "N": 8,
          "P": 54,
          "index": 601,
          "ph": 7.034214276
         },
         {
          "K": 20,
          "N": 36,
          "P": 55,
          "index": 602,
          "ph": 6.635968698
         },
         {
          "K": 16,
          "N": 10,
          "P": 56,
          "index": 603,
          "ph": 6.828187499
         },
         {
          "K": 17,
          "N": 22,
          "P": 56,
          "index": 604,
          "ph": 6.89077995
         },
         {
          "K": 24,
          "N": 9,
          "P": 57,
          "index": 605,
          "ph": 7.165121109
         },
         {
          "K": 23,
          "N": 34,
          "P": 59,
          "index": 606,
          "ph": 6.935804256
         },
         {
          "K": 25,
          "N": 31,
          "P": 51,
          "index": 607,
          "ph": 7.196774236
         },
         {
          "K": 18,
          "N": 0,
          "P": 49,
          "index": 608,
          "ph": 6.990095452
         },
         {
          "K": 20,
          "N": 21,
          "P": 39,
          "index": 609,
          "ph": 7.064782138
         },
         {
          "K": 22,
          "N": 28,
          "P": 35,
          "index": 610,
          "ph": 7.156563094
         },
         {
          "K": 17,
          "N": 17,
          "P": 52,
          "index": 611,
          "ph": 6.364967184
         },
         {
          "K": 23,
          "N": 24,
          "P": 42,
          "index": 612,
          "ph": 6.428054409
         },
         {
          "K": 16,
          "N": 28,
          "P": 46,
          "index": 613,
          "ph": 6.664187809
         },
         {
          "K": 21,
          "N": 21,
          "P": 38,
          "index": 614,
          "ph": 6.637677489
         },
         {
          "K": 25,
          "N": 34,
          "P": 60,
          "index": 615,
          "ph": 6.79385576
         },
         {
          "K": 22,
          "N": 19,
          "P": 53,
          "index": 616,
          "ph": 6.852884643
         },
         {
          "K": 15,
          "N": 31,
          "P": 58,
          "index": 617,
          "ph": 7.121571293
         },
         {
          "K": 24,
          "N": 19,
          "P": 35,
          "index": 618,
          "ph": 6.883308033
         },
         {
          "K": 17,
          "N": 24,
          "P": 53,
          "index": 619,
          "ph": 6.421271178
         },
         {
          "K": 20,
          "N": 13,
          "P": 47,
          "index": 620,
          "ph": 6.54450214
         },
         {
          "K": 16,
          "N": 31,
          "P": 53,
          "index": 621,
          "ph": 6.452006451
         },
         {
          "K": 23,
          "N": 28,
          "P": 45,
          "index": 622,
          "ph": 6.489259136
         },
         {
          "K": 21,
          "N": 31,
          "P": 37,
          "index": 623,
          "ph": 6.713410626
         },
         {
          "K": 15,
          "N": 33,
          "P": 60,
          "index": 624,
          "ph": 6.510840928
         },
         {
          "K": 21,
          "N": 34,
          "P": 45,
          "index": 625,
          "ph": 6.287380117
         },
         {
          "K": 25,
          "N": 13,
          "P": 57,
          "index": 626,
          "ph": 6.86308576
         },
         {
          "K": 17,
          "N": 33,
          "P": 57,
          "index": 627,
          "ph": 6.78415271
         },
         {
          "K": 22,
          "N": 32,
          "P": 57,
          "index": 628,
          "ph": 6.769415888
         },
         {
          "K": 25,
          "N": 23,
          "P": 59,
          "index": 629,
          "ph": 6.320768488
         },
         {
          "K": 18,
          "N": 35,
          "P": 41,
          "index": 630,
          "ph": 6.705008504
         },
         {
          "K": 24,
          "N": 6,
          "P": 48,
          "index": 631,
          "ph": 6.790736339
         },
         {
          "K": 25,
          "N": 29,
          "P": 36,
          "index": 632,
          "ph": 7.130278657
         },
         {
          "K": 22,
          "N": 4,
          "P": 36,
          "index": 633,
          "ph": 7.012740397
         },
         {
          "K": 22,
          "N": 10,
          "P": 59,
          "index": 634,
          "ph": 7.155685016
         },
         {
          "K": 21,
          "N": 14,
          "P": 48,
          "index": 635,
          "ph": 6.991242362
         },
         {
          "K": 21,
          "N": 8,
          "P": 50,
          "index": 636,
          "ph": 6.218923893
         },
         {
          "K": 15,
          "N": 20,
          "P": 40,
          "index": 637,
          "ph": 7.199495368
         },
         {
          "K": 22,
          "N": 36,
          "P": 43,
          "index": 638,
          "ph": 6.389882166
         },
         {
          "K": 15,
          "N": 14,
          "P": 57,
          "index": 639,
          "ph": 6.623438282
         },
         {
          "K": 23,
          "N": 11,
          "P": 60,
          "index": 640,
          "ph": 7.033012777
         },
         {
          "K": 15,
          "N": 10,
          "P": 59,
          "index": 641,
          "ph": 6.32400451
         },
         {
          "K": 25,
          "N": 7,
          "P": 60,
          "index": 642,
          "ph": 6.397636709
         },
         {
          "K": 15,
          "N": 2,
          "P": 47,
          "index": 643,
          "ph": 6.401455706
         },
         {
          "K": 22,
          "N": 20,
          "P": 45,
          "index": 644,
          "ph": 6.904587016
         },
         {
          "K": 15,
          "N": 2,
          "P": 39,
          "index": 645,
          "ph": 6.478557136
         },
         {
          "K": 24,
          "N": 27,
          "P": 40,
          "index": 646,
          "ph": 7.063022095
         },
         {
          "K": 15,
          "N": 35,
          "P": 48,
          "index": 647,
          "ph": 6.981758362
         },
         {
          "K": 25,
          "N": 4,
          "P": 59,
          "index": 648,
          "ph": 6.227134139
         },
         {
          "K": 24,
          "N": 1,
          "P": 48,
          "index": 649,
          "ph": 6.232836962
         },
         {
          "K": 21,
          "N": 36,
          "P": 43,
          "index": 650,
          "ph": 7.140437859
         },
         {
          "K": 24,
          "N": 11,
          "P": 46,
          "index": 651,
          "ph": 6.459252023
         },
         {
          "K": 19,
          "N": 34,
          "P": 47,
          "index": 652,
          "ph": 6.568795404
         },
         {
          "K": 18,
          "N": 21,
          "P": 44,
          "index": 653,
          "ph": 7.12851089
         },
         {
          "K": 20,
          "N": 17,
          "P": 58,
          "index": 654,
          "ph": 6.42937879
         },
         {
          "K": 21,
          "N": 25,
          "P": 40,
          "index": 655,
          "ph": 6.248900919
         },
         {
          "K": 18,
          "N": 2,
          "P": 38,
          "index": 656,
          "ph": 6.619891498
         },
         {
          "K": 20,
          "N": 9,
          "P": 48,
          "index": 657,
          "ph": 6.377568542
         },
         {
          "K": 25,
          "N": 37,
          "P": 49,
          "index": 658,
          "ph": 6.415459592
         },
         {
          "K": 15,
          "N": 36,
          "P": 38,
          "index": 659,
          "ph": 6.320662012
         },
         {
          "K": 15,
          "N": 40,
          "P": 58,
          "index": 660,
          "ph": 6.978400282
         },
         {
          "K": 16,
          "N": 30,
          "P": 44,
          "index": 661,
          "ph": 6.442335593
         },
         {
          "K": 23,
          "N": 1,
          "P": 59,
          "index": 662,
          "ph": 7.184398832
         },
         {
          "K": 22,
          "N": 9,
          "P": 48,
          "index": 663,
          "ph": 6.402926221
         },
         {
          "K": 17,
          "N": 14,
          "P": 41,
          "index": 664,
          "ph": 7.085982325
         },
         {
          "K": 19,
          "N": 35,
          "P": 52,
          "index": 665,
          "ph": 6.698574085
         },
         {
          "K": 17,
          "N": 31,
          "P": 48,
          "index": 666,
          "ph": 6.594739424
         },
         {
          "K": 20,
          "N": 4,
          "P": 41,
          "index": 667,
          "ph": 6.647965508
         },
         {
          "K": 25,
          "N": 30,
          "P": 37,
          "index": 668,
          "ph": 7.120032489
         },
         {
          "K": 20,
          "N": 9,
          "P": 35,
          "index": 669,
          "ph": 6.91380932
         },
         {
          "K": 20,
          "N": 20,
          "P": 41,
          "index": 670,
          "ph": 7.073048264
         },
         {
          "K": 23,
          "N": 37,
          "P": 50,
          "index": 671,
          "ph": 6.5304707
         },
         {
          "K": 21,
          "N": 34,
          "P": 35,
          "index": 672,
          "ph": 6.684381357
         },
         {
          "K": 15,
          "N": 14,
          "P": 37,
          "index": 673,
          "ph": 6.581351374
         },
         {
          "K": 22,
          "N": 23,
          "P": 39,
          "index": 674,
          "ph": 6.86483915
         },
         {
          "K": 21,
          "N": 5,
          "P": 45,
          "index": 675,
          "ph": 6.487124217
         },
         {
          "K": 20,
          "N": 22,
          "P": 37,
          "index": 676,
          "ph": 6.605733068
         },
         {
          "K": 17,
          "N": 40,
          "P": 51,
          "index": 677,
          "ph": 6.860602782
         },
         {
          "K": 20,
          "N": 27,
          "P": 56,
          "index": 678,
          "ph": 6.41874299
         },
         {
          "K": 22,
          "N": 31,
          "P": 40,
          "index": 679,
          "ph": 6.365513634
         },
         {
          "K": 21,
          "N": 38,
          "P": 36,
          "index": 680,
          "ph": 6.556372966
         },
         {
          "K": 17,
          "N": 6,
          "P": 37,
          "index": 681,
          "ph": 6.760694228
         },
         {
          "K": 18,
          "N": 6,
          "P": 47,
          "index": 682,
          "ph": 6.715276663
         },
         {
          "K": 17,
          "N": 24,
          "P": 44,
          "index": 683,
          "ph": 6.666380512
         },
         {
          "K": 19,
          "N": 25,
          "P": 59,
          "index": 684,
          "ph": 6.626629798
         },
         {
          "K": 21,
          "N": 32,
          "P": 56,
          "index": 685,
          "ph": 6.702772465
         },
         {
          "K": 18,
          "N": 8,
          "P": 45,
          "index": 686,
          "ph": 7.011030515
         },
         {
          "K": 17,
          "N": 19,
          "P": 39,
          "index": 687,
          "ph": 6.890156495
         },
         {
          "K": 15,
          "N": 39,
          "P": 37,
          "index": 688,
          "ph": 6.821747052
         },
         {
          "K": 19,
          "N": 33,
          "P": 37,
          "index": 689,
          "ph": 7.183189922
         },
         {
          "K": 17,
          "N": 26,
          "P": 54,
          "index": 690,
          "ph": 6.27258822
         },
         {
          "K": 15,
          "N": 21,
          "P": 51,
          "index": 691,
          "ph": 6.679127482
         },
         {
          "K": 20,
          "N": 22,
          "P": 54,
          "index": 692,
          "ph": 6.689825155
         },
         {
          "K": 16,
          "N": 29,
          "P": 45,
          "index": 693,
          "ph": 6.583381939
         },
         {
          "K": 21,
          "N": 4,
          "P": 40,
          "index": 694,
          "ph": 6.725551062
         },
         {
          "K": 22,
          "N": 10,
          "P": 37,
          "index": 695,
          "ph": 7.069747814
         },
         {
          "K": 19,
          "N": 4,
          "P": 44,
          "index": 696,
          "ph": 6.921993878
         },
         {
          "K": 17,
          "N": 20,
          "P": 45,
          "index": 697,
          "ph": 6.770955317
         },
         {
          "K": 23,
          "N": 23,
          "P": 45,
          "index": 698,
          "ph": 6.983130466
         },
         {
          "K": 21,
          "N": 25,
          "P": 48,
          "index": 699,
          "ph": 6.267684328
         },
         {
          "K": 15,
          "N": 56,
          "P": 79,
          "index": 700,
          "ph": 7.454532137
         },
         {
          "K": 21,
          "N": 25,
          "P": 62,
          "index": 701,
          "ph": 7.040056094
         },
         {
          "K": 22,
          "N": 42,
          "P": 61,
          "index": 702,
          "ph": 7.418650668
         },
         {
          "K": 25,
          "N": 42,
          "P": 73,
          "index": 703,
          "ph": 6.501869314
         },
         {
          "K": 18,
          "N": 44,
          "P": 58,
          "index": 704,
          "ph": 6.814410928
         },
         {
          "K": 16,
          "N": 50,
          "P": 55,
          "index": 705,
          "ph": 7.581442888
         },
         {
          "K": 21,
          "N": 35,
          "P": 72,
          "index": 706,
          "ph": 7.741418772
         },
         {
          "K": 20,
          "N": 30,
          "P": 64,
          "index": 707,
          "ph": 6.573531614
         },
         {
          "K": 21,
          "N": 27,
          "P": 64,
          "index": 708,
          "ph": 7.543804223
         },
         {
          "K": 17,
          "N": 50,
          "P": 74,
          "index": 709,
          "ph": 6.5408208
         },
         {
          "K": 24,
          "N": 39,
          "P": 73,
          "index": 710,
          "ph": 7.22405917
         },
         {
          "K": 25,
          "N": 57,
          "P": 67,
          "index": 711,
          "ph": 7.551364319
         },
         {
          "K": 19,
          "N": 52,
          "P": 63,
          "index": 712,
          "ph": 6.928898659
         },
         {
          "K": 22,
          "N": 55,
          "P": 66,
          "index": 713,
          "ph": 7.747775263
         },
         {
          "K": 18,
          "N": 51,
          "P": 56,
          "index": 714,
          "ph": 6.706505915
         },
         {
          "K": 15,
          "N": 36,
          "P": 66,
          "index": 715,
          "ph": 6.668238556
         },
         {
          "K": 19,
          "N": 59,
          "P": 55,
          "index": 716,
          "ph": 7.332375138
         },
         {
          "K": 23,
          "N": 50,
          "P": 58,
          "index": 717,
          "ph": 7.596802025
         },
         {
          "K": 25,
          "N": 30,
          "P": 65,
          "index": 718,
          "ph": 7.70650895
         },
         {
          "K": 18,
          "N": 20,
          "P": 62,
          "index": 719,
          "ph": 7.366542647
         },
         {
          "K": 15,
          "N": 58,
          "P": 71,
          "index": 720,
          "ph": 6.919243702
         },
         {
          "K": 24,
          "N": 25,
          "P": 71,
          "index": 721,
          "ph": 7.187721818
         },
         {
          "K": 16,
          "N": 52,
          "P": 71,
          "index": 722,
          "ph": 7.075886472
         },
         {
          "K": 18,
          "N": 40,
          "P": 63,
          "index": 723,
          "ph": 6.74441168
         },
         {
          "K": 25,
          "N": 20,
          "P": 60,
          "index": 724,
          "ph": 6.726469088
         },
         {
          "K": 21,
          "N": 48,
          "P": 61,
          "index": 725,
          "ph": 6.628264883
         },
         {
          "K": 22,
          "N": 49,
          "P": 68,
          "index": 726,
          "ph": 7.127064207
         },
         {
          "K": 15,
          "N": 48,
          "P": 62,
          "index": 727,
          "ph": 7.538631462
         },
         {
          "K": 17,
          "N": 32,
          "P": 66,
          "index": 728,
          "ph": 7.162357641
         },
         {
          "K": 22,
          "N": 21,
          "P": 63,
          "index": 729,
          "ph": 6.859409487
         },
         {
          "K": 19,
          "N": 20,
          "P": 72,
          "index": 730,
          "ph": 7.397190844
         },
         {
          "K": 21,
          "N": 25,
          "P": 65,
          "index": 731,
          "ph": 6.880245789
         },
         {
          "K": 21,
          "N": 41,
          "P": 78,
          "index": 732,
          "ph": 6.581313137
         },
         {
          "K": 17,
          "N": 53,
          "P": 67,
          "index": 733,
          "ph": 7.296972161
         },
         {
          "K": 21,
          "N": 39,
          "P": 60,
          "index": 734,
          "ph": 6.97297656
         },
         {
          "K": 17,
          "N": 25,
          "P": 76,
          "index": 735,
          "ph": 7.241148507
         },
         {
          "K": 19,
          "N": 21,
          "P": 78,
          "index": 736,
          "ph": 6.92009048
         },
         {
          "K": 17,
          "N": 57,
          "P": 60,
          "index": 737,
          "ph": 7.504608385
         },
         {
          "K": 15,
          "N": 56,
          "P": 75,
          "index": 738,
          "ph": 7.152272256
         },
         {
          "K": 15,
          "N": 49,
          "P": 72,
          "index": 739,
          "ph": 7.137004749
         },
         {
          "K": 19,
          "N": 24,
          "P": 80,
          "index": 740,
          "ph": 6.808041722
         },
         {
          "K": 18,
          "N": 49,
          "P": 76,
          "index": 741,
          "ph": 7.393631868
         },
         {
          "K": 19,
          "N": 28,
          "P": 68,
          "index": 742,
          "ph": 7.69950698
         },
         {
          "K": 21,
          "N": 55,
          "P": 78,
          "index": 743,
          "ph": 6.602888249
         },
         {
          "K": 25,
          "N": 50,
          "P": 64,
          "index": 744,
          "ph": 6.734447425
         },
         {
          "K": 19,
          "N": 34,
          "P": 80,
          "index": 745,
          "ph": 6.521217963
         },
         {
          "K": 23,
          "N": 20,
          "P": 68,
          "index": 746,
          "ph": 7.707332484
         },
         {
          "K": 16,
          "N": 55,
          "P": 67,
          "index": 747,
          "ph": 6.596719015
         },
         {
          "K": 15,
          "N": 23,
          "P": 70,
          "index": 748,
          "ph": 7.403623355
         },
         {
          "K": 15,
          "N": 53,
          "P": 74,
          "index": 749,
          "ph": 7.517097
         },
         {
          "K": 16,
          "N": 26,
          "P": 67,
          "index": 750,
          "ph": 7.17620823
         },
         {
          "K": 22,
          "N": 33,
          "P": 80,
          "index": 751,
          "ph": 6.593961761
         },
         {
          "K": 19,
          "N": 37,
          "P": 79,
          "index": 752,
          "ph": 7.143942758
         },
         {
          "K": 21,
          "N": 33,
          "P": 75,
          "index": 753,
          "ph": 6.690655045
         },
         {
          "K": 20,
          "N": 22,
          "P": 55,
          "index": 754,
          "ph": 7.423530351
         },
         {
          "K": 17,
          "N": 20,
          "P": 68,
          "index": 755,
          "ph": 6.578714843
         },
         {
          "K": 20,
          "N": 43,
          "P": 68,
          "index": 756,
          "ph": 7.497469256
         },
         {
          "K": 22,
          "N": 44,
          "P": 76,
          "index": 757,
          "ph": 7.775306272
         },
         {
          "K": 16,
          "N": 34,
          "P": 60,
          "index": 758,
          "ph": 7.322555223
         },
         {
          "K": 17,
          "N": 21,
          "P": 72,
          "index": 759,
          "ph": 7.580527339
         },
         {
          "K": 19,
          "N": 25,
          "P": 68,
          "index": 760,
          "ph": 7.108450121
         },
         {
          "K": 15,
          "N": 41,
          "P": 62,
          "index": 761,
          "ph": 7.358974541
         },
         {
          "K": 23,
          "N": 28,
          "P": 65,
          "index": 762,
          "ph": 7.405176138
         },
         {
          "K": 15,
          "N": 35,
          "P": 64,
          "index": 763,
          "ph": 6.500144962
         },
         {
          "K": 16,
          "N": 52,
          "P": 58,
          "index": 764,
          "ph": 7.167435834
         },
         {
          "K": 25,
          "N": 58,
          "P": 75,
          "index": 765,
          "ph": 7.261791753
         },
         {
          "K": 19,
          "N": 34,
          "P": 66,
          "index": 766,
          "ph": 7.586642101
         },
         {
          "K": 16,
          "N": 52,
          "P": 70,
          "index": 767,
          "ph": 7.534811833
         },
         {
          "K": 19,
          "N": 23,
          "P": 57,
          "index": 768,
          "ph": 7.251000789
         },
         {
          "K": 25,
          "N": 42,
          "P": 58,
          "index": 769,
          "ph": 6.513620918
         },
         {
          "K": 17,
          "N": 37,
          "P": 62,
          "index": 770,
          "ph": 7.121254928
         },
         {
          "K": 22,
          "N": 44,
          "P": 75,
          "index": 771,
          "ph": 7.574561547
         },
         {
          "K": 20,
          "N": 21,
          "P": 80,
          "index": 772,
          "ph": 7.350869792
         },
         {
          "K": 16,
          "N": 56,
          "P": 76,
          "index": 773,
          "ph": 7.513151076
         },
         {
          "K": 15,
          "N": 29,
          "P": 76,
          "index": 774,
          "ph": 7.025607706
         },
         {
          "K": 20,
          "N": 43,
          "P": 61,
          "index": 775,
          "ph": 6.804253866
         },
         {
          "K": 15,
          "N": 55,
          "P": 60,
          "index": 776,
          "ph": 7.163043872
         },
         {
          "K": 15,
          "N": 44,
          "P": 63,
          "index": 777,
          "ph": 7.338929556
         },
         {
          "K": 21,
          "N": 29,
          "P": 67,
          "index": 778,
          "ph": 6.621323612
         },
         {
          "K": 16,
          "N": 47,
          "P": 63,
          "index": 779,
          "ph": 6.661870999
         },
         {
          "K": 17,
          "N": 40,
          "P": 68,
          "index": 780,
          "ph": 7.733149554
         },
         {
          "K": 15,
          "N": 58,
          "P": 61,
          "index": 781,
          "ph": 7.402891666
         },
         {
          "K": 18,
          "N": 41,
          "P": 74,
          "index": 782,
          "ph": 6.599147298
         },
         {
          "K": 17,
          "N": 58,
          "P": 79,
          "index": 783,
          "ph": 7.04174124
         },
         {
          "K": 24,
          "N": 27,
          "P": 62,
          "index": 784,
          "ph": 7.353876754
         },
         {
          "K": 17,
          "N": 27,
          "P": 60,
          "index": 785,
          "ph": 7.026795359
         },
         {
          "K": 20,
          "N": 52,
          "P": 65,
          "index": 786,
          "ph": 6.814301033
         },
         {
          "K": 25,
          "N": 44,
          "P": 55,
          "index": 787,
          "ph": 7.42160832
         },
         {
          "K": 24,
          "N": 21,
          "P": 62,
          "index": 788,
          "ph": 6.847382891
         },
         {
          "K": 22,
          "N": 60,
          "P": 59,
          "index": 789,
          "ph": 7.191522601
         },
         {
          "K": 21,
          "N": 33,
          "P": 77,
          "index": 790,
          "ph": 7.01285529
         },
         {
          "K": 17,
          "N": 59,
          "P": 58,
          "index": 791,
          "ph": 7.368318809
         },
         {
          "K": 17,
          "N": 29,
          "P": 63,
          "index": 792,
          "ph": 7.26154329
         },
         {
          "K": 18,
          "N": 59,
          "P": 63,
          "index": 793,
          "ph": 6.52669158
         },
         {
          "K": 15,
          "N": 29,
          "P": 70,
          "index": 794,
          "ph": 6.872594461
         },
         {
          "K": 16,
          "N": 58,
          "P": 73,
          "index": 795,
          "ph": 6.874142175
         },
         {
          "K": 22,
          "N": 55,
          "P": 77,
          "index": 796,
          "ph": 7.76061831
         },
         {
          "K": 23,
          "N": 42,
          "P": 79,
          "index": 797,
          "ph": 6.781841984
         },
         {
          "K": 21,
          "N": 44,
          "P": 77,
          "index": 798,
          "ph": 7.326980454
         },
         {
          "K": 25,
          "N": 38,
          "P": 62,
          "index": 799,
          "ph": 7.453975408
         },
         {
          "K": 15,
          "N": 32,
          "P": 76,
          "index": 800,
          "ph": 7.604110177
         },
         {
          "K": 22,
          "N": 13,
          "P": 61,
          "index": 801,
          "ph": 7.728832424
         },
         {
          "K": 20,
          "N": 38,
          "P": 60,
          "index": 802,
          "ph": 7.491217102
         },
         {
          "K": 17,
          "N": 11,
          "P": 74,
          "index": 803,
          "ph": 6.633864582
         },
         {
          "K": 16,
          "N": 37,
          "P": 71,
          "index": 804,
          "ph": 7.324863481
         },
         {
          "K": 18,
          "N": 29,
          "P": 71,
          "index": 805,
          "ph": 6.410441476
         },
         {
          "K": 18,
          "N": 2,
          "P": 72,
          "index": 806,
          "ph": 7.836719564
         },
         {
          "K": 21,
          "N": 6,
          "P": 59,
          "index": 807,
          "ph": 6.139215944
         },
         {
          "K": 20,
          "N": 13,
          "P": 64,
          "index": 808,
          "ph": 6.590571088
         },
         {
          "K": 17,
          "N": 8,
          "P": 58,
          "index": 809,
          "ph": 7.286049978
         },
         {
          "K": 20,
          "N": 6,
          "P": 77,
          "index": 810,
          "ph": 6.058306161
         },
         {
          "K": 22,
          "N": 2,
          "P": 75,
          "index": 811,
          "ph": 6.658605362
         },
         {
          "K": 23,
          "N": 3,
          "P": 69,
          "index": 812,
          "ph": 7.299360767
         },
         {
          "K": 24,
          "N": 27,
          "P": 80,
          "index": 813,
          "ph": 7.815210661
         },
         {
          "K": 15,
          "N": 39,
          "P": 78,
          "index": 814,
          "ph": 5.925391795
         },
         {
          "K": 17,
          "N": 40,
          "P": 79,
          "index": 815,
          "ph": 6.403683619
         },
         {
          "K": 22,
          "N": 37,
          "P": 62,
          "index": 816,
          "ph": 7.397546271
         },
         {
          "K": 24,
          "N": 31,
          "P": 60,
          "index": 817,
          "ph": 7.722335992
         },
         {
          "K": 22,
          "N": 22,
          "P": 67,
          "index": 818,
          "ph": 7.475926645
         },
         {
          "K": 18,
          "N": 3,
          "P": 78,
          "index": 819,
          "ph": 6.887130053
         },
         {
          "K": 16,
          "N": 4,
          "P": 80,
          "index": 820,
          "ph": 7.441976825
         },
         {
          "K": 24,
          "N": 13,
          "P": 61,
          "index": 821,
          "ph": 7.629910253
         },
         {
          "K": 20,
          "N": 12,
          "P": 66,
          "index": 822,
          "ph": 7.336117221
         },
         {
          "K": 21,
          "N": 4,
          "P": 61,
          "index": 823,
          "ph": 6.75020529
         },
         {
          "K": 21,
          "N": 9,
          "P": 60,
          "index": 824,
          "ph": 7.52178027
         },
         {
          "K": 22,
          "N": 18,
          "P": 66,
          "index": 825,
          "ph": 6.347379185
         },
         {
          "K": 18,
          "N": 32,
          "P": 56,
          "index": 826,
          "ph": 7.135251532
         },
         {
          "K": 15,
          "N": 6,
          "P": 72,
          "index": 827,
          "ph": 7.670178119
         },
         {
          "K": 20,
          "N": 15,
          "P": 77,
          "index": 828,
          "ph": 7.399749291
         },
         {
          "K": 24,
          "N": 0,
          "P": 65,
          "index": 829,
          "ph": 7.841496029
         },
         {
          "K": 22,
          "N": 30,
          "P": 79,
          "index": 830,
          "ph": 6.254216611
         },
         {
          "K": 16,
          "N": 3,
          "P": 63,
          "index": 831,
          "ph": 6.868881708
         },
         {
          "K": 23,
          "N": 2,
          "P": 78,
          "index": 832,
          "ph": 7.320514721
         },
         {
          "K": 18,
          "N": 10,
          "P": 78,
          "index": 833,
          "ph": 6.296976913
         },
         {
          "K": 25,
          "N": 14,
          "P": 67,
          "index": 834,
          "ph": 7.241151936
         },
         {
          "K": 23,
          "N": 39,
          "P": 65,
          "index": 835,
          "ph": 7.685959305
         },
         {
          "K": 15,
          "N": 19,
          "P": 72,
          "index": 836,
          "ph": 6.890760124
         },
         {
          "K": 21,
          "N": 18,
          "P": 57,
          "index": 837,
          "ph": 6.155915975
         },
         {
          "K": 15,
          "N": 31,
          "P": 58,
          "index": 838,
          "ph": 6.167855382
         },
         {
          "K": 25,
          "N": 28,
          "P": 58,
          "index": 839,
          "ph": 6.861640036
         },
         {
          "K": 19,
          "N": 5,
          "P": 65,
          "index": 840,
          "ph": 6.978361689
         },
         {
          "K": 19,
          "N": 16,
          "P": 65,
          "index": 841,
          "ph": 7.043160241
         },
         {
          "K": 19,
          "N": 34,
          "P": 65,
          "index": 842,
          "ph": 5.94239222
         },
         {
          "K": 19,
          "N": 14,
          "P": 69,
          "index": 843,
          "ph": 7.239455147
         },
         {
          "K": 16,
          "N": 22,
          "P": 55,
          "index": 844,
          "ph": 6.516317561
         },
         {
          "K": 17,
          "N": 24,
          "P": 61,
          "index": 845,
          "ph": 6.233269045
         },
         {
          "K": 15,
          "N": 2,
          "P": 79,
          "index": 846,
          "ph": 7.505283615
         },
         {
          "K": 17,
          "N": 26,
          "P": 63,
          "index": 847,
          "ph": 6.950300686
         },
         {
          "K": 15,
          "N": 27,
          "P": 61,
          "index": 848,
          "ph": 6.958054839
         },
         {
          "K": 16,
          "N": 24,
          "P": 70,
          "index": 849,
          "ph": 6.54803469
         },
         {
          "K": 25,
          "N": 13,
          "P": 74,
          "index": 850,
          "ph": 6.461618577
         },
         {
          "K": 23,
          "N": 6,
          "P": 64,
          "index": 851,
          "ph": 7.065264073
         },
         {
          "K": 23,
          "N": 12,
          "P": 58,
          "index": 852,
          "ph": 6.765091462
         },
         {
          "K": 22,
          "N": 32,
          "P": 79,
          "index": 853,
          "ph": 5.91645379
         },
         {
          "K": 18,
          "N": 6,
          "P": 68,
          "index": 854,
          "ph": 6.711341147
         },
         {
          "K": 20,
          "N": 10,
          "P": 79,
          "index": 855,
          "ph": 6.379881442
         },
         {
          "K": 22,
          "N": 38,
          "P": 77,
          "index": 856,
          "ph": 6.313284268
         },
         {
          "K": 17,
          "N": 17,
          "P": 74,
          "index": 857,
          "ph": 7.393210848
         },
         {
          "K": 24,
          "N": 26,
          "P": 68,
          "index": 858,
          "ph": 7.504930973
         },
         {
          "K": 17,
          "N": 23,
          "P": 75,
          "index": 859,
          "ph": 7.198076286
         },
         {
          "K": 22,
          "N": 32,
          "P": 78,
          "index": 860,
          "ph": 7.007037515
         },
         {
          "K": 19,
          "N": 19,
          "P": 79,
          "index": 861,
          "ph": 6.677262562
         },
         {
          "K": 18,
          "N": 22,
          "P": 60,
          "index": 862,
          "ph": 6.74398035
         },
         {
          "K": 16,
          "N": 28,
          "P": 69,
          "index": 863,
          "ph": 6.547361618
         },
         {
          "K": 21,
          "N": 1,
          "P": 67,
          "index": 864,
          "ph": 6.551577598
         },
         {
          "K": 23,
          "N": 12,
          "P": 67,
          "index": 865,
          "ph": 6.585020303
         },
         {
          "K": 20,
          "N": 36,
          "P": 67,
          "index": 866,
          "ph": 6.924042372
         },
         {
          "K": 21,
          "N": 28,
          "P": 70,
          "index": 867,
          "ph": 7.437373666
         },
         {
          "K": 19,
          "N": 12,
          "P": 71,
          "index": 868,
          "ph": 7.142611056
         },
         {
          "K": 16,
          "N": 22,
          "P": 68,
          "index": 869,
          "ph": 7.74672376
         },
         {
          "K": 22,
          "N": 26,
          "P": 66,
          "index": 870,
          "ph": 6.300479414
         },
         {
          "K": 16,
          "N": 16,
          "P": 65,
          "index": 871,
          "ph": 6.078724107
         },
         {
          "K": 22,
          "N": 14,
          "P": 59,
          "index": 872,
          "ph": 6.76660668
         },
         {
          "K": 19,
          "N": 33,
          "P": 59,
          "index": 873,
          "ph": 7.641024177
         },
         {
          "K": 17,
          "N": 21,
          "P": 63,
          "index": 874,
          "ph": 6.559681838
         },
         {
          "K": 21,
          "N": 0,
          "P": 69,
          "index": 875,
          "ph": 7.072923306
         },
         {
          "K": 17,
          "N": 10,
          "P": 75,
          "index": 876,
          "ph": 7.732194788
         },
         {
          "K": 18,
          "N": 30,
          "P": 61,
          "index": 877,
          "ph": 6.157782589
         },
         {
          "K": 17,
          "N": 0,
          "P": 74,
          "index": 878,
          "ph": 7.240988401
         },
         {
          "K": 22,
          "N": 35,
          "P": 74,
          "index": 879,
          "ph": 6.898905799
         },
         {
          "K": 24,
          "N": 7,
          "P": 63,
          "index": 880,
          "ph": 6.818681086
         },
         {
          "K": 17,
          "N": 9,
          "P": 56,
          "index": 881,
          "ph": 6.261937875
         },
         {
          "K": 15,
          "N": 14,
          "P": 74,
          "index": 882,
          "ph": 6.493036868
         },
         {
          "K": 20,
          "N": 14,
          "P": 76,
          "index": 883,
          "ph": 7.042474679
         },
         {
          "K": 16,
          "N": 36,
          "P": 65,
          "index": 884,
          "ph": 7.692013657
         },
         {
          "K": 21,
          "N": 28,
          "P": 67,
          "index": 885,
          "ph": 6.250994223
         },
         {
          "K": 16,
          "N": 28,
          "P": 79,
          "index": 886,
          "ph": 6.052184881
         },
         {
          "K": 22,
          "N": 40,
          "P": 61,
          "index": 887,
          "ph": 7.002216044
         },
         {
          "K": 19,
          "N": 10,
          "P": 70,
          "index": 888,
          "ph": 7.272427638
         },
         {
          "K": 19,
          "N": 12,
          "P": 80,
          "index": 889,
          "ph": 5.962001484
         },
         {
          "K": 20,
          "N": 37,
          "P": 77,
          "index": 890,
          "ph": 7.080506001
         },
         {
          "K": 22,
          "N": 0,
          "P": 67,
          "index": 891,
          "ph": 6.593798387
         },
         {
          "K": 25,
          "N": 7,
          "P": 73,
          "index": 892,
          "ph": 7.28805662
         },
         {
          "K": 18,
          "N": 10,
          "P": 56,
          "index": 893,
          "ph": 7.32710972
         },
         {
          "K": 15,
          "N": 39,
          "P": 70,
          "index": 894,
          "ph": 6.366355781
         },
         {
          "K": 22,
          "N": 26,
          "P": 56,
          "index": 895,
          "ph": 7.011121216
         },
         {
          "K": 17,
          "N": 9,
          "P": 77,
          "index": 896,
          "ph": 6.280725549
         },
         {
          "K": 19,
          "N": 4,
          "P": 59,
          "index": 897,
          "ph": 7.621494566
         },
         {
          "K": 15,
          "N": 34,
          "P": 73,
          "index": 898,
          "ph": 7.630424083
         },
         {
          "K": 15,
          "N": 33,
          "P": 77,
          "index": 899,
          "ph": 7.802212437
         },
         {
          "K": 38,
          "N": 2,
          "P": 24,
          "index": 900,
          "ph": 5.922935513
         },
         {
          "K": 37,
          "N": 6,
          "P": 18,
          "index": 901,
          "ph": 5.937649578
         },
         {
          "K": 36,
          "N": 8,
          "P": 26,
          "index": 902,
          "ph": 6.804781106
         },
         {
          "K": 39,
          "N": 37,
          "P": 18,
          "index": 903,
          "ph": 6.424670614
         },
         {
          "K": 38,
          "N": 0,
          "P": 27,
          "index": 904,
          "ph": 6.738016221
         },
         {
          "K": 38,
          "N": 31,
          "P": 25,
          "index": 905,
          "ph": 6.497366677
         },
         {
          "K": 38,
          "N": 21,
          "P": 21,
          "index": 906,
          "ph": 6.327673765
         },
         {
          "K": 40,
          "N": 6,
          "P": 30,
          "index": 907,
          "ph": 6.36137446
         },
         {
          "K": 41,
          "N": 25,
          "P": 27,
          "index": 908,
          "ph": 6.923509371
         },
         {
          "K": 38,
          "N": 15,
          "P": 11,
          "index": 909,
          "ph": 6.630646083
         },
         {
          "K": 36,
          "N": 14,
          "P": 5,
          "index": 910,
          "ph": 5.832525853
         },
         {
          "K": 41,
          "N": 16,
          "P": 10,
          "index": 911,
          "ph": 6.738993954
         },
         {
          "K": 37,
          "N": 36,
          "P": 7,
          "index": 912,
          "ph": 5.782435567
         },
         {
          "K": 41,
          "N": 4,
          "P": 20,
          "index": 913,
          "ph": 6.537042717
         },
         {
          "K": 40,
          "N": 29,
          "P": 22,
          "index": 914,
          "ph": 6.145104401
         },
         {
          "K": 42,
          "N": 16,
          "P": 15,
          "index": 915,
          "ph": 6.890784045
         },
         {
          "K": 41,
          "N": 18,
          "P": 27,
          "index": 916,
          "ph": 7.175344328
         },
         {
          "K": 42,
          "N": 11,
          "P": 18,
          "index": 917,
          "ph": 5.938528744
         },
         {
          "K": 38,
          "N": 5,
          "P": 15,
          "index": 918,
          "ph": 5.709380472
         },
         {
          "K": 44,
          "N": 18,
          "P": 23,
          "index": 919,
          "ph": 6.184400085
         },
         {
          "K": 40,
          "N": 9,
          "P": 8,
          "index": 920,
          "ph": 6.553509673
         },
         {
          "K": 45,
          "N": 40,
          "P": 27,
          "index": 921,
          "ph": 5.885638185
         },
         {
          "K": 44,
          "N": 22,
          "P": 23,
          "index": 922,
          "ph": 6.143874691
         },
         {
          "K": 39,
          "N": 9,
          "P": 16,
          "index": 923,
          "ph": 6.101198974
         },
         {
          "K": 40,
          "N": 12,
          "P": 29,
          "index": 924,
          "ph": 6.594037135
         },
         {
          "K": 42,
          "N": 0,
          "P": 17,
          "index": 925,
          "ph": 6.859840821
         },
         {
          "K": 44,
          "N": 2,
          "P": 21,
          "index": 926,
          "ph": 6.56893406
         },
         {
          "K": 40,
          "N": 28,
          "P": 6,
          "index": 927,
          "ph": 6.769855664
         },
         {
          "K": 44,
          "N": 8,
          "P": 23,
          "index": 928,
          "ph": 7.130837931
         },
         {
          "K": 36,
          "N": 29,
          "P": 16,
          "index": 929,
          "ph": 5.740338002
         },
         {
          "K": 43,
          "N": 17,
          "P": 18,
          "index": 930,
          "ph": 5.843005428
         },
         {
          "K": 42,
          "N": 34,
          "P": 21,
          "index": 931,
          "ph": 6.648687274
         },
         {
          "K": 42,
          "N": 21,
          "P": 23,
          "index": 932,
          "ph": 6.902751061
         },
         {
          "K": 40,
          "N": 25,
          "P": 17,
          "index": 933,
          "ph": 6.608023872
         },
         {
          "K": 36,
          "N": 8,
          "P": 25,
          "index": 934,
          "ph": 6.828522375
         },
         {
          "K": 42,
          "N": 26,
          "P": 18,
          "index": 935,
          "ph": 6.910374919
         },
         {
          "K": 42,
          "N": 4,
          "P": 19,
          "index": 936,
          "ph": 6.306605528
         },
         {
          "K": 41,
          "N": 36,
          "P": 24,
          "index": 937,
          "ph": 7.009180374
         },
         {
          "K": 40,
          "N": 5,
          "P": 24,
          "index": 938,
          "ph": 6.297907579
         },
         {
          "K": 39,
          "N": 19,
          "P": 17,
          "index": 939,
          "ph": 6.728599215
         },
         {
          "K": 38,
          "N": 39,
          "P": 30,
          "index": 940,
          "ph": 6.965156738
         },
         {
          "K": 44,
          "N": 5,
          "P": 29,
          "index": 941,
          "ph": 5.578095745
         },
         {
          "K": 43,
          "N": 4,
          "P": 24,
          "index": 942,
          "ph": 7.199504273
         },
         {
          "K": 35,
          "N": 38,
          "P": 21,
          "index": 943,
          "ph": 5.841367187
         },
         {
          "K": 36,
          "N": 37,
          "P": 11,
          "index": 944,
          "ph": 6.710143266
         },
         {
          "K": 41,
          "N": 9,
          "P": 25,
          "index": 945,
          "ph": 5.972714857
         },
         {
          "K": 43,
          "N": 29,
          "P": 22,
          "index": 946,
          "ph": 5.561851831
         },
         {
          "K": 38,
          "N": 5,
          "P": 21,
          "index": 947,
          "ph": 6.107054808
         },
         {
          "K": 38,
          "N": 22,
          "P": 26,
          "index": 948,
          "ph": 6.988035315
         },
         {
          "K": 37,
          "N": 4,
          "P": 18,
          "index": 949,
          "ph": 7.13147457
         },
         {
          "K": 41,
          "N": 21,
          "P": 6,
          "index": 950,
          "ph": 7.086947687
         },
         {
          "K": 45,
          "N": 29,
          "P": 21,
          "index": 951,
          "ph": 6.749260456
         },
         {
          "K": 44,
          "N": 23,
          "P": 5,
          "index": 952,
          "ph": 7.16300467
         },
         {
          "K": 43,
          "N": 13,
          "P": 7,
          "index": 953,
          "ph": 7.013481515
         },
         {
          "K": 37,
          "N": 5,
          "P": 13,
          "index": 954,
          "ph": 5.648243649
         },
         {
          "K": 41,
          "N": 27,
          "P": 24,
          "index": 955,
          "ph": 6.610251186
         },
         {
          "K": 35,
          "N": 7,
          "P": 23,
          "index": 956,
          "ph": 7.054313823
         },
         {
          "K": 39,
          "N": 12,
          "P": 20,
          "index": 957,
          "ph": 6.026999326
         },
         {
          "K": 43,
          "N": 4,
          "P": 19,
          "index": 958,
          "ph": 5.779427402
         },
         {
          "K": 45,
          "N": 3,
          "P": 9,
          "index": 959,
          "ph": 6.535244251
         },
         {
          "K": 36,
          "N": 1,
          "P": 27,
          "index": 960,
          "ph": 5.684995235
         },
         {
          "K": 44,
          "N": 23,
          "P": 30,
          "index": 961,
          "ph": 6.12476108
         },
         {
          "K": 42,
          "N": 24,
          "P": 21,
          "index": 962,
          "ph": 6.999014379
         },
         {
          "K": 37,
          "N": 13,
          "P": 30,
          "index": 963,
          "ph": 6.277148771
         },
         {
          "K": 44,
          "N": 40,
          "P": 11,
          "index": 964,
          "ph": 6.322396027
         },
         {
          "K": 40,
          "N": 21,
          "P": 9,
          "index": 965,
          "ph": 5.956401828
         },
         {
          "K": 44,
          "N": 3,
          "P": 27,
          "index": 966,
          "ph": 6.591302797
         },
         {
          "K": 42,
          "N": 40,
          "P": 29,
          "index": 967,
          "ph": 7.104094929
         },
         {
          "K": 40,
          "N": 14,
          "P": 25,
          "index": 968,
          "ph": 6.407872061
         },
         {
          "K": 37,
          "N": 38,
          "P": 14,
          "index": 969,
          "ph": 6.658402594
         },
         {
          "K": 36,
          "N": 34,
          "P": 9,
          "index": 970,
          "ph": 6.276038961
         },
         {
          "K": 37,
          "N": 32,
          "P": 14,
          "index": 971,
          "ph": 6.825256236
         },
         {
          "K": 35,
          "N": 18,
          "P": 21,
          "index": 972,
          "ph": 6.368560522
         },
         {
          "K": 38,
          "N": 8,
          "P": 23,
          "index": 973,
          "ph": 7.005410734
         },
         {
          "K": 41,
          "N": 15,
          "P": 6,
          "index": 974,
          "ph": 6.897368477
         },
         {
          "K": 36,
          "N": 0,
          "P": 5,
          "index": 975,
          "ph": 6.152906502
         },
         {
          "K": 44,
          "N": 22,
          "P": 9,
          "index": 976,
          "ph": 5.744361602
         },
         {
          "K": 43,
          "N": 14,
          "P": 8,
          "index": 977,
          "ph": 7.051654924
         },
         {
          "K": 45,
          "N": 31,
          "P": 11,
          "index": 978,
          "ph": 6.034612928
         },
         {
          "K": 45,
          "N": 39,
          "P": 17,
          "index": 979,
          "ph": 6.924490731
         },
         {
          "K": 42,
          "N": 10,
          "P": 5,
          "index": 980,
          "ph": 6.887005997
         },
         {
          "K": 38,
          "N": 8,
          "P": 28,
          "index": 981,
          "ph": 6.8444019
         },
         {
          "K": 42,
          "N": 32,
          "P": 13,
          "index": 982,
          "ph": 5.786058032
         },
         {
          "K": 40,
          "N": 18,
          "P": 9,
          "index": 983,
          "ph": 5.627186257
         },
         {
          "K": 41,
          "N": 20,
          "P": 27,
          "index": 984,
          "ph": 5.700088663
         },
         {
          "K": 36,
          "N": 39,
          "P": 25,
          "index": 985,
          "ph": 5.567805185
         },
         {
          "K": 45,
          "N": 20,
          "P": 7,
          "index": 986,
          "ph": 6.077886012
         },
         {
          "K": 45,
          "N": 11,
          "P": 10,
          "index": 987,
          "ph": 6.397995609
         },
         {
          "K": 43,
          "N": 40,
          "P": 18,
          "index": 988,
          "ph": 5.767372539
         },
         {
          "K": 39,
          "N": 3,
          "P": 26,
          "index": 989,
          "ph": 7.079973241
         },
         {
          "K": 36,
          "N": 9,
          "P": 16,
          "index": 990,
          "ph": 5.893332378
         },
         {
          "K": 38,
          "N": 30,
          "P": 20,
          "index": 991,
          "ph": 7.058222596
         },
         {
          "K": 41,
          "N": 40,
          "P": 9,
          "index": 992,
          "ph": 5.78270695
         },
         {
          "K": 35,
          "N": 40,
          "P": 30,
          "index": 993,
          "ph": 6.269663963
         },
         {
          "K": 35,
          "N": 32,
          "P": 25,
          "index": 994,
          "ph": 5.892913826
         },
         {
          "K": 45,
          "N": 33,
          "P": 23,
          "index": 995,
          "ph": 7.116538883
         },
         {
          "K": 41,
          "N": 4,
          "P": 14,
          "index": 996,
          "ph": 6.430163481
         },
         {
          "K": 45,
          "N": 13,
          "P": 17,
          "index": 997,
          "ph": 7.159520979
         },
         {
          "K": 39,
          "N": 39,
          "P": 24,
          "index": 998,
          "ph": 6.431265737
         },
         {
          "K": 37,
          "N": 8,
          "P": 28,
          "index": 999,
          "ph": 6.082571701
         },
         {
          "K": 46,
          "N": 91,
          "P": 94,
          "index": 1000,
          "ph": 6.149934034
         },
         {
          "K": 50,
          "N": 105,
          "P": 95,
          "index": 1001,
          "ph": 5.849076099
         },
         {
          "K": 53,
          "N": 108,
          "P": 92,
          "index": 1002,
          "ph": 6.276800323
         },
         {
          "K": 54,
          "N": 86,
          "P": 76,
          "index": 1003,
          "ph": 5.926824754
         },
         {
          "K": 49,
          "N": 80,
          "P": 77,
          "index": 1004,
          "ph": 5.519088423
         },
         {
          "K": 53,
          "N": 93,
          "P": 94,
          "index": 1005,
          "ph": 6.079178788
         },
         {
          "K": 55,
          "N": 90,
          "P": 92,
          "index": 1006,
          "ph": 6.13465588
         },
         {
          "K": 53,
          "N": 108,
          "P": 89,
          "index": 1007,
          "ph": 5.808497604
         },
         {
          "K": 55,
          "N": 108,
          "P": 88,
          "index": 1008,
          "ph": 5.891458107
         },
         {
          "K": 52,
          "N": 105,
          "P": 77,
          "index": 1009,
          "ph": 5.816622479
         },
         {
          "K": 52,
          "N": 118,
          "P": 88,
          "index": 1010,
          "ph": 5.843163161
         },
         {
          "K": 54,
          "N": 101,
          "P": 87,
          "index": 1011,
          "ph": 6.376756633
         },
         {
          "K": 50,
          "N": 95,
          "P": 75,
          "index": 1012,
          "ph": 5.623615687
         },
         {
          "K": 53,
          "N": 106,
          "P": 85,
          "index": 1013,
          "ph": 5.91505509
         },
         {
          "K": 49,
          "N": 86,
          "P": 95,
          "index": 1014,
          "ph": 6.458714879
         },
         {
          "K": 55,
          "N": 83,
          "P": 79,
          "index": 1015,
          "ph": 5.565028635
         },
         {
          "K": 47,
          "N": 85,
          "P": 95,
          "index": 1016,
          "ph": 6.211833161
         },
         {
          "K": 45,
          "N": 109,
          "P": 79,
          "index": 1017,
          "ph": 6.490074429
         },
         {
          "K": 45,
          "N": 100,
          "P": 76,
          "index": 1018,
          "ph": 5.590236025
         },
         {
          "K": 48,
          "N": 117,
          "P": 86,
          "index": 1019,
          "ph": 6.225225239
         },
         {
          "K": 53,
          "N": 114,
          "P": 94,
          "index": 1020,
          "ph": 6.190757459
         },
         {
          "K": 50,
          "N": 110,
          "P": 78,
          "index": 1021,
          "ph": 5.915568968
         },
         {
          "K": 48,
          "N": 94,
          "P": 70,
          "index": 1022,
          "ph": 6.195152442
         },
         {
          "K": 47,
          "N": 80,
          "P": 71,
          "index": 1023,
          "ph": 6.156373499
         },
         {
          "K": 51,
          "N": 114,
          "P": 79,
          "index": 1024,
          "ph": 6.313197204
         },
         {
          "K": 45,
          "N": 88,
          "P": 78,
          "index": 1025,
          "ph": 6.324270089
         },
         {
          "K": 48,
          "N": 112,
          "P": 73,
          "index": 1026,
          "ph": 5.707488987
         },
         {
          "K": 47,
          "N": 117,
          "P": 76,
          "index": 1027,
          "ph": 6.119216009
         },
         {
          "K": 48,
          "N": 111,
          "P": 87,
          "index": 1028,
          "ph": 5.571401169
         },
         {
          "K": 47,
          "N": 89,
          "P": 83,
          "index": 1029,
          "ph": 5.63127166
         },
         {
          "K": 47,
          "N": 93,
          "P": 91,
          "index": 1030,
          "ph": 6.101241579
         },
         {
          "K": 52,
          "N": 92,
          "P": 81,
          "index": 1031,
          "ph": 6.438137279
         },
         {
          "K": 45,
          "N": 105,
          "P": 74,
          "index": 1032,
          "ph": 6.098369122
         },
         {
          "K": 48,
          "N": 102,
          "P": 71,
          "index": 1033,
          "ph": 5.695267822
         },
         {
          "K": 51,
          "N": 94,
          "P": 91,
          "index": 1034,
          "ph": 5.618094446
         },
         {
          "K": 47,
          "N": 116,
          "P": 71,
          "index": 1035,
          "ph": 6.435785799
         },
         {
          "K": 49,
          "N": 117,
          "P": 79,
          "index": 1036,
          "ph": 6.176644228
         },
         {
          "K": 55,
          "N": 119,
          "P": 72,
          "index": 1037,
          "ph": 6.220643671
         },
         {
          "K": 53,
          "N": 99,
          "P": 73,
          "index": 1038,
          "ph": 5.871702211
         },
         {
          "K": 52,
          "N": 91,
          "P": 84,
          "index": 1039,
          "ph": 6.390741836
         },
         {
          "K": 47,
          "N": 80,
          "P": 90,
          "index": 1040,
          "ph": 6.21084479
         },
         {
          "K": 48,
          "N": 101,
          "P": 70,
          "index": 1041,
          "ph": 6.012696655
         },
         {
          "K": 53,
          "N": 108,
          "P": 89,
          "index": 1042,
          "ph": 5.908770059
         },
         {
          "K": 52,
          "N": 100,
          "P": 80,
          "index": 1043,
          "ph": 6.049801781
         },
         {
          "K": 53,
          "N": 109,
          "P": 91,
          "index": 1044,
          "ph": 6.010095853
         },
         {
          "K": 46,
          "N": 82,
          "P": 78,
          "index": 1045,
          "ph": 5.738678895
         },
         {
          "K": 55,
          "N": 106,
          "P": 70,
          "index": 1046,
          "ph": 5.74055541
         },
         {
          "K": 52,
          "N": 90,
          "P": 86,
          "index": 1047,
          "ph": 5.793260262
         },
         {
          "K": 50,
          "N": 83,
          "P": 95,
          "index": 1048,
          "ph": 5.50947065
         },
         {
          "K": 48,
          "N": 119,
          "P": 90,
          "index": 1049,
          "ph": 5.986442306
         },
         {
          "K": 45,
          "N": 107,
          "P": 72,
          "index": 1050,
          "ph": 5.790768046
         },
         {
          "K": 55,
          "N": 116,
          "P": 81,
          "index": 1051,
          "ph": 5.915546415
         },
         {
          "K": 50,
          "N": 101,
          "P": 75,
          "index": 1052,
          "ph": 6.242528278
         },
         {
          "K": 50,
          "N": 93,
          "P": 81,
          "index": 1053,
          "ph": 6.036079266
         },
         {
          "K": 45,
          "N": 95,
          "P": 75,
          "index": 1054,
          "ph": 5.829898502
         },
         {
          "K": 55,
          "N": 107,
          "P": 71,
          "index": 1055,
          "ph": 6.088064451
         },
         {
          "K": 47,
          "N": 83,
          "P": 94,
          "index": 1056,
          "ph": 6.469370954
         },
         {
          "K": 54,
          "N": 102,
          "P": 73,
          "index": 1057,
          "ph": 5.720726906
         },
         {
          "K": 45,
          "N": 86,
          "P": 79,
          "index": 1058,
          "ph": 5.80766417
         },
         {
          "K": 53,
          "N": 117,
          "P": 86,
          "index": 1059,
          "ph": 5.703381728
         },
         {
          "K": 53,
          "N": 111,
          "P": 79,
          "index": 1060,
          "ph": 6.165001278
         },
         {
          "K": 50,
          "N": 95,
          "P": 74,
          "index": 1061,
          "ph": 6.002481605
         },
         {
          "K": 55,
          "N": 91,
          "P": 75,
          "index": 1062,
          "ph": 6.212369363
         },
         {
          "K": 46,
          "N": 93,
          "P": 83,
          "index": 1063,
          "ph": 5.765308943
         },
         {
          "K": 51,
          "N": 92,
          "P": 85,
          "index": 1064,
          "ph": 5.740764682
         },
         {
          "K": 54,
          "N": 104,
          "P": 80,
          "index": 1065,
          "ph": 5.879119455
         },
         {
          "K": 51,
          "N": 103,
          "P": 72,
          "index": 1066,
          "ph": 6.099478745
         },
         {
          "K": 45,
          "N": 92,
          "P": 75,
          "index": 1067,
          "ph": 5.674403359
         },
         {
          "K": 49,
          "N": 93,
          "P": 85,
          "index": 1068,
          "ph": 5.694243847
         },
         {
          "K": 52,
          "N": 120,
          "P": 87,
          "index": 1069,
          "ph": 5.905494703
         },
         {
          "K": 46,
          "N": 108,
          "P": 72,
          "index": 1070,
          "ph": 6.110844721
         },
         {
          "K": 54,
          "N": 105,
          "P": 88,
          "index": 1071,
          "ph": 6.020445317
         },
         {
          "K": 50,
          "N": 98,
          "P": 79,
          "index": 1072,
          "ph": 6.435917308
         },
         {
          "K": 55,
          "N": 111,
          "P": 88,
          "index": 1073,
          "ph": 5.505393833
         },
         {
          "K": 45,
          "N": 97,
          "P": 74,
          "index": 1074,
          "ph": 5.677719902
         },
         {
          "K": 48,
          "N": 95,
          "P": 82,
          "index": 1075,
          "ph": 5.719014989
         },
         {
          "K": 55,
          "N": 89,
          "P": 91,
          "index": 1076,
          "ph": 6.275572298
         },
         {
          "K": 55,
          "N": 89,
          "P": 85,
          "index": 1077,
          "ph": 6.275384607
         },
         {
          "K": 51,
          "N": 118,
          "P": 88,
          "index": 1078,
          "ph": 6.201911642
         },
         {
          "K": 45,
          "N": 101,
          "P": 92,
          "index": 1079,
          "ph": 5.758054257
         },
         {
          "K": 47,
          "N": 99,
          "P": 92,
          "index": 1080,
          "ph": 6.323933647
         },
         {
          "K": 46,
          "N": 82,
          "P": 77,
          "index": 1081,
          "ph": 5.901100841
         },
         {
          "K": 55,
          "N": 90,
          "P": 86,
          "index": 1082,
          "ph": 5.644486582
         },
         {
          "K": 52,
          "N": 95,
          "P": 88,
          "index": 1083,
          "ph": 6.235461772
         },
         {
          "K": 46,
          "N": 104,
          "P": 73,
          "index": 1084,
          "ph": 6.28236237
         },
         {
          "K": 52,
          "N": 102,
          "P": 73,
          "index": 1085,
          "ph": 6.356090905
         },
         {
          "K": 52,
          "N": 100,
          "P": 74,
          "index": 1086,
          "ph": 5.837258235
         },
         {
          "K": 48,
          "N": 94,
          "P": 89,
          "index": 1087,
          "ph": 5.653437902
         },
         {
          "K": 46,
          "N": 99,
          "P": 70,
          "index": 1088,
          "ph": 5.727469947
         },
         {
          "K": 48,
          "N": 112,
          "P": 87,
          "index": 1089,
          "ph": 6.200111068
         },
         {
          "K": 45,
          "N": 117,
          "P": 82,
          "index": 1090,
          "ph": 5.614471478
         },
         {
          "K": 51,
          "N": 96,
          "P": 86,
          "index": 1091,
          "ph": 6.257369799
         },
         {
          "K": 45,
          "N": 113,
          "P": 85,
          "index": 1092,
          "ph": 6.037430836
         },
         {
          "K": 46,
          "N": 105,
          "P": 93,
          "index": 1093,
          "ph": 5.760457558
         },
         {
          "K": 51,
          "N": 85,
          "P": 89,
          "index": 1094,
          "ph": 6.158164422
         },
         {
          "K": 47,
          "N": 108,
          "P": 94,
          "index": 1095,
          "ph": 6.387431383
         },
         {
          "K": 52,
          "N": 92,
          "P": 81,
          "index": 1096,
          "ph": 5.891413895
         },
         {
          "K": 54,
          "N": 110,
          "P": 71,
          "index": 1097,
          "ph": 5.725418961
         },
         {
          "K": 55,
          "N": 82,
          "P": 75,
          "index": 1098,
          "ph": 6.281069505
         },
         {
          "K": 53,
          "N": 117,
          "P": 81,
          "index": 1099,
          "ph": 5.507641778
         },
         {
          "K": 27,
          "N": 2,
          "P": 40,
          "index": 1100,
          "ph": 5.954626604
         },
         {
          "K": 31,
          "N": 39,
          "P": 24,
          "index": 1101,
          "ph": 4.757114897
         },
         {
          "K": 27,
          "N": 21,
          "P": 26,
          "index": 1102,
          "ph": 5.699586972
         },
         {
          "K": 25,
          "N": 25,
          "P": 22,
          "index": 1103,
          "ph": 5.977413803
         },
         {
          "K": 32,
          "N": 0,
          "P": 21,
          "index": 1104,
          "ph": 6.430139436
         },
         {
          "K": 35,
          "N": 20,
          "P": 19,
          "index": 1105,
          "ph": 6.113935087
         },
         {
          "K": 34,
          "N": 19,
          "P": 21,
          "index": 1106,
          "ph": 5.074272692
         },
         {
          "K": 31,
          "N": 18,
          "P": 17,
          "index": 1107,
          "ph": 5.667507706
         },
         {
          "K": 33,
          "N": 11,
          "P": 36,
          "index": 1108,
          "ph": 5.978634285
         },
         {
          "K": 30,
          "N": 30,
          "P": 28,
          "index": 1109,
          "ph": 5.064613314
         },
         {
          "K": 27,
          "N": 18,
          "P": 19,
          "index": 1110,
          "ph": 4.772385986
         },
         {
          "K": 27,
          "N": 23,
          "P": 23,
          "index": 1111,
          "ph": 5.161148592
         },
         {
          "K": 34,
          "N": 37,
          "P": 30,
          "index": 1112,
          "ph": 6.797779227
         },
         {
          "K": 30,
          "N": 11,
          "P": 27,
          "index": 1113,
          "ph": 6.39474303
         },
         {
          "K": 31,
          "N": 12,
          "P": 19,
          "index": 1114,
          "ph": 5.566704378
         },
         {
          "K": 33,
          "N": 3,
          "P": 28,
          "index": 1115,
          "ph": 5.755049971
         },
         {
          "K": 32,
          "N": 37,
          "P": 38,
          "index": 1116,
          "ph": 5.417340525
         },
         {
          "K": 30,
          "N": 26,
          "P": 37,
          "index": 1117,
          "ph": 6.166173834
         },
         {
          "K": 30,
          "N": 14,
          "P": 18,
          "index": 1118,
          "ph": 5.191265116
         },
         {
          "K": 35,
          "N": 40,
          "P": 16,
          "index": 1119,
          "ph": 4.954739564
         },
         {
          "K": 25,
          "N": 4,
          "P": 20,
          "index": 1120,
          "ph": 5.664587011
         },
         {
          "K": 33,
          "N": 36,
          "P": 25,
          "index": 1121,
          "ph": 5.548584852
         },
         {
          "K": 31,
          "N": 30,
          "P": 17,
          "index": 1122,
          "ph": 6.804437106
         },
         {
          "K": 28,
          "N": 28,
          "P": 37,
          "index": 1123,
          "ph": 6.097869767
         },
         {
          "K": 30,
          "N": 38,
          "P": 15,
          "index": 1124,
          "ph": 5.075504537
         },
         {
          "K": 30,
          "N": 12,
          "P": 37,
          "index": 1125,
          "ph": 4.546466109
         },
         {
          "K": 31,
          "N": 38,
          "P": 19,
          "index": 1126,
          "ph": 5.855119268
         },
         {
          "K": 29,
          "N": 8,
          "P": 33,
          "index": 1127,
          "ph": 6.442393461
         },
         {
          "K": 28,
          "N": 15,
          "P": 27,
          "index": 1128,
          "ph": 4.507523551
         },
         {
          "K": 25,
          "N": 34,
          "P": 16,
          "index": 1129,
          "ph": 6.10729559
         },
         {
          "K": 31,
          "N": 11,
          "P": 36,
          "index": 1130,
          "ph": 6.47544932
         },
         {
          "K": 34,
          "N": 33,
          "P": 29,
          "index": 1131,
          "ph": 6.832979509
         },
         {
          "K": 26,
          "N": 12,
          "P": 31,
          "index": 1132,
          "ph": 5.395275719
         },
         {
          "K": 28,
          "N": 12,
          "P": 34,
          "index": 1133,
          "ph": 6.13526938
         },
         {
          "K": 31,
          "N": 5,
          "P": 16,
          "index": 1134,
          "ph": 4.555688532
         },
         {
          "K": 29,
          "N": 1,
          "P": 30,
          "index": 1135,
          "ph": 6.434197756
         },
         {
          "K": 31,
          "N": 16,
          "P": 35,
          "index": 1136,
          "ph": 5.316875978
         },
         {
          "K": 26,
          "N": 35,
          "P": 18,
          "index": 1137,
          "ph": 5.279388967
         },
         {
          "K": 26,
          "N": 4,
          "P": 40,
          "index": 1138,
          "ph": 6.720041791
         },
         {
          "K": 34,
          "N": 9,
          "P": 29,
          "index": 1139,
          "ph": 5.72742254
         },
         {
          "K": 33,
          "N": 2,
          "P": 38,
          "index": 1140,
          "ph": 4.691396195
         },
         {
          "K": 32,
          "N": 26,
          "P": 32,
          "index": 1141,
          "ph": 6.810186079
         },
         {
          "K": 31,
          "N": 34,
          "P": 38,
          "index": 1142,
          "ph": 6.454045329
         },
         {
          "K": 33,
          "N": 5,
          "P": 32,
          "index": 1143,
          "ph": 5.842763773
         },
         {
          "K": 26,
          "N": 31,
          "P": 29,
          "index": 1144,
          "ph": 5.024124684
         },
         {
          "K": 35,
          "N": 34,
          "P": 34,
          "index": 1145,
          "ph": 6.422710539
         },
         {
          "K": 32,
          "N": 36,
          "P": 19,
          "index": 1146,
          "ph": 4.94295037
         },
         {
          "K": 26,
          "N": 7,
          "P": 17,
          "index": 1147,
          "ph": 6.414526606
         },
         {
          "K": 27,
          "N": 38,
          "P": 15,
          "index": 1148,
          "ph": 6.777788126
         },
         {
          "K": 25,
          "N": 5,
          "P": 19,
          "index": 1149,
          "ph": 6.441328044
         },
         {
          "K": 26,
          "N": 37,
          "P": 36,
          "index": 1150,
          "ph": 4.650536197
         },
         {
          "K": 32,
          "N": 21,
          "P": 31,
          "index": 1151,
          "ph": 5.254532213
         },
         {
          "K": 27,
          "N": 37,
          "P": 36,
          "index": 1152,
          "ph": 5.910634533
         },
         {
          "K": 30,
          "N": 23,
          "P": 23,
          "index": 1153,
          "ph": 4.755273631
         },
         {
          "K": 26,
          "N": 36,
          "P": 26,
          "index": 1154,
          "ph": 6.814630246
         },
         {
          "K": 35,
          "N": 24,
          "P": 33,
          "index": 1155,
          "ph": 5.342866119
         },
         {
          "K": 30,
          "N": 26,
          "P": 18,
          "index": 1156,
          "ph": 6.336234624
         },
         {
          "K": 26,
          "N": 22,
          "P": 17,
          "index": 1157,
          "ph": 4.754435025
         },
         {
          "K": 32,
          "N": 11,
          "P": 34,
          "index": 1158,
          "ph": 6.831706773
         },
         {
          "K": 28,
          "N": 29,
          "P": 35,
          "index": 1159,
          "ph": 6.967417766
         },
         {
          "K": 26,
          "N": 22,
          "P": 28,
          "index": 1160,
          "ph": 4.947683034
         },
         {
          "K": 32,
          "N": 23,
          "P": 24,
          "index": 1161,
          "ph": 5.630619901
         },
         {
          "K": 34,
          "N": 1,
          "P": 35,
          "index": 1162,
          "ph": 6.27339822
         },
         {
          "K": 34,
          "N": 2,
          "P": 24,
          "index": 1163,
          "ph": 6.472774648
         },
         {
          "K": 25,
          "N": 39,
          "P": 37,
          "index": 1164,
          "ph": 6.953246506
         },
         {
          "K": 27,
          "N": 15,
          "P": 36,
          "index": 1165,
          "ph": 5.643710216
         },
         {
          "K": 31,
          "N": 3,
          "P": 18,
          "index": 1166,
          "ph": 6.392313973
         },
         {
          "K": 32,
          "N": 8,
          "P": 38,
          "index": 1167,
          "ph": 4.981816523
         },
         {
          "K": 34,
          "N": 33,
          "P": 31,
          "index": 1168,
          "ph": 5.421265283
         },
         {
          "K": 32,
          "N": 14,
          "P": 29,
          "index": 1169,
          "ph": 6.942520105
         },
         {
          "K": 26,
          "N": 18,
          "P": 20,
          "index": 1170,
          "ph": 5.435840509
         },
         {
          "K": 32,
          "N": 9,
          "P": 21,
          "index": 1171,
          "ph": 5.870116071
         },
         {
          "K": 27,
          "N": 20,
          "P": 30,
          "index": 1172,
          "ph": 4.74910393
         },
         {
          "K": 25,
          "N": 9,
          "P": 38,
          "index": 1173,
          "ph": 5.497946899
         },
         {
          "K": 34,
          "N": 26,
          "P": 24,
          "index": 1174,
          "ph": 6.811291098
         },
         {
          "K": 29,
          "N": 31,
          "P": 36,
          "index": 1175,
          "ph": 6.460542749
         },
         {
          "K": 35,
          "N": 14,
          "P": 18,
          "index": 1176,
          "ph": 4.791146778
         },
         {
          "K": 35,
          "N": 40,
          "P": 16,
          "index": 1177,
          "ph": 6.4841522
         },
         {
          "K": 34,
          "N": 28,
          "P": 27,
          "index": 1178,
          "ph": 6.526654345
         },
         {
          "K": 30,
          "N": 0,
          "P": 17,
          "index": 1179,
          "ph": 6.279133738
         },
         {
          "K": 29,
          "N": 1,
          "P": 29,
          "index": 1180,
          "ph": 6.052026047
         },
         {
          "K": 31,
          "N": 2,
          "P": 36,
          "index": 1181,
          "ph": 5.73171945
         },
         {
          "K": 26,
          "N": 12,
          "P": 27,
          "index": 1182,
          "ph": 5.32307197
         },
         {
          "K": 35,
          "N": 7,
          "P": 28,
          "index": 1183,
          "ph": 4.66910839
         },
         {
          "K": 26,
          "N": 0,
          "P": 36,
          "index": 1184,
          "ph": 5.101206389
         },
         {
          "K": 31,
          "N": 26,
          "P": 35,
          "index": 1185,
          "ph": 5.339556562
         },
         {
          "K": 30,
          "N": 27,
          "P": 21,
          "index": 1186,
          "ph": 5.061081874
         },
         {
          "K": 31,
          "N": 22,
          "P": 38,
          "index": 1187,
          "ph": 5.821106036
         },
         {
          "K": 31,
          "N": 22,
          "P": 18,
          "index": 1188,
          "ph": 5.956027059
         },
         {
          "K": 28,
          "N": 28,
          "P": 23,
          "index": 1189,
          "ph": 5.676032581
         },
         {
          "K": 27,
          "N": 7,
          "P": 31,
          "index": 1190,
          "ph": 6.524114355
         },
         {
          "K": 26,
          "N": 29,
          "P": 34,
          "index": 1191,
          "ph": 6.273953676
         },
         {
          "K": 33,
          "N": 8,
          "P": 37,
          "index": 1192,
          "ph": 6.128167757
         },
         {
          "K": 27,
          "N": 39,
          "P": 16,
          "index": 1193,
          "ph": 4.934964765
         },
         {
          "K": 25,
          "N": 40,
          "P": 24,
          "index": 1194,
          "ph": 5.445008416
         },
         {
          "K": 26,
          "N": 19,
          "P": 38,
          "index": 1195,
          "ph": 4.525722333
         },
         {
          "K": 30,
          "N": 21,
          "P": 21,
          "index": 1196,
          "ph": 5.403908328
         },
         {
          "K": 33,
          "N": 22,
          "P": 18,
          "index": 1197,
          "ph": 6.621623545
         },
         {
          "K": 30,
          "N": 31,
          "P": 20,
          "index": 1198,
          "ph": 6.207495815
         },
         {
          "K": 31,
          "N": 18,
          "P": 26,
          "index": 1199,
          "ph": 5.418475257
         },
         {
          "K": 195,
          "N": 24,
          "P": 130,
          "index": 1200,
          "ph": 6.112305667
         },
         {
          "K": 204,
          "N": 13,
          "P": 144,
          "index": 1201,
          "ph": 6.092241627
         },
         {
          "K": 205,
          "N": 22,
          "P": 123,
          "index": 1202,
          "ph": 5.896343436
         },
         {
          "K": 196,
          "N": 36,
          "P": 125,
          "index": 1203,
          "ph": 6.15526103
         },
         {
          "K": 196,
          "N": 24,
          "P": 131,
          "index": 1204,
          "ph": 5.732453638
         },
         {
          "K": 198,
          "N": 2,
          "P": 123,
          "index": 1205,
          "ph": 6.253034534
         },
         {
          "K": 197,
          "N": 35,
          "P": 140,
          "index": 1206,
          "ph": 6.106190557
         },
         {
          "K": 195,
          "N": 11,
          "P": 122,
          "index": 1207,
          "ph": 5.647202395
         },
         {
          "K": 203,
          "N": 6,
          "P": 123,
          "index": 1208,
          "ph": 6.130310493
         },
         {
          "K": 204,
          "N": 17,
          "P": 134,
          "index": 1209,
          "ph": 6.499604931
         },
         {
          "K": 197,
          "N": 25,
          "P": 130,
          "index": 1210,
          "ph": 5.554831977
         },
         {
          "K": 205,
          "N": 27,
          "P": 145,
          "index": 1211,
          "ph": 5.800242694
         },
         {
          "K": 201,
          "N": 9,
          "P": 122,
          "index": 1212,
          "ph": 5.570290539
         },
         {
          "K": 203,
          "N": 16,
          "P": 139,
          "index": 1213,
          "ph": 6.27564088
         },
         {
          "K": 204,
          "N": 32,
          "P": 141,
          "index": 1214,
          "ph": 5.536645599
         },
         {
          "K": 195,
          "N": 22,
          "P": 138,
          "index": 1215,
          "ph": 6.208196881
         },
         {
          "K": 202,
          "N": 31,
          "P": 144,
          "index": 1216,
          "ph": 5.870600622
         },
         {
          "K": 205,
          "N": 3,
          "P": 136,
          "index": 1217,
          "ph": 6.334771461
         },
         {
          "K": 197,
          "N": 28,
          "P": 122,
          "index": 1218,
          "ph": 5.856575335
         },
         {
          "K": 204,
          "N": 4,
          "P": 136,
          "index": 1219,
          "ph": 5.898944282
         },
         {
          "K": 201,
          "N": 39,
          "P": 145,
          "index": 1220,
          "ph": 5.775600435
         },
         {
          "K": 197,
          "N": 38,
          "P": 132,
          "index": 1221,
          "ph": 5.931101816
         },
         {
          "K": 198,
          "N": 36,
          "P": 133,
          "index": 1222,
          "ph": 6.2286454
         },
         {
          "K": 201,
          "N": 25,
          "P": 121,
          "index": 1223,
          "ph": 5.594240603
         },
         {
          "K": 199,
          "N": 15,
          "P": 125,
          "index": 1224,
          "ph": 5.569230319
         },
         {
          "K": 205,
          "N": 24,
          "P": 140,
          "index": 1225,
          "ph": 5.93202852
         },
         {
          "K": 203,
          "N": 13,
          "P": 132,
          "index": 1226,
          "ph": 6.423216506
         },
         {
          "K": 197,
          "N": 5,
          "P": 126,
          "index": 1227,
          "ph": 6.417500829
         },
         {
          "K": 200,
          "N": 30,
          "P": 120,
          "index": 1228,
          "ph": 6.234904253
         },
         {
          "K": 197,
          "N": 23,
          "P": 142,
          "index": 1229,
          "ph": 6.000573725
         },
         {
          "K": 203,
          "N": 26,
          "P": 135,
          "index": 1230,
          "ph": 5.685102769
         },
         {
          "K": 203,
          "N": 7,
          "P": 126,
          "index": 1231,
          "ph": 5.662140095
         },
         {
          "K": 198,
          "N": 32,
          "P": 139,
          "index": 1232,
          "ph": 6.358186848
         },
         {
          "K": 202,
          "N": 9,
          "P": 141,
          "index": 1233,
          "ph": 6.119495295
         },
         {
          "K": 196,
          "N": 20,
          "P": 142,
          "index": 1234,
          "ph": 6.207600783
         },
         {
          "K": 201,
          "N": 32,
          "P": 129,
          "index": 1235,
          "ph": 6.48754639
         },
         {
          "K": 199,
          "N": 3,
          "P": 134,
          "index": 1236,
          "ph": 5.81717753
         },
         {
          "K": 204,
          "N": 38,
          "P": 138,
          "index": 1237,
          "ph": 6.325480034
         },
         {
          "K": 198,
          "N": 14,
          "P": 131,
          "index": 1238,
          "ph": 5.562790949
         },
         {
          "K": 204,
          "N": 20,
          "P": 122,
          "index": 1239,
          "ph": 6.487369687
         },
         {
          "K": 201,
          "N": 40,
          "P": 126,
          "index": 1240,
          "ph": 6.116982944
         },
         {
          "K": 204,
          "N": 36,
          "P": 128,
          "index": 1241,
          "ph": 5.695792761
         },
         {
          "K": 197,
          "N": 11,
          "P": 132,
          "index": 1242,
          "ph": 5.734317007
         },
         {
          "K": 195,
          "N": 0,
          "P": 137,
          "index": 1243,
          "ph": 6.329499832
         },
         {
          "K": 200,
          "N": 19,
          "P": 123,
          "index": 1244,
          "ph": 6.167013532
         },
         {
          "K": 197,
          "N": 31,
          "P": 136,
          "index": 1245,
          "ph": 5.653776058
         },
         {
          "K": 200,
          "N": 4,
          "P": 134,
          "index": 1246,
          "ph": 5.840256272
         },
         {
          "K": 201,
          "N": 39,
          "P": 139,
          "index": 1247,
          "ph": 5.539980812
         },
         {
          "K": 196,
          "N": 8,
          "P": 127,
          "index": 1248,
          "ph": 5.833302165
         },
         {
          "K": 203,
          "N": 39,
          "P": 138,
          "index": 1249,
          "ph": 6.399433771
         },
         {
          "K": 204,
          "N": 32,
          "P": 120,
          "index": 1250,
          "ph": 6.138958698
         },
         {
          "K": 203,
          "N": 12,
          "P": 142,
          "index": 1251,
          "ph": 5.972850838
         },
         {
          "K": 195,
          "N": 8,
          "P": 133,
          "index": 1252,
          "ph": 6.456079585
         },
         {
          "K": 199,
          "N": 8,
          "P": 139,
          "index": 1253,
          "ph": 6.336426667
         },
         {
          "K": 202,
          "N": 21,
          "P": 134,
          "index": 1254,
          "ph": 6.425419926
         },
         {
          "K": 195,
          "N": 40,
          "P": 140,
          "index": 1255,
          "ph": 6.294395676
         },
         {
          "K": 202,
          "N": 39,
          "P": 127,
          "index": 1256,
          "ph": 6.477768039
         },
         {
          "K": 195,
          "N": 19,
          "P": 120,
          "index": 1257,
          "ph": 5.931538447
         },
         {
          "K": 201,
          "N": 21,
          "P": 139,
          "index": 1258,
          "ph": 5.980598579
         },
         {
          "K": 195,
          "N": 17,
          "P": 136,
          "index": 1259,
          "ph": 6.389783283
         },
         {
          "K": 203,
          "N": 33,
          "P": 139,
          "index": 1260,
          "ph": 5.693287415
         },
         {
          "K": 201,
          "N": 22,
          "P": 133,
          "index": 1261,
          "ph": 6.00299607
         },
         {
          "K": 196,
          "N": 32,
          "P": 130,
          "index": 1262,
          "ph": 6.372959542
         },
         {
          "K": 205,
          "N": 37,
          "P": 135,
          "index": 1263,
          "ph": 5.510924849
         },
         {
          "K": 195,
          "N": 15,
          "P": 140,
          "index": 1264,
          "ph": 5.69945282
         },
         {
          "K": 196,
          "N": 39,
          "P": 132,
          "index": 1265,
          "ph": 5.778594403
         },
         {
          "K": 199,
          "N": 40,
          "P": 121,
          "index": 1266,
          "ph": 6.315586313
         },
         {
          "K": 202,
          "N": 40,
          "P": 132,
          "index": 1267,
          "ph": 5.971813006
         },
         {
          "K": 203,
          "N": 29,
          "P": 142,
          "index": 1268,
          "ph": 5.891195653
         },
         {
          "K": 199,
          "N": 32,
          "P": 121,
          "index": 1269,
          "ph": 6.129812716
         },
         {
          "K": 205,
          "N": 6,
          "P": 140,
          "index": 1270,
          "ph": 6.313085601
         },
         {
          "K": 196,
          "N": 8,
          "P": 120,
          "index": 1271,
          "ph": 6.053662544
         },
         {
          "K": 202,
          "N": 34,
          "P": 133,
          "index": 1272,
          "ph": 5.804799142
         },
         {
          "K": 199,
          "N": 35,
          "P": 135,
          "index": 1273,
          "ph": 6.400719746
         },
         {
          "K": 199,
          "N": 16,
          "P": 145,
          "index": 1274,
          "ph": 5.953966361
         },
         {
          "K": 201,
          "N": 8,
          "P": 136,
          "index": 1275,
          "ph": 5.609255992
         },
         {
          "K": 195,
          "N": 25,
          "P": 129,
          "index": 1276,
          "ph": 5.777271492
         },
         {
          "K": 201,
          "N": 16,
          "P": 130,
          "index": 1277,
          "ph": 5.682395429
         },
         {
          "K": 203,
          "N": 39,
          "P": 129,
          "index": 1278,
          "ph": 5.863996687
         },
         {
          "K": 203,
          "N": 38,
          "P": 135,
          "index": 1279,
          "ph": 6.444373116
         },
         {
          "K": 205,
          "N": 33,
          "P": 120,
          "index": 1280,
          "ph": 5.550832178
         },
         {
          "K": 204,
          "N": 35,
          "P": 125,
          "index": 1281,
          "ph": 6.107741788
         },
         {
          "K": 200,
          "N": 1,
          "P": 132,
          "index": 1282,
          "ph": 5.620745638
         },
         {
          "K": 203,
          "N": 39,
          "P": 140,
          "index": 1283,
          "ph": 6.349875906
         },
         {
          "K": 202,
          "N": 28,
          "P": 145,
          "index": 1284,
          "ph": 6.484323189
         },
         {
          "K": 200,
          "N": 6,
          "P": 128,
          "index": 1285,
          "ph": 5.838748311
         },
         {
          "K": 199,
          "N": 6,
          "P": 139,
          "index": 1286,
          "ph": 6.29099842
         },
         {
          "K": 196,
          "N": 29,
          "P": 122,
          "index": 1287,
          "ph": 5.638328481
         },
         {
          "K": 197,
          "N": 37,
          "P": 144,
          "index": 1288,
          "ph": 6.415555956
         },
         {
          "K": 197,
          "N": 38,
          "P": 120,
          "index": 1289,
          "ph": 6.323722572
         },
         {
          "K": 198,
          "N": 38,
          "P": 141,
          "index": 1290,
          "ph": 5.757009965
         },
         {
          "K": 203,
          "N": 14,
          "P": 121,
          "index": 1291,
          "ph": 6.158689406
         },
         {
          "K": 204,
          "N": 6,
          "P": 125,
          "index": 1292,
          "ph": 5.733539807
         },
         {
          "K": 197,
          "N": 32,
          "P": 138,
          "index": 1293,
          "ph": 5.908724337
         },
         {
          "K": 204,
          "N": 11,
          "P": 124,
          "index": 1294,
          "ph": 6.361141107
         },
         {
          "K": 200,
          "N": 23,
          "P": 138,
          "index": 1295,
          "ph": 5.96537863
         },
         {
          "K": 201,
          "N": 40,
          "P": 143,
          "index": 1296,
          "ph": 6.476757723
         },
         {
          "K": 202,
          "N": 6,
          "P": 142,
          "index": 1297,
          "ph": 6.224542938
         },
         {
          "K": 195,
          "N": 37,
          "P": 124,
          "index": 1298,
          "ph": 6.209928251
         },
         {
          "K": 204,
          "N": 35,
          "P": 134,
          "index": 1299,
          "ph": 5.841138354
         },
         {
          "K": 51,
          "N": 119,
          "P": 25,
          "index": 1300,
          "ph": 6.283818329
         },
         {
          "K": 55,
          "N": 119,
          "P": 19,
          "index": 1301,
          "ph": 6.818261383
         },
         {
          "K": 50,
          "N": 105,
          "P": 30,
          "index": 1302,
          "ph": 6.37620108
         },
         {
          "K": 50,
          "N": 114,
          "P": 8,
          "index": 1303,
          "ph": 6.581587932
         },
         {
          "K": 52,
          "N": 93,
          "P": 22,
          "index": 1304,
          "ph": 6.932739726
         },
         {
          "K": 55,
          "N": 80,
          "P": 26,
          "index": 1305,
          "ph": 6.140099215
         },
         {
          "K": 45,
          "N": 85,
          "P": 27,
          "index": 1306,
          "ph": 6.467095849
         },
         {
          "K": 53,
          "N": 85,
          "P": 22,
          "index": 1307,
          "ph": 6.849471704
         },
         {
          "K": 45,
          "N": 82,
          "P": 22,
          "index": 1308,
          "ph": 6.512196212
         },
         {
          "K": 54,
          "N": 118,
          "P": 13,
          "index": 1309,
          "ph": 6.039584629
         },
         {
          "K": 53,
          "N": 83,
          "P": 25,
          "index": 1310,
          "ph": 6.057697106
         },
         {
          "K": 47,
          "N": 86,
          "P": 15,
          "index": 1311,
          "ph": 6.423898762
         },
         {
          "K": 47,
          "N": 101,
          "P": 10,
          "index": 1312,
          "ph": 6.936997681
         },
         {
          "K": 50,
          "N": 119,
          "P": 9,
          "index": 1313,
          "ph": 6.251286661
         },
         {
          "K": 46,
          "N": 104,
          "P": 17,
          "index": 1314,
          "ph": 6.190015912
         },
         {
          "K": 51,
          "N": 95,
          "P": 12,
          "index": 1315,
          "ph": 6.681606702
         },
         {
          "K": 52,
          "N": 102,
          "P": 14,
          "index": 1316,
          "ph": 6.51075991
         },
         {
          "K": 55,
          "N": 109,
          "P": 21,
          "index": 1317,
          "ph": 6.770278088
         },
         {
          "K": 50,
          "N": 81,
          "P": 18,
          "index": 1318,
          "ph": 6.429788073
         },
         {
          "K": 51,
          "N": 103,
          "P": 17,
          "index": 1319,
          "ph": 6.209888345
         },
         {
          "K": 50,
          "N": 105,
          "P": 14,
          "index": 1320,
          "ph": 6.419052193
         },
         {
          "K": 52,
          "N": 97,
          "P": 8,
          "index": 1321,
          "ph": 6.237861736
         },
         {
          "K": 49,
          "N": 120,
          "P": 19,
          "index": 1322,
          "ph": 6.762471629
         },
         {
          "K": 55,
          "N": 95,
          "P": 16,
          "index": 1323,
          "ph": 6.612847999
         },
         {
          "K": 52,
          "N": 83,
          "P": 29,
          "index": 1324,
          "ph": 6.704688865
         },
         {
          "K": 45,
          "N": 83,
          "P": 9,
          "index": 1325,
          "ph": 6.049609892
         },
         {
          "K": 50,
          "N": 91,
          "P": 21,
          "index": 1326,
          "ph": 6.762030215
         },
         {
          "K": 54,
          "N": 116,
          "P": 5,
          "index": 1327,
          "ph": 6.65398725
         },
         {
          "K": 54,
          "N": 112,
          "P": 28,
          "index": 1328,
          "ph": 6.738030547
         },
         {
          "K": 51,
          "N": 88,
          "P": 29,
          "index": 1329,
          "ph": 6.095689937
         },
         {
          "K": 45,
          "N": 118,
          "P": 15,
          "index": 1330,
          "ph": 6.538006356
         },
         {
          "K": 48,
          "N": 92,
          "P": 21,
          "index": 1331,
          "ph": 6.377427122
         },
         {
          "K": 45,
          "N": 106,
          "P": 14,
          "index": 1332,
          "ph": 6.417011754
         },
         {
          "K": 47,
          "N": 99,
          "P": 5,
          "index": 1333,
          "ph": 6.649086972
         },
         {
          "K": 51,
          "N": 98,
          "P": 8,
          "index": 1334,
          "ph": 6.25933595
         },
         {
          "K": 46,
          "N": 108,
          "P": 22,
          "index": 1335,
          "ph": 6.121168559
         },
         {
          "K": 55,
          "N": 119,
          "P": 7,
          "index": 1336,
          "ph": 6.031424482
         },
         {
          "K": 48,
          "N": 117,
          "P": 27,
          "index": 1337,
          "ph": 6.835268184
         },
         {
          "K": 53,
          "N": 109,
          "P": 10,
          "index": 1338,
          "ph": 6.551750306
         },
         {
          "K": 46,
          "N": 80,
          "P": 16,
          "index": 1339,
          "ph": 6.940236218
         },
         {
          "K": 52,
          "N": 100,
          "P": 18,
          "index": 1340,
          "ph": 6.87606733
         },
         {
          "K": 53,
          "N": 91,
          "P": 7,
          "index": 1341,
          "ph": 6.457216535
         },
         {
          "K": 53,
          "N": 86,
          "P": 6,
          "index": 1342,
          "ph": 6.921847888
         },
         {
          "K": 52,
          "N": 107,
          "P": 5,
          "index": 1343,
          "ph": 6.881425746
         },
         {
          "K": 49,
          "N": 103,
          "P": 16,
          "index": 1344,
          "ph": 6.915717008
         },
         {
          "K": 48,
          "N": 101,
          "P": 20,
          "index": 1345,
          "ph": 6.206247494
         },
         {
          "K": 47,
          "N": 85,
          "P": 25,
          "index": 1346,
          "ph": 6.29542477
         },
         {
          "K": 51,
          "N": 84,
          "P": 7,
          "index": 1347,
          "ph": 6.399669044
         },
         {
          "K": 54,
          "N": 102,
          "P": 28,
          "index": 1348,
          "ph": 6.862157042
         },
         {
          "K": 52,
          "N": 98,
          "P": 25,
          "index": 1349,
          "ph": 6.224066378
         },
         {
          "K": 50,
          "N": 97,
          "P": 25,
          "index": 1350,
          "ph": 6.093814669
         },
         {
          "K": 45,
          "N": 90,
          "P": 16,
          "index": 1351,
          "ph": 6.291540278
         },
         {
          "K": 46,
          "N": 95,
          "P": 12,
          "index": 1352,
          "ph": 6.32281728
         },
         {
          "K": 49,
          "N": 82,
          "P": 23,
          "index": 1353,
          "ph": 6.873283991
         },
         {
          "K": 51,
          "N": 82,
          "P": 25,
          "index": 1354,
          "ph": 6.074209622
         },
         {
          "K": 46,
          "N": 110,
          "P": 28,
          "index": 1355,
          "ph": 6.49889585
         },
         {
          "K": 51,
          "N": 118,
          "P": 21,
          "index": 1356,
          "ph": 6.678805092
         },
         {
          "K": 45,
          "N": 120,
          "P": 20,
          "index": 1357,
          "ph": 6.114128685
         },
         {
          "K": 52,
          "N": 91,
          "P": 7,
          "index": 1358,
          "ph": 6.405054243
         },
         {
          "K": 55,
          "N": 81,
          "P": 6,
          "index": 1359,
          "ph": 6.110142735
         },
         {
          "K": 54,
          "N": 101,
          "P": 13,
          "index": 1360,
          "ph": 6.828982708
         },
         {
          "K": 55,
          "N": 101,
          "P": 17,
          "index": 1361,
          "ph": 6.451499764
         },
         {
          "K": 53,
          "N": 111,
          "P": 6,
          "index": 1362,
          "ph": 6.313512999
         },
         {
          "K": 49,
          "N": 107,
          "P": 10,
          "index": 1363,
          "ph": 6.755192025
         },
         {
          "K": 46,
          "N": 115,
          "P": 11,
          "index": 1364,
          "ph": 6.623167177
         },
         {
          "K": 52,
          "N": 84,
          "P": 25,
          "index": 1365,
          "ph": 6.12532356
         },
         {
          "K": 47,
          "N": 120,
          "P": 7,
          "index": 1366,
          "ph": 6.653867608
         },
         {
          "K": 46,
          "N": 91,
          "P": 12,
          "index": 1367,
          "ph": 6.343942518
         },
         {
          "K": 52,
          "N": 89,
          "P": 22,
          "index": 1368,
          "ph": 6.217300786
         },
         {
          "K": 46,
          "N": 113,
          "P": 19,
          "index": 1369,
          "ph": 6.286387658
         },
         {
          "K": 50,
          "N": 97,
          "P": 22,
          "index": 1370,
          "ph": 6.7698938
         },
         {
          "K": 50,
          "N": 117,
          "P": 30,
          "index": 1371,
          "ph": 6.744966312
         },
         {
          "K": 52,
          "N": 90,
          "P": 14,
          "index": 1372,
          "ph": 6.391858432
         },
         {
          "K": 47,
          "N": 104,
          "P": 23,
          "index": 1373,
          "ph": 6.770434148
         },
         {
          "K": 45,
          "N": 81,
          "P": 16,
          "index": 1374,
          "ph": 6.727468157
         },
         {
          "K": 47,
          "N": 88,
          "P": 5,
          "index": 1375,
          "ph": 6.662244646
         },
         {
          "K": 45,
          "N": 92,
          "P": 7,
          "index": 1376,
          "ph": 6.944640222
         },
         {
          "K": 50,
          "N": 81,
          "P": 18,
          "index": 1377,
          "ph": 6.507110986
         },
         {
          "K": 55,
          "N": 111,
          "P": 5,
          "index": 1378,
          "ph": 6.520663422
         },
         {
          "K": 51,
          "N": 108,
          "P": 23,
          "index": 1379,
          "ph": 6.106500787
         },
         {
          "K": 50,
          "N": 113,
          "P": 30,
          "index": 1380,
          "ph": 6.277484043
         },
         {
          "K": 53,
          "N": 83,
          "P": 10,
          "index": 1381,
          "ph": 6.195142279
         },
         {
          "K": 51,
          "N": 101,
          "P": 11,
          "index": 1382,
          "ph": 6.792035575
         },
         {
          "K": 55,
          "N": 114,
          "P": 21,
          "index": 1383,
          "ph": 6.472756256
         },
         {
          "K": 45,
          "N": 99,
          "P": 6,
          "index": 1384,
          "ph": 6.000975617
         },
         {
          "K": 55,
          "N": 92,
          "P": 20,
          "index": 1385,
          "ph": 6.587791262
         },
         {
          "K": 48,
          "N": 92,
          "P": 7,
          "index": 1386,
          "ph": 6.956508826
         },
         {
          "K": 55,
          "N": 91,
          "P": 24,
          "index": 1387,
          "ph": 6.259086583
         },
         {
          "K": 54,
          "N": 110,
          "P": 21,
          "index": 1388,
          "ph": 6.747537642
         },
         {
          "K": 51,
          "N": 112,
          "P": 25,
          "index": 1389,
          "ph": 6.932537231
         },
         {
          "K": 54,
          "N": 89,
          "P": 25,
          "index": 1390,
          "ph": 6.353107393
         },
         {
          "K": 53,
          "N": 100,
          "P": 10,
          "index": 1391,
          "ph": 6.211748957
         },
         {
          "K": 54,
          "N": 83,
          "P": 22,
          "index": 1392,
          "ph": 6.277245254
         },
         {
          "K": 50,
          "N": 95,
          "P": 14,
          "index": 1393,
          "ph": 6.560443519
         },
         {
          "K": 49,
          "N": 119,
          "P": 30,
          "index": 1394,
          "ph": 6.903020221
         },
         {
          "K": 47,
          "N": 97,
          "P": 12,
          "index": 1395,
          "ph": 6.765094964
         },
         {
          "K": 45,
          "N": 110,
          "P": 7,
          "index": 1396,
          "ph": 6.189213927
         },
         {
          "K": 50,
          "N": 96,
          "P": 18,
          "index": 1397,
          "ph": 6.904241707
         },
         {
          "K": 55,
          "N": 83,
          "P": 23,
          "index": 1398,
          "ph": 6.463271076
         },
         {
          "K": 47,
          "N": 120,
          "P": 24,
          "index": 1399,
          "ph": 6.260838965
         },
         {
          "K": 55,
          "N": 115,
          "P": 17,
          "index": 1400,
          "ph": 6.776533055
         },
         {
          "K": 48,
          "N": 114,
          "P": 27,
          "index": 1401,
          "ph": 6.528404378
         },
         {
          "K": 52,
          "N": 101,
          "P": 25,
          "index": 1402,
          "ph": 6.750145572
         },
         {
          "K": 52,
          "N": 118,
          "P": 18,
          "index": 1403,
          "ph": 6.562832807
         },
         {
          "K": 45,
          "N": 95,
          "P": 26,
          "index": 1404,
          "ph": 6.117530021
         },
         {
          "K": 49,
          "N": 81,
          "P": 25,
          "index": 1405,
          "ph": 6.076459669
         },
         {
          "K": 53,
          "N": 117,
          "P": 24,
          "index": 1406,
          "ph": 6.293486295
         },
         {
          "K": 51,
          "N": 114,
          "P": 30,
          "index": 1407,
          "ph": 6.069171847
         },
         {
          "K": 52,
          "N": 113,
          "P": 6,
          "index": 1408,
          "ph": 6.740983646
         },
         {
          "K": 52,
          "N": 108,
          "P": 26,
          "index": 1409,
          "ph": 6.201797639
         },
         {
          "K": 48,
          "N": 81,
          "P": 30,
          "index": 1410,
          "ph": 6.041027474
         },
         {
          "K": 52,
          "N": 115,
          "P": 9,
          "index": 1411,
          "ph": 6.019372459
         },
         {
          "K": 45,
          "N": 83,
          "P": 7,
          "index": 1412,
          "ph": 6.704104127
         },
         {
          "K": 55,
          "N": 84,
          "P": 21,
          "index": 1413,
          "ph": 6.494251024
         },
         {
          "K": 45,
          "N": 109,
          "P": 26,
          "index": 1414,
          "ph": 6.224535449
         },
         {
          "K": 55,
          "N": 95,
          "P": 27,
          "index": 1415,
          "ph": 6.160414414
         },
         {
          "K": 55,
          "N": 119,
          "P": 5,
          "index": 1416,
          "ph": 6.168757984
         },
         {
          "K": 51,
          "N": 110,
          "P": 14,
          "index": 1417,
          "ph": 6.085444691
         },
         {
          "K": 48,
          "N": 82,
          "P": 18,
          "index": 1418,
          "ph": 6.159050816
         },
         {
          "K": 48,
          "N": 87,
          "P": 14,
          "index": 1419,
          "ph": 6.606033244
         },
         {
          "K": 53,
          "N": 85,
          "P": 9,
          "index": 1420,
          "ph": 6.447662945
         },
         {
          "K": 53,
          "N": 100,
          "P": 6,
          "index": 1421,
          "ph": 6.105909623
         },
         {
          "K": 46,
          "N": 107,
          "P": 12,
          "index": 1422,
          "ph": 6.559763394
         },
         {
          "K": 47,
          "N": 91,
          "P": 13,
          "index": 1423,
          "ph": 6.14410903
         },
         {
          "K": 50,
          "N": 102,
          "P": 25,
          "index": 1424,
          "ph": 6.099662369
         },
         {
          "K": 53,
          "N": 117,
          "P": 25,
          "index": 1425,
          "ph": 6.413927319
         },
         {
          "K": 52,
          "N": 85,
          "P": 21,
          "index": 1426,
          "ph": 6.075144116
         },
         {
          "K": 55,
          "N": 104,
          "P": 25,
          "index": 1427,
          "ph": 6.123802502
         },
         {
          "K": 54,
          "N": 102,
          "P": 24,
          "index": 1428,
          "ph": 6.698468621
         },
         {
          "K": 50,
          "N": 116,
          "P": 25,
          "index": 1429,
          "ph": 6.088885814
         },
         {
          "K": 48,
          "N": 100,
          "P": 17,
          "index": 1430,
          "ph": 6.367800632
         },
         {
          "K": 54,
          "N": 110,
          "P": 25,
          "index": 1431,
          "ph": 6.425930938
         },
         {
          "K": 51,
          "N": 104,
          "P": 25,
          "index": 1432,
          "ph": 6.469983276
         },
         {
          "K": 54,
          "N": 107,
          "P": 11,
          "index": 1433,
          "ph": 6.094016338
         },
         {
          "K": 52,
          "N": 98,
          "P": 26,
          "index": 1434,
          "ph": 6.150090899
         },
         {
          "K": 52,
          "N": 88,
          "P": 17,
          "index": 1435,
          "ph": 6.646962425
         },
         {
          "K": 46,
          "N": 87,
          "P": 25,
          "index": 1436,
          "ph": 6.379690748
         },
         {
          "K": 46,
          "N": 120,
          "P": 8,
          "index": 1437,
          "ph": 6.732834334
         },
         {
          "K": 46,
          "N": 95,
          "P": 13,
          "index": 1438,
          "ph": 6.126019932
         },
         {
          "K": 47,
          "N": 108,
          "P": 22,
          "index": 1439,
          "ph": 6.161123579
         },
         {
          "K": 52,
          "N": 82,
          "P": 13,
          "index": 1440,
          "ph": 6.442810053
         },
         {
          "K": 55,
          "N": 120,
          "P": 23,
          "index": 1441,
          "ph": 6.732049075
         },
         {
          "K": 47,
          "N": 110,
          "P": 22,
          "index": 1442,
          "ph": 6.243673725
         },
         {
          "K": 45,
          "N": 95,
          "P": 23,
          "index": 1443,
          "ph": 6.266208727
         },
         {
          "K": 49,
          "N": 106,
          "P": 10,
          "index": 1444,
          "ph": 6.350623739
         },
         {
          "K": 52,
          "N": 99,
          "P": 12,
          "index": 1445,
          "ph": 6.002927293
         },
         {
          "K": 51,
          "N": 106,
          "P": 20,
          "index": 1446,
          "ph": 6.342573112
         },
         {
          "K": 53,
          "N": 83,
          "P": 11,
          "index": 1447,
          "ph": 6.163921248
         },
         {
          "K": 55,
          "N": 117,
          "P": 19,
          "index": 1448,
          "ph": 6.121745389
         },
         {
          "K": 49,
          "N": 98,
          "P": 26,
          "index": 1449,
          "ph": 6.130160473
         },
         {
          "K": 48,
          "N": 113,
          "P": 20,
          "index": 1450,
          "ph": 6.440584681
         },
         {
          "K": 47,
          "N": 101,
          "P": 17,
          "index": 1451,
          "ph": 6.185053234
         },
         {
          "K": 45,
          "N": 98,
          "P": 7,
          "index": 1452,
          "ph": 6.157724816
         },
         {
          "K": 48,
          "N": 93,
          "P": 22,
          "index": 1453,
          "ph": 6.776987974
         },
         {
          "K": 47,
          "N": 95,
          "P": 21,
          "index": 1454,
          "ph": 6.431970877
         },
         {
          "K": 48,
          "N": 109,
          "P": 12,
          "index": 1455,
          "ph": 6.708743843
         },
         {
          "K": 47,
          "N": 118,
          "P": 12,
          "index": 1456,
          "ph": 6.010739645
         },
         {
          "K": 49,
          "N": 100,
          "P": 14,
          "index": 1457,
          "ph": 6.365956658
         },
         {
          "K": 47,
          "N": 89,
          "P": 9,
          "index": 1458,
          "ph": 6.668382766
         },
         {
          "K": 46,
          "N": 95,
          "P": 16,
          "index": 1459,
          "ph": 6.74669542
         },
         {
          "K": 45,
          "N": 95,
          "P": 7,
          "index": 1460,
          "ph": 6.031665834
         },
         {
          "K": 45,
          "N": 87,
          "P": 6,
          "index": 1461,
          "ph": 6.40077205
         },
         {
          "K": 50,
          "N": 93,
          "P": 20,
          "index": 1462,
          "ph": 6.448792689
         },
         {
          "K": 49,
          "N": 84,
          "P": 29,
          "index": 1463,
          "ph": 6.251420275
         },
         {
          "K": 47,
          "N": 111,
          "P": 5,
          "index": 1464,
          "ph": 6.274452811
         },
         {
          "K": 52,
          "N": 111,
          "P": 5,
          "index": 1465,
          "ph": 6.135996372
         },
         {
          "K": 54,
          "N": 111,
          "P": 15,
          "index": 1466,
          "ph": 6.194090172
         },
         {
          "K": 47,
          "N": 89,
          "P": 11,
          "index": 1467,
          "ph": 6.327822962
         },
         {
          "K": 48,
          "N": 110,
          "P": 15,
          "index": 1468,
          "ph": 6.212567211
         },
         {
          "K": 52,
          "N": 95,
          "P": 30,
          "index": 1469,
          "ph": 6.640470863
         },
         {
          "K": 52,
          "N": 115,
          "P": 12,
          "index": 1470,
          "ph": 6.685553129
         },
         {
          "K": 50,
          "N": 120,
          "P": 25,
          "index": 1471,
          "ph": 6.327210469
         },
         {
          "K": 45,
          "N": 102,
          "P": 11,
          "index": 1472,
          "ph": 6.35544263
         },
         {
          "K": 55,
          "N": 94,
          "P": 5,
          "index": 1473,
          "ph": 6.085682344
         },
         {
          "K": 46,
          "N": 84,
          "P": 18,
          "index": 1474,
          "ph": 6.781050373
         },
         {
          "K": 54,
          "N": 107,
          "P": 22,
          "index": 1475,
          "ph": 6.630301421
         },
         {
          "K": 52,
          "N": 80,
          "P": 18,
          "index": 1476,
          "ph": 6.484799661
         },
         {
          "K": 45,
          "N": 86,
          "P": 18,
          "index": 1477,
          "ph": 6.566759102
         },
         {
          "K": 48,
          "N": 113,
          "P": 28,
          "index": 1478,
          "ph": 6.170520518
         },
         {
          "K": 53,
          "N": 115,
          "P": 18,
          "index": 1479,
          "ph": 6.012480351
         },
         {
          "K": 54,
          "N": 82,
          "P": 20,
          "index": 1480,
          "ph": 6.541150335
         },
         {
          "K": 47,
          "N": 98,
          "P": 22,
          "index": 1481,
          "ph": 6.341400922
         },
         {
          "K": 54,
          "N": 117,
          "P": 25,
          "index": 1482,
          "ph": 6.150686364
         },
         {
          "K": 49,
          "N": 83,
          "P": 15,
          "index": 1483,
          "ph": 6.438008153
         },
         {
          "K": 51,
          "N": 120,
          "P": 16,
          "index": 1484,
          "ph": 6.547041903
         },
         {
          "K": 50,
          "N": 111,
          "P": 5,
          "index": 1485,
          "ph": 6.399891457
         },
         {
          "K": 47,
          "N": 85,
          "P": 21,
          "index": 1486,
          "ph": 6.186770318
         },
         {
          "K": 54,
          "N": 90,
          "P": 23,
          "index": 1487,
          "ph": 6.159020864
         },
         {
          "K": 55,
          "N": 99,
          "P": 29,
          "index": 1488,
          "ph": 6.660954816
         },
         {
          "K": 47,
          "N": 102,
          "P": 11,
          "index": 1489,
          "ph": 6.504906979
         },
         {
          "K": 51,
          "N": 80,
          "P": 18,
          "index": 1490,
          "ph": 6.706053225
         },
         {
          "K": 52,
          "N": 87,
          "P": 21,
          "index": 1491,
          "ph": 6.067665498
         },
         {
          "K": 52,
          "N": 114,
          "P": 8,
          "index": 1492,
          "ph": 6.419083092
         },
         {
          "K": 46,
          "N": 99,
          "P": 6,
          "index": 1493,
          "ph": 6.39637861
         },
         {
          "K": 50,
          "N": 89,
          "P": 25,
          "index": 1494,
          "ph": 6.375923383
         },
         {
          "K": 55,
          "N": 96,
          "P": 13,
          "index": 1495,
          "ph": 6.700337732
         },
         {
          "K": 47,
          "N": 82,
          "P": 26,
          "index": 1496,
          "ph": 6.565312653
         },
         {
          "K": 52,
          "N": 106,
          "P": 21,
          "index": 1497,
          "ph": 6.286515359
         },
         {
          "K": 52,
          "N": 90,
          "P": 15,
          "index": 1498,
          "ph": 6.448061578
         },
         {
          "K": 54,
          "N": 106,
          "P": 16,
          "index": 1499,
          "ph": 6.585872508
         },
         {
          "K": 196,
          "N": 24,
          "P": 128,
          "index": 1500,
          "ph": 5.521466996
         },
         {
          "K": 197,
          "N": 7,
          "P": 144,
          "index": 1501,
          "ph": 6.133220586
         },
         {
          "K": 205,
          "N": 14,
          "P": 128,
          "index": 1502,
          "ph": 6.226289556
         },
         {
          "K": 201,
          "N": 8,
          "P": 120,
          "index": 1503,
          "ph": 6.321152192
         },
         {
          "K": 201,
          "N": 20,
          "P": 129,
          "index": 1504,
          "ph": 5.587905967
         },
         {
          "K": 204,
          "N": 32,
          "P": 137,
          "index": 1505,
          "ph": 5.824151693
         },
         {
          "K": 205,
          "N": 27,
          "P": 139,
          "index": 1506,
          "ph": 5.772179946
         },
         {
          "K": 205,
          "N": 0,
          "P": 123,
          "index": 1507,
          "ph": 5.790993052
         },
         {
          "K": 196,
          "N": 22,
          "P": 144,
          "index": 1508,
          "ph": 6.499226821
         },
         {
          "K": 199,
          "N": 1,
          "P": 124,
          "index": 1509,
          "ph": 5.658473817
         },
         {
          "K": 197,
          "N": 30,
          "P": 122,
          "index": 1510,
          "ph": 5.573241391
         },
         {
          "K": 196,
          "N": 29,
          "P": 121,
          "index": 1511,
          "ph": 6.079497202
         },
         {
          "K": 204,
          "N": 13,
          "P": 126,
          "index": 1512,
          "ph": 6.383180271
         },
         {
          "K": 199,
          "N": 9,
          "P": 139,
          "index": 1513,
          "ph": 5.867420996
         },
         {
          "K": 200,
          "N": 0,
          "P": 133,
          "index": 1514,
          "ph": 5.708418722
         },
         {
          "K": 199,
          "N": 30,
          "P": 143,
          "index": 1515,
          "ph": 5.7983508
         },
         {
          "K": 198,
          "N": 36,
          "P": 140,
          "index": 1516,
          "ph": 6.28188384
         },
         {
          "K": 199,
          "N": 37,
          "P": 137,
          "index": 1517,
          "ph": 5.697945522
         },
         {
          "K": 203,
          "N": 33,
          "P": 121,
          "index": 1518,
          "ph": 5.605934087
         },
         {
          "K": 195,
          "N": 7,
          "P": 144,
          "index": 1519,
          "ph": 5.85648105
         },
         {
          "K": 205,
          "N": 35,
          "P": 128,
          "index": 1520,
          "ph": 6.041053829
         },
         {
          "K": 198,
          "N": 29,
          "P": 128,
          "index": 1521,
          "ph": 5.685062404
         },
         {
          "K": 196,
          "N": 2,
          "P": 143,
          "index": 1522,
          "ph": 5.669489065
         },
         {
          "K": 198,
          "N": 34,
          "P": 140,
          "index": 1523,
          "ph": 5.751707342
         },
         {
          "K": 204,
          "N": 29,
          "P": 144,
          "index": 1524,
          "ph": 5.800448951
         },
         {
          "K": 203,
          "N": 32,
          "P": 141,
          "index": 1525,
          "ph": 5.821347769
         },
         {
          "K": 197,
          "N": 13,
          "P": 144,
          "index": 1526,
          "ph": 6.28022267
         },
         {
          "K": 198,
          "N": 25,
          "P": 143,
          "index": 1527,
          "ph": 6.027314401
         },
         {
          "K": 200,
          "N": 9,
          "P": 137,
          "index": 1528,
          "ph": 5.636687393
         },
         {
          "K": 198,
          "N": 6,
          "P": 144,
          "index": 1529,
          "ph": 5.559363609
         },
         {
          "K": 196,
          "N": 37,
          "P": 126,
          "index": 1530,
          "ph": 5.596449493
         },
         {
          "K": 203,
          "N": 2,
          "P": 120,
          "index": 1531,
          "ph": 5.893492999
         },
         {
          "K": 197,
          "N": 11,
          "P": 143,
          "index": 1532,
          "ph": 5.875718516
         },
         {
          "K": 201,
          "N": 10,
          "P": 141,
          "index": 1533,
          "ph": 6.386021424
         },
         {
          "K": 202,
          "N": 24,
          "P": 142,
          "index": 1534,
          "ph": 5.710819862
         },
         {
          "K": 195,
          "N": 23,
          "P": 138,
          "index": 1535,
          "ph": 5.795985716
         },
         {
          "K": 204,
          "N": 18,
          "P": 125,
          "index": 1536,
          "ph": 6.046673619
         },
         {
          "K": 196,
          "N": 13,
          "P": 121,
          "index": 1537,
          "ph": 6.443382913
         },
         {
          "K": 202,
          "N": 26,
          "P": 122,
          "index": 1538,
          "ph": 5.617227184
         },
         {
          "K": 202,
          "N": 28,
          "P": 123,
          "index": 1539,
          "ph": 6.442289294
         },
         {
          "K": 201,
          "N": 26,
          "P": 121,
          "index": 1540,
          "ph": 6.162034371
         },
         {
          "K": 196,
          "N": 21,
          "P": 137,
          "index": 1541,
          "ph": 5.812781806
         },
         {
          "K": 198,
          "N": 21,
          "P": 135,
          "index": 1542,
          "ph": 5.765015126
         },
         {
          "K": 205,
          "N": 5,
          "P": 144,
          "index": 1543,
          "ph": 6.184922574
         },
         {
          "K": 205,
          "N": 2,
          "P": 123,
          "index": 1544,
          "ph": 5.739652177
         },
         {
          "K": 199,
          "N": 15,
          "P": 133,
          "index": 1545,
          "ph": 5.824778636
         },
         {
          "K": 198,
          "N": 31,
          "P": 130,
          "index": 1546,
          "ph": 5.554823557
         },
         {
          "K": 200,
          "N": 25,
          "P": 143,
          "index": 1547,
          "ph": 6.024248787
         },
         {
          "K": 204,
          "N": 16,
          "P": 143,
          "index": 1548,
          "ph": 5.631333387
         },
         {
          "K": 202,
          "N": 19,
          "P": 122,
          "index": 1549,
          "ph": 5.811975094
         },
         {
          "K": 196,
          "N": 10,
          "P": 125,
          "index": 1550,
          "ph": 5.730557448
         },
         {
          "K": 202,
          "N": 20,
          "P": 139,
          "index": 1551,
          "ph": 5.66999105
         },
         {
          "K": 198,
          "N": 28,
          "P": 123,
          "index": 1552,
          "ph": 5.682751473
         },
         {
          "K": 200,
          "N": 28,
          "P": 136,
          "index": 1553,
          "ph": 6.245858905
         },
         {
          "K": 199,
          "N": 2,
          "P": 131,
          "index": 1554,
          "ph": 6.017370134
         },
         {
          "K": 197,
          "N": 2,
          "P": 140,
          "index": 1555,
          "ph": 5.53456749
         },
         {
          "K": 201,
          "N": 27,
          "P": 138,
          "index": 1556,
          "ph": 5.952367662
         },
         {
          "K": 204,
          "N": 30,
          "P": 127,
          "index": 1557,
          "ph": 6.126436584
         },
         {
          "K": 203,
          "N": 32,
          "P": 145,
          "index": 1558,
          "ph": 6.406818518
         },
         {
          "K": 205,
          "N": 29,
          "P": 139,
          "index": 1559,
          "ph": 6.155939453
         },
         {
          "K": 195,
          "N": 26,
          "P": 126,
          "index": 1560,
          "ph": 5.878568981
         },
         {
          "K": 202,
          "N": 40,
          "P": 136,
          "index": 1561,
          "ph": 5.935336308
         },
         {
          "K": 200,
          "N": 6,
          "P": 124,
          "index": 1562,
          "ph": 5.971332179
         },
         {
          "K": 200,
          "N": 35,
          "P": 138,
          "index": 1563,
          "ph": 5.67130617
         },
         {
          "K": 196,
          "N": 17,
          "P": 136,
          "index": 1564,
          "ph": 5.882155988
         },
         {
          "K": 205,
          "N": 33,
          "P": 134,
          "index": 1565,
          "ph": 6.08551916
         },
         {
          "K": 197,
          "N": 16,
          "P": 143,
          "index": 1566,
          "ph": 5.90402645
         },
         {
          "K": 200,
          "N": 27,
          "P": 120,
          "index": 1567,
          "ph": 6.110218826
         },
         {
          "K": 205,
          "N": 29,
          "P": 145,
          "index": 1568,
          "ph": 6.212302608
         },
         {
          "K": 197,
          "N": 3,
          "P": 141,
          "index": 1569,
          "ph": 6.142803397
         },
         {
          "K": 204,
          "N": 15,
          "P": 123,
          "index": 1570,
          "ph": 6.365972688
         },
         {
          "K": 195,
          "N": 5,
          "P": 136,
          "index": 1571,
          "ph": 6.264202804
         },
         {
          "K": 204,
          "N": 10,
          "P": 136,
          "index": 1572,
          "ph": 6.276198595
         },
         {
          "K": 195,
          "N": 7,
          "P": 141,
          "index": 1573,
          "ph": 5.514253142
         },
         {
          "K": 201,
          "N": 2,
          "P": 129,
          "index": 1574,
          "ph": 5.682343744
         },
         {
          "K": 197,
          "N": 29,
          "P": 138,
          "index": 1575,
          "ph": 5.830892252
         },
         {
          "K": 200,
          "N": 30,
          "P": 137,
          "index": 1576,
          "ph": 5.603413172
         },
         {
          "K": 204,
          "N": 29,
          "P": 132,
          "index": 1577,
          "ph": 6.0967531
         },
         {
          "K": 197,
          "N": 14,
          "P": 139,
          "index": 1578,
          "ph": 6.056529526
         },
         {
          "K": 203,
          "N": 18,
          "P": 125,
          "index": 1579,
          "ph": 6.160267496
         },
         {
          "K": 204,
          "N": 33,
          "P": 143,
          "index": 1580,
          "ph": 5.814434775
         },
         {
          "K": 196,
          "N": 40,
          "P": 144,
          "index": 1581,
          "ph": 5.987262638
         },
         {
          "K": 197,
          "N": 9,
          "P": 143,
          "index": 1582,
          "ph": 5.570020684
         },
         {
          "K": 203,
          "N": 38,
          "P": 135,
          "index": 1583,
          "ph": 5.965551311
         },
         {
          "K": 196,
          "N": 28,
          "P": 130,
          "index": 1584,
          "ph": 6.062356467
         },
         {
          "K": 203,
          "N": 35,
          "P": 142,
          "index": 1585,
          "ph": 5.895319002
         },
         {
          "K": 205,
          "N": 12,
          "P": 129,
          "index": 1586,
          "ph": 6.119432215
         },
         {
          "K": 203,
          "N": 1,
          "P": 135,
          "index": 1587,
          "ph": 5.624203283
         },
         {
          "K": 205,
          "N": 0,
          "P": 145,
          "index": 1588,
          "ph": 5.52078314
         },
         {
          "K": 201,
          "N": 31,
          "P": 121,
          "index": 1589,
          "ph": 5.731535258
         },
         {
          "K": 203,
          "N": 35,
          "P": 131,
          "index": 1590,
          "ph": 5.893490899
         },
         {
          "K": 195,
          "N": 29,
          "P": 140,
          "index": 1591,
          "ph": 5.560521058
         },
         {
          "K": 198,
          "N": 33,
          "P": 138,
          "index": 1592,
          "ph": 6.222390798
         },
         {
          "K": 197,
          "N": 14,
          "P": 140,
          "index": 1593,
          "ph": 6.071255131
         },
         {
          "K": 195,
          "N": 35,
          "P": 145,
          "index": 1594,
          "ph": 6.231950009
         },
         {
          "K": 197,
          "N": 40,
          "P": 120,
          "index": 1595,
          "ph": 5.889480679
         },
         {
          "K": 198,
          "N": 25,
          "P": 132,
          "index": 1596,
          "ph": 5.732757516
         },
         {
          "K": 196,
          "N": 31,
          "P": 137,
          "index": 1597,
          "ph": 6.400321212
         },
         {
          "K": 196,
          "N": 36,
          "P": 144,
          "index": 1598,
          "ph": 6.496934492
         },
         {
          "K": 197,
          "N": 10,
          "P": 140,
          "index": 1599,
          "ph": 6.229498836
         },
         {
          "K": 12,
          "N": 22,
          "P": 30,
          "index": 1600,
          "ph": 6.354006744
         },
         {
          "K": 13,
          "N": 37,
          "P": 6,
          "index": 1601,
          "ph": 7.511755068
         },
         {
          "K": 6,
          "N": 27,
          "P": 13,
          "index": 1602,
          "ph": 7.335158382
         },
         {
          "K": 9,
          "N": 7,
          "P": 16,
          "index": 1603,
          "ph": 7.813916603
         },
         {
          "K": 9,
          "N": 20,
          "P": 7,
          "index": 1604,
          "ph": 7.129136941
         },
         {
          "K": 10,
          "N": 26,
          "P": 27,
          "index": 1605,
          "ph": 6.079998496
         },
         {
          "K": 15,
          "N": 5,
          "P": 23,
          "index": 1606,
          "ph": 7.408939392
         },
         {
          "K": 14,
          "N": 0,
          "P": 18,
          "index": 1607,
          "ph": 7.207991261
         },
         {
          "K": 14,
          "N": 39,
          "P": 24,
          "index": 1608,
          "ph": 7.189259647
         },
         {
          "K": 6,
          "N": 13,
          "P": 23,
          "index": 1609,
          "ph": 7.365338111
         },
         {
          "K": 15,
          "N": 21,
          "P": 17,
          "index": 1610,
          "ph": 7.455991072
         },
         {
          "K": 8,
          "N": 33,
          "P": 12,
          "index": 1611,
          "ph": 6.822282114
         },
         {
          "K": 12,
          "N": 6,
          "P": 9,
          "index": 1612,
          "ph": 7.028746406
         },
         {
          "K": 10,
          "N": 19,
          "P": 7,
          "index": 1613,
          "ph": 6.118430299
         },
         {
          "K": 6,
          "N": 24,
          "P": 18,
          "index": 1614,
          "ph": 6.285312759
         },
         {
          "K": 8,
          "N": 9,
          "P": 11,
          "index": 1615,
          "ph": 6.559236744
         },
         {
          "K": 7,
          "N": 31,
          "P": 8,
          "index": 1616,
          "ph": 7.163245982
         },
         {
          "K": 5,
          "N": 22,
          "P": 17,
          "index": 1617,
          "ph": 6.945562889
         },
         {
          "K": 8,
          "N": 13,
          "P": 5,
          "index": 1618,
          "ph": 7.474710503
         },
         {
          "K": 9,
          "N": 16,
          "P": 8,
          "index": 1619,
          "ph": 7.601189843
         },
         {
          "K": 6,
          "N": 4,
          "P": 13,
          "index": 1620,
          "ph": 7.561143224
         },
         {
          "K": 14,
          "N": 0,
          "P": 25,
          "index": 1621,
          "ph": 6.361671475
         },
         {
          "K": 10,
          "N": 8,
          "P": 7,
          "index": 1622,
          "ph": 6.929216014
         },
         {
          "K": 5,
          "N": 4,
          "P": 23,
          "index": 1623,
          "ph": 7.477935216
         },
         {
          "K": 8,
          "N": 33,
          "P": 14,
          "index": 1624,
          "ph": 7.684420446
         },
         {
          "K": 15,
          "N": 30,
          "P": 7,
          "index": 1625,
          "ph": 7.825531916
         },
         {
          "K": 12,
          "N": 21,
          "P": 29,
          "index": 1626,
          "ph": 6.438668989
         },
         {
          "K": 5,
          "N": 11,
          "P": 14,
          "index": 1627,
          "ph": 6.946354724
         },
         {
          "K": 15,
          "N": 9,
          "P": 8,
          "index": 1628,
          "ph": 7.994465371
         },
         {
          "K": 14,
          "N": 5,
          "P": 18,
          "index": 1629,
          "ph": 7.434118807
         },
         {
          "K": 14,
          "N": 29,
          "P": 25,
          "index": 1630,
          "ph": 7.781988584
         },
         {
          "K": 15,
          "N": 33,
          "P": 12,
          "index": 1631,
          "ph": 6.052318465
         },
         {
          "K": 6,
          "N": 8,
          "P": 16,
          "index": 1632,
          "ph": 7.106650373
         },
         {
          "K": 8,
          "N": 15,
          "P": 14,
          "index": 1633,
          "ph": 6.22094286
         },
         {
          "K": 8,
          "N": 16,
          "P": 7,
          "index": 1634,
          "ph": 6.420457311
         },
         {
          "K": 7,
          "N": 0,
          "P": 12,
          "index": 1635,
          "ph": 6.969249676
         },
         {
          "K": 6,
          "N": 5,
          "P": 25,
          "index": 1636,
          "ph": 6.011302181
         },
         {
          "K": 11,
          "N": 6,
          "P": 8,
          "index": 1637,
          "ph": 6.600948788
         },
         {
          "K": 5,
          "N": 10,
          "P": 5,
          "index": 1638,
          "ph": 7.817846496
         },
         {
          "K": 6,
          "N": 1,
          "P": 17,
          "index": 1639,
          "ph": 6.8198271
         },
         {
          "K": 10,
          "N": 1,
          "P": 30,
          "index": 1640,
          "ph": 7.291405641
         },
         {
          "K": 15,
          "N": 0,
          "P": 23,
          "index": 1641,
          "ph": 7.598729065
         },
         {
          "K": 9,
          "N": 24,
          "P": 27,
          "index": 1642,
          "ph": 6.157135092
         },
         {
          "K": 13,
          "N": 36,
          "P": 11,
          "index": 1643,
          "ph": 7.1917274
         },
         {
          "K": 8,
          "N": 40,
          "P": 21,
          "index": 1644,
          "ph": 7.418761774
         },
         {
          "K": 6,
          "N": 40,
          "P": 22,
          "index": 1645,
          "ph": 6.488221135
         },
         {
          "K": 13,
          "N": 32,
          "P": 18,
          "index": 1646,
          "ph": 6.044167236
         },
         {
          "K": 10,
          "N": 9,
          "P": 10,
          "index": 1647,
          "ph": 6.010391864
         },
         {
          "K": 8,
          "N": 13,
          "P": 16,
          "index": 1648,
          "ph": 6.949838549
         },
         {
          "K": 11,
          "N": 15,
          "P": 9,
          "index": 1649,
          "ph": 7.907956251
         },
         {
          "K": 5,
          "N": 29,
          "P": 11,
          "index": 1650,
          "ph": 7.639788459
         },
         {
          "K": 9,
          "N": 1,
          "P": 15,
          "index": 1651,
          "ph": 7.53350946
         },
         {
          "K": 11,
          "N": 18,
          "P": 5,
          "index": 1652,
          "ph": 6.251586885
         },
         {
          "K": 9,
          "N": 14,
          "P": 22,
          "index": 1653,
          "ph": 6.543191814
         },
         {
          "K": 7,
          "N": 33,
          "P": 15,
          "index": 1654,
          "ph": 7.651225301
         },
         {
          "K": 7,
          "N": 4,
          "P": 6,
          "index": 1655,
          "ph": 6.708889665
         },
         {
          "K": 14,
          "N": 17,
          "P": 16,
          "index": 1656,
          "ph": 6.625538653
         },
         {
          "K": 10,
          "N": 12,
          "P": 20,
          "index": 1657,
          "ph": 6.528354932
         },
         {
          "K": 8,
          "N": 34,
          "P": 29,
          "index": 1658,
          "ph": 6.450640306
         },
         {
          "K": 10,
          "N": 39,
          "P": 28,
          "index": 1659,
          "ph": 7.181907673
         },
         {
          "K": 12,
          "N": 31,
          "P": 25,
          "index": 1660,
          "ph": 7.016482298
         },
         {
          "K": 8,
          "N": 12,
          "P": 6,
          "index": 1661,
          "ph": 6.388617138
         },
         {
          "K": 13,
          "N": 12,
          "P": 29,
          "index": 1662,
          "ph": 7.57125447
         },
         {
          "K": 11,
          "N": 26,
          "P": 11,
          "index": 1663,
          "ph": 7.609348255
         },
         {
          "K": 15,
          "N": 19,
          "P": 24,
          "index": 1664,
          "ph": 7.137136973
         },
         {
          "K": 9,
          "N": 39,
          "P": 21,
          "index": 1665,
          "ph": 6.354022554
         },
         {
          "K": 13,
          "N": 16,
          "P": 29,
          "index": 1666,
          "ph": 6.196907944
         },
         {
          "K": 13,
          "N": 36,
          "P": 29,
          "index": 1667,
          "ph": 7.829507245
         },
         {
          "K": 12,
          "N": 37,
          "P": 23,
          "index": 1668,
          "ph": 6.395258356
         },
         {
          "K": 15,
          "N": 39,
          "P": 9,
          "index": 1669,
          "ph": 7.992041984
         },
         {
          "K": 14,
          "N": 31,
          "P": 5,
          "index": 1670,
          "ph": 6.583411671
         },
         {
          "K": 8,
          "N": 18,
          "P": 12,
          "index": 1671,
          "ph": 6.206053072
         },
         {
          "K": 10,
          "N": 20,
          "P": 20,
          "index": 1672,
          "ph": 6.976997772
         },
         {
          "K": 5,
          "N": 5,
          "P": 8,
          "index": 1673,
          "ph": 6.562594972
         },
         {
          "K": 12,
          "N": 20,
          "P": 8,
          "index": 1674,
          "ph": 7.260416405
         },
         {
          "K": 11,
          "N": 25,
          "P": 21,
          "index": 1675,
          "ph": 6.460044778
         },
         {
          "K": 14,
          "N": 14,
          "P": 19,
          "index": 1676,
          "ph": 6.699164936
         },
         {
          "K": 12,
          "N": 37,
          "P": 18,
          "index": 1677,
          "ph": 7.401121811
         },
         {
          "K": 6,
          "N": 26,
          "P": 15,
          "index": 1678,
          "ph": 6.912033409
         },
         {
          "K": 5,
          "N": 13,
          "P": 22,
          "index": 1679,
          "ph": 7.764040111
         },
         {
          "K": 9,
          "N": 32,
          "P": 25,
          "index": 1680,
          "ph": 7.796034006
         },
         {
          "K": 9,
          "N": 19,
          "P": 7,
          "index": 1681,
          "ph": 6.969883483
         },
         {
          "K": 9,
          "N": 28,
          "P": 7,
          "index": 1682,
          "ph": 6.730757538
         },
         {
          "K": 11,
          "N": 24,
          "P": 30,
          "index": 1683,
          "ph": 6.601395755
         },
         {
          "K": 10,
          "N": 7,
          "P": 17,
          "index": 1684,
          "ph": 6.465913274
         },
         {
          "K": 8,
          "N": 18,
          "P": 23,
          "index": 1685,
          "ph": 6.41354791
         },
         {
          "K": 12,
          "N": 7,
          "P": 20,
          "index": 1686,
          "ph": 6.475275337
         },
         {
          "K": 11,
          "N": 20,
          "P": 23,
          "index": 1687,
          "ph": 6.407715561
         },
         {
          "K": 11,
          "N": 18,
          "P": 14,
          "index": 1688,
          "ph": 6.550814117
         },
         {
          "K": 10,
          "N": 34,
          "P": 11,
          "index": 1689,
          "ph": 7.36220835
         },
         {
          "K": 10,
          "N": 20,
          "P": 29,
          "index": 1690,
          "ph": 7.36549204
         },
         {
          "K": 13,
          "N": 37,
          "P": 24,
          "index": 1691,
          "ph": 7.8546243
         },
         {
          "K": 10,
          "N": 12,
          "P": 8,
          "index": 1692,
          "ph": 7.995848977
         },
         {
          "K": 14,
          "N": 34,
          "P": 10,
          "index": 1693,
          "ph": 6.725600855
         },
         {
          "K": 9,
          "N": 6,
          "P": 13,
          "index": 1694,
          "ph": 7.786725333
         },
         {
          "K": 5,
          "N": 27,
          "P": 30,
          "index": 1695,
          "ph": 7.656978112
         },
         {
          "K": 12,
          "N": 13,
          "P": 8,
          "index": 1696,
          "ph": 7.105904818
         },
         {
          "K": 7,
          "N": 6,
          "P": 7,
          "index": 1697,
          "ph": 7.199106204
         },
         {
          "K": 15,
          "N": 40,
          "P": 17,
          "index": 1698,
          "ph": 7.871063004
         },
         {
          "K": 9,
          "N": 31,
          "P": 26,
          "index": 1699,
          "ph": 7.566165721
         },
         {
          "K": 50,
          "N": 61,
          "P": 68,
          "index": 1700,
          "ph": 6.793245417
         },
         {
          "K": 45,
          "N": 58,
          "P": 46,
          "index": 1701,
          "ph": 6.576261427
         },
         {
          "K": 55,
          "N": 45,
          "P": 47,
          "index": 1702,
          "ph": 6.751452932
         },
         {
          "K": 53,
          "N": 39,
          "P": 65,
          "index": 1703,
          "ph": 6.560743093
         },
         {
          "K": 45,
          "N": 31,
          "P": 68,
          "index": 1704,
          "ph": 6.938313356
         },
         {
          "K": 45,
          "N": 70,
          "P": 68,
          "index": 1705,
          "ph": 6.991626158
         },
         {
          "K": 50,
          "N": 68,
          "P": 62,
          "index": 1706,
          "ph": 6.977700268
         },
         {
          "K": 47,
          "N": 34,
          "P": 65,
          "index": 1707,
          "ph": 6.833768535
         },
         {
          "K": 54,
          "N": 38,
          "P": 68,
          "index": 1708,
          "ph": 6.739170045
         },
         {
          "K": 47,
          "N": 69,
          "P": 64,
          "index": 1709,
          "ph": 6.993473247
         },
         {
          "K": 47,
          "N": 58,
          "P": 51,
          "index": 1710,
          "ph": 6.757470637
         },
         {
          "K": 53,
          "N": 59,
          "P": 47,
          "index": 1711,
          "ph": 6.850663232
         },
         {
          "K": 54,
          "N": 44,
          "P": 64,
          "index": 1712,
          "ph": 6.74274935
         },
         {
          "K": 48,
          "N": 56,
          "P": 57,
          "index": 1713,
          "ph": 6.506120752
         },
         {
          "K": 54,
          "N": 69,
          "P": 60,
          "index": 1714,
          "ph": 6.98992719
         },
         {
          "K": 49,
          "N": 56,
          "P": 58,
          "index": 1715,
          "ph": 6.69215564
         },
         {
          "K": 53,
          "N": 49,
          "P": 55,
          "index": 1716,
          "ph": 6.544029776
         },
         {
          "K": 52,
          "N": 38,
          "P": 51,
          "index": 1717,
          "ph": 6.927803911
         },
         {
          "K": 47,
          "N": 54,
          "P": 65,
          "index": 1718,
          "ph": 6.721835879
         },
         {
          "K": 51,
          "N": 57,
          "P": 57,
          "index": 1719,
          "ph": 6.99223441
         },
         {
          "K": 53,
          "N": 39,
          "P": 52,
          "index": 1720,
          "ph": 6.704204398
         },
         {
          "K": 45,
          "N": 58,
          "P": 67,
          "index": 1721,
          "ph": 6.702424548
         },
         {
          "K": 52,
          "N": 61,
          "P": 64,
          "index": 1722,
          "ph": 6.641098708
         },
         {
          "K": 55,
          "N": 34,
          "P": 62,
          "index": 1723,
          "ph": 6.585346229
         },
         {
          "K": 45,
          "N": 31,
          "P": 48,
          "index": 1724,
          "ph": 6.563134737
         },
         {
          "K": 52,
          "N": 47,
          "P": 46,
          "index": 1725,
          "ph": 6.502289473
         },
         {
          "K": 52,
          "N": 32,
          "P": 68,
          "index": 1726,
          "ph": 6.800321319
         },
         {
          "K": 46,
          "N": 36,
          "P": 59,
          "index": 1727,
          "ph": 6.721130543
         },
         {
          "K": 51,
          "N": 61,
          "P": 51,
          "index": 1728,
          "ph": 6.574677594
         },
         {
          "K": 46,
          "N": 70,
          "P": 54,
          "index": 1729,
          "ph": 6.919342407
         },
         {
          "K": 49,
          "N": 44,
          "P": 56,
          "index": 1730,
          "ph": 6.519779583
         },
         {
          "K": 51,
          "N": 34,
          "P": 68,
          "index": 1731,
          "ph": 6.687088098
         },
         {
          "K": 47,
          "N": 50,
          "P": 59,
          "index": 1732,
          "ph": 6.747975732
         },
         {
          "K": 52,
          "N": 39,
          "P": 70,
          "index": 1733,
          "ph": 6.65149129
         },
         {
          "K": 49,
          "N": 34,
          "P": 61,
          "index": 1734,
          "ph": 6.502675132
         },
         {
          "K": 55,
          "N": 44,
          "P": 60,
          "index": 1735,
          "ph": 6.825371185
         },
         {
          "K": 52,
          "N": 31,
          "P": 62,
          "index": 1736,
          "ph": 6.99104104
         },
         {
          "K": 51,
          "N": 65,
          "P": 62,
          "index": 1737,
          "ph": 6.511624841
         },
         {
          "K": 53,
          "N": 44,
          "P": 57,
          "index": 1738,
          "ph": 6.93172108
         },
         {
          "K": 48,
          "N": 50,
          "P": 47,
          "index": 1739,
          "ph": 6.712772333
         },
         {
          "K": 48,
          "N": 43,
          "P": 50,
          "index": 1740,
          "ph": 6.63016515
         },
         {
          "K": 53,
          "N": 60,
          "P": 46,
          "index": 1741,
          "ph": 6.761953186
         },
         {
          "K": 55,
          "N": 70,
          "P": 68,
          "index": 1742,
          "ph": 6.691202286
         },
         {
          "K": 52,
          "N": 59,
          "P": 62,
          "index": 1743,
          "ph": 6.608667684
         },
         {
          "K": 51,
          "N": 60,
          "P": 58,
          "index": 1744,
          "ph": 6.840802254
         },
         {
          "K": 47,
          "N": 42,
          "P": 60,
          "index": 1745,
          "ph": 6.834808348
         },
         {
          "K": 47,
          "N": 35,
          "P": 66,
          "index": 1746,
          "ph": 6.953439161
         },
         {
          "K": 48,
          "N": 34,
          "P": 65,
          "index": 1747,
          "ph": 6.665024508
         },
         {
          "K": 46,
          "N": 36,
          "P": 54,
          "index": 1748,
          "ph": 6.662875839
         },
         {
          "K": 52,
          "N": 39,
          "P": 64,
          "index": 1749,
          "ph": 6.678695788
         },
         {
          "K": 47,
          "N": 37,
          "P": 52,
          "index": 1750,
          "ph": 6.54277684
         },
         {
          "K": 46,
          "N": 33,
          "P": 47,
          "index": 1751,
          "ph": 6.839443833
         },
         {
          "K": 48,
          "N": 34,
          "P": 48,
          "index": 1752,
          "ph": 6.805277038
         },
         {
          "K": 50,
          "N": 49,
          "P": 54,
          "index": 1753,
          "ph": 6.762522087
         },
         {
          "K": 49,
          "N": 40,
          "P": 65,
          "index": 1754,
          "ph": 6.678449318
         },
         {
          "K": 49,
          "N": 68,
          "P": 52,
          "index": 1755,
          "ph": 6.577192175
         },
         {
          "K": 52,
          "N": 50,
          "P": 46,
          "index": 1756,
          "ph": 6.734005648
         },
         {
          "K": 50,
          "N": 65,
          "P": 63,
          "index": 1757,
          "ph": 6.524459342
         },
         {
          "K": 47,
          "N": 40,
          "P": 49,
          "index": 1758,
          "ph": 6.501521192
         },
         {
          "K": 48,
          "N": 42,
          "P": 53,
          "index": 1759,
          "ph": 6.758479569
         },
         {
          "K": 51,
          "N": 49,
          "P": 55,
          "index": 1760,
          "ph": 6.676578778
         },
         {
          "K": 49,
          "N": 59,
          "P": 62,
          "index": 1761,
          "ph": 6.941496806
         },
         {
          "K": 47,
          "N": 63,
          "P": 58,
          "index": 1762,
          "ph": 6.864143752
         },
         {
          "K": 52,
          "N": 70,
          "P": 65,
          "index": 1763,
          "ph": 6.583528529
         },
         {
          "K": 52,
          "N": 63,
          "P": 50,
          "index": 1764,
          "ph": 6.751747609
         },
         {
          "K": 47,
          "N": 40,
          "P": 64,
          "index": 1765,
          "ph": 6.893509446
         },
         {
          "K": 50,
          "N": 63,
          "P": 58,
          "index": 1766,
          "ph": 6.720744449
         },
         {
          "K": 49,
          "N": 45,
          "P": 58,
          "index": 1767,
          "ph": 6.827812549
         },
         {
          "K": 47,
          "N": 66,
          "P": 69,
          "index": 1768,
          "ph": 6.912299695
         },
         {
          "K": 52,
          "N": 54,
          "P": 67,
          "index": 1769,
          "ph": 6.586107335
         },
         {
          "K": 52,
          "N": 69,
          "P": 67,
          "index": 1770,
          "ph": 6.827305908
         },
         {
          "K": 49,
          "N": 67,
          "P": 68,
          "index": 1771,
          "ph": 6.821774589
         },
         {
          "K": 47,
          "N": 45,
          "P": 57,
          "index": 1772,
          "ph": 6.656458831
         },
         {
          "K": 52,
          "N": 56,
          "P": 50,
          "index": 1773,
          "ph": 6.770384816
         },
         {
          "K": 53,
          "N": 70,
          "P": 50,
          "index": 1774,
          "ph": 6.933809743
         },
         {
          "K": 45,
          "N": 44,
          "P": 47,
          "index": 1775,
          "ph": 6.579441304
         },
         {
          "K": 47,
          "N": 50,
          "P": 60,
          "index": 1776,
          "ph": 6.92791761
         },
         {
          "K": 53,
          "N": 52,
          "P": 51,
          "index": 1777,
          "ph": 6.985804083
         },
         {
          "K": 45,
          "N": 35,
          "P": 68,
          "index": 1778,
          "ph": 6.612429546
         },
         {
          "K": 52,
          "N": 68,
          "P": 69,
          "index": 1779,
          "ph": 6.813383387
         },
         {
          "K": 52,
          "N": 32,
          "P": 55,
          "index": 1780,
          "ph": 6.9677596
         },
         {
          "K": 51,
          "N": 32,
          "P": 55,
          "index": 1781,
          "ph": 6.57398033
         },
         {
          "K": 47,
          "N": 48,
          "P": 62,
          "index": 1782,
          "ph": 6.803094965
         },
         {
          "K": 53,
          "N": 39,
          "P": 69,
          "index": 1783,
          "ph": 6.964955435
         },
         {
          "K": 45,
          "N": 49,
          "P": 61,
          "index": 1784,
          "ph": 6.764213299
         },
         {
          "K": 54,
          "N": 48,
          "P": 57,
          "index": 1785,
          "ph": 6.617703178
         },
         {
          "K": 49,
          "N": 69,
          "P": 66,
          "index": 1786,
          "ph": 6.52711001
         },
         {
          "K": 55,
          "N": 53,
          "P": 55,
          "index": 1787,
          "ph": 6.709668804
         },
         {
          "K": 52,
          "N": 38,
          "P": 61,
          "index": 1788,
          "ph": 6.620729882
         },
         {
          "K": 55,
          "N": 57,
          "P": 64,
          "index": 1789,
          "ph": 6.583760499
         },
         {
          "K": 55,
          "N": 51,
          "P": 57,
          "index": 1790,
          "ph": 6.676407337
         },
         {
          "K": 45,
          "N": 56,
          "P": 65,
          "index": 1791,
          "ph": 6.751298936
         },
         {
          "K": 52,
          "N": 54,
          "P": 66,
          "index": 1792,
          "ph": 6.867554147
         },
         {
          "K": 47,
          "N": 58,
          "P": 55,
          "index": 1793,
          "ph": 6.742490027
         },
         {
          "K": 54,
          "N": 68,
          "P": 70,
          "index": 1794,
          "ph": 6.986228647
         },
         {
          "K": 55,
          "N": 42,
          "P": 59,
          "index": 1795,
          "ph": 6.979102243
         },
         {
          "K": 47,
          "N": 43,
          "P": 64,
          "index": 1796,
          "ph": 6.825664782
         },
         {
          "K": 49,
          "N": 35,
          "P": 67,
          "index": 1797,
          "ph": 6.617066674
         },
         {
          "K": 55,
          "N": 56,
          "P": 59,
          "index": 1798,
          "ph": 6.551892638
         },
         {
          "K": 53,
          "N": 39,
          "P": 64,
          "index": 1799,
          "ph": 6.598860305
         },
         {
          "K": 29,
          "N": 18,
          "P": 30,
          "index": 1800,
          "ph": 6.420018717
         },
         {
          "K": 28,
          "N": 37,
          "P": 23,
          "index": 1801,
          "ph": 5.740054567
         },
         {
          "K": 33,
          "N": 13,
          "P": 28,
          "index": 1802,
          "ph": 5.686972967
         },
         {
          "K": 35,
          "N": 2,
          "P": 21,
          "index": 1803,
          "ph": 6.293662363
         },
         {
          "K": 35,
          "N": 10,
          "P": 18,
          "index": 1804,
          "ph": 6.381975465
         },
         {
          "K": 32,
          "N": 7,
          "P": 11,
          "index": 1805,
          "ph": 5.542169139
         },
         {
          "K": 31,
          "N": 39,
          "P": 5,
          "index": 1806,
          "ph": 5.551963184
         },
         {
          "K": 27,
          "N": 34,
          "P": 6,
          "index": 1807,
          "ph": 5.860740481
         },
         {
          "K": 29,
          "N": 31,
          "P": 30,
          "index": 1808,
          "ph": 5.558807063
         },
         {
          "K": 35,
          "N": 25,
          "P": 7,
          "index": 1809,
          "ph": 5.55771171
         },
         {
          "K": 26,
          "N": 16,
          "P": 18,
          "index": 1810,
          "ph": 5.568365926
         },
         {
          "K": 33,
          "N": 26,
          "P": 10,
          "index": 1811,
          "ph": 6.07071786
         },
         {
          "K": 32,
          "N": 27,
          "P": 8,
          "index": 1812,
          "ph": 5.627860549
         },
         {
          "K": 30,
          "N": 37,
          "P": 18,
          "index": 1813,
          "ph": 6.38488418
         },
         {
          "K": 34,
          "N": 19,
          "P": 15,
          "index": 1814,
          "ph": 5.685889066
         },
         {
          "K": 33,
          "N": 0,
          "P": 19,
          "index": 1815,
          "ph": 6.234458417
         },
         {
          "K": 26,
          "N": 31,
          "P": 20,
          "index": 1816,
          "ph": 6.443168642
         },
         {
          "K": 32,
          "N": 9,
          "P": 17,
          "index": 1817,
          "ph": 5.842317989
         },
         {
          "K": 29,
          "N": 22,
          "P": 11,
          "index": 1818,
          "ph": 5.955742971
         },
         {
          "K": 26,
          "N": 31,
          "P": 6,
          "index": 1819,
          "ph": 5.741367375
         },
         {
          "K": 30,
          "N": 34,
          "P": 6,
          "index": 1820,
          "ph": 5.948342571
         },
         {
          "K": 32,
          "N": 24,
          "P": 6,
          "index": 1821,
          "ph": 6.387067562
         },
         {
          "K": 26,
          "N": 1,
          "P": 8,
          "index": 1822,
          "ph": 5.562911913
         },
         {
          "K": 33,
          "N": 31,
          "P": 13,
          "index": 1823,
          "ph": 5.85971872
         },
         {
          "K": 28,
          "N": 10,
          "P": 9,
          "index": 1824,
          "ph": 6.282955073
         },
         {
          "K": 26,
          "N": 36,
          "P": 27,
          "index": 1825,
          "ph": 6.25449571
         },
         {
          "K": 33,
          "N": 38,
          "P": 24,
          "index": 1826,
          "ph": 5.973853124
         },
         {
          "K": 25,
          "N": 11,
          "P": 6,
          "index": 1827,
          "ph": 6.081568052
         },
         {
          "K": 30,
          "N": 16,
          "P": 14,
          "index": 1828,
          "ph": 6.37466756
         },
         {
          "K": 35,
          "N": 33,
          "P": 14,
          "index": 1829,
          "ph": 6.027707171
         },
         {
          "K": 29,
          "N": 16,
          "P": 6,
          "index": 1830,
          "ph": 5.868285082
         },
         {
          "K": 31,
          "N": 32,
          "P": 11,
          "index": 1831,
          "ph": 6.205931638
         },
         {
          "K": 30,
          "N": 38,
          "P": 14,
          "index": 1832,
          "ph": 5.570745386
         },
         {
          "K": 33,
          "N": 8,
          "P": 6,
          "index": 1833,
          "ph": 6.095261013
         },
         {
          "K": 33,
          "N": 23,
          "P": 6,
          "index": 1834,
          "ph": 6.025789594
         },
         {
          "K": 35,
          "N": 29,
          "P": 25,
          "index": 1835,
          "ph": 5.542873799
         },
         {
          "K": 33,
          "N": 24,
          "P": 14,
          "index": 1836,
          "ph": 6.366219551
         },
         {
          "K": 30,
          "N": 32,
          "P": 12,
          "index": 1837,
          "ph": 5.579845008
         },
         {
          "K": 31,
          "N": 30,
          "P": 25,
          "index": 1838,
          "ph": 5.804965067
         },
         {
          "K": 35,
          "N": 14,
          "P": 21,
          "index": 1839,
          "ph": 6.121005506
         },
         {
          "K": 29,
          "N": 27,
          "P": 22,
          "index": 1840,
          "ph": 6.000248647
         },
         {
          "K": 29,
          "N": 40,
          "P": 5,
          "index": 1841,
          "ph": 5.820978791
         },
         {
          "K": 32,
          "N": 17,
          "P": 11,
          "index": 1842,
          "ph": 5.620733794
         },
         {
          "K": 35,
          "N": 30,
          "P": 30,
          "index": 1843,
          "ph": 6.001936419
         },
         {
          "K": 30,
          "N": 28,
          "P": 10,
          "index": 1844,
          "ph": 6.305740522
         },
         {
          "K": 29,
          "N": 39,
          "P": 7,
          "index": 1845,
          "ph": 6.362544111
         },
         {
          "K": 35,
          "N": 32,
          "P": 20,
          "index": 1846,
          "ph": 5.588655387
         },
         {
          "K": 32,
          "N": 7,
          "P": 15,
          "index": 1847,
          "ph": 6.182232762
         },
         {
          "K": 29,
          "N": 29,
          "P": 17,
          "index": 1848,
          "ph": 5.959493188
         },
         {
          "K": 34,
          "N": 34,
          "P": 15,
          "index": 1849,
          "ph": 5.677282678
         },
         {
          "K": 25,
          "N": 14,
          "P": 23,
          "index": 1850,
          "ph": 5.612122797
         },
         {
          "K": 29,
          "N": 18,
          "P": 19,
          "index": 1851,
          "ph": 6.206077742
         },
         {
          "K": 35,
          "N": 7,
          "P": 21,
          "index": 1852,
          "ph": 5.764812076
         },
         {
          "K": 34,
          "N": 24,
          "P": 27,
          "index": 1853,
          "ph": 6.203376525
         },
         {
          "K": 29,
          "N": 39,
          "P": 29,
          "index": 1854,
          "ph": 6.143662699
         },
         {
          "K": 28,
          "N": 29,
          "P": 8,
          "index": 1855,
          "ph": 6.100429497
         },
         {
          "K": 27,
          "N": 10,
          "P": 24,
          "index": 1856,
          "ph": 5.708409601
         },
         {
          "K": 32,
          "N": 0,
          "P": 29,
          "index": 1857,
          "ph": 5.868255858
         },
         {
          "K": 31,
          "N": 32,
          "P": 11,
          "index": 1858,
          "ph": 6.461225827
         },
         {
          "K": 32,
          "N": 37,
          "P": 10,
          "index": 1859,
          "ph": 6.165084855
         },
         {
          "K": 27,
          "N": 20,
          "P": 29,
          "index": 1860,
          "ph": 6.047044342
         },
         {
          "K": 35,
          "N": 31,
          "P": 29,
          "index": 1861,
          "ph": 6.137102505
         },
         {
          "K": 27,
          "N": 17,
          "P": 30,
          "index": 1862,
          "ph": 5.894027065
         },
         {
          "K": 30,
          "N": 1,
          "P": 12,
          "index": 1863,
          "ph": 5.56222383
         },
         {
          "K": 29,
          "N": 6,
          "P": 13,
          "index": 1864,
          "ph": 5.832608028
         },
         {
          "K": 32,
          "N": 15,
          "P": 28,
          "index": 1865,
          "ph": 6.218571874
         },
         {
          "K": 29,
          "N": 27,
          "P": 24,
          "index": 1866,
          "ph": 6.142010637
         },
         {
          "K": 30,
          "N": 3,
          "P": 23,
          "index": 1867,
          "ph": 6.078807239
         },
         {
          "K": 26,
          "N": 8,
          "P": 26,
          "index": 1868,
          "ph": 5.702484758
         },
         {
          "K": 26,
          "N": 20,
          "P": 28,
          "index": 1869,
          "ph": 5.547594847
         },
         {
          "K": 27,
          "N": 26,
          "P": 18,
          "index": 1870,
          "ph": 5.836075368
         },
         {
          "K": 35,
          "N": 1,
          "P": 6,
          "index": 1871,
          "ph": 6.231662767
         },
         {
          "K": 31,
          "N": 27,
          "P": 30,
          "index": 1872,
          "ph": 5.718120393
         },
         {
          "K": 34,
          "N": 23,
          "P": 7,
          "index": 1873,
          "ph": 5.852038202
         },
         {
          "K": 31,
          "N": 0,
          "P": 26,
          "index": 1874,
          "ph": 5.547933273
         },
         {
          "K": 25,
          "N": 38,
          "P": 6,
          "index": 1875,
          "ph": 6.156259104
         },
         {
          "K": 26,
          "N": 25,
          "P": 12,
          "index": 1876,
          "ph": 6.436314406
         },
         {
          "K": 32,
          "N": 40,
          "P": 5,
          "index": 1877,
          "ph": 5.981169595
         },
         {
          "K": 31,
          "N": 0,
          "P": 19,
          "index": 1878,
          "ph": 6.271952833
         },
         {
          "K": 32,
          "N": 26,
          "P": 9,
          "index": 1879,
          "ph": 6.470465614
         },
         {
          "K": 34,
          "N": 35,
          "P": 30,
          "index": 1880,
          "ph": 6.141502001
         },
         {
          "K": 30,
          "N": 19,
          "P": 30,
          "index": 1881,
          "ph": 5.826381164
         },
         {
          "K": 33,
          "N": 31,
          "P": 13,
          "index": 1882,
          "ph": 6.342463714
         },
         {
          "K": 26,
          "N": 17,
          "P": 29,
          "index": 1883,
          "ph": 6.071897347
         },
         {
          "K": 30,
          "N": 2,
          "P": 30,
          "index": 1884,
          "ph": 6.331051715
         },
         {
          "K": 25,
          "N": 30,
          "P": 13,
          "index": 1885,
          "ph": 6.413184638
         },
         {
          "K": 33,
          "N": 8,
          "P": 15,
          "index": 1886,
          "ph": 5.50158009
         },
         {
          "K": 35,
          "N": 18,
          "P": 12,
          "index": 1887,
          "ph": 6.338720873
         },
         {
          "K": 30,
          "N": 8,
          "P": 28,
          "index": 1888,
          "ph": 6.015672239
         },
         {
          "K": 29,
          "N": 40,
          "P": 22,
          "index": 1889,
          "ph": 5.735364307
         },
         {
          "K": 33,
          "N": 27,
          "P": 10,
          "index": 1890,
          "ph": 6.465906333
         },
         {
          "K": 31,
          "N": 21,
          "P": 20,
          "index": 1891,
          "ph": 5.855457599
         },
         {
          "K": 35,
          "N": 3,
          "P": 9,
          "index": 1892,
          "ph": 6.318552973
         },
         {
          "K": 27,
          "N": 22,
          "P": 16,
          "index": 1893,
          "ph": 6.006784979
         },
         {
          "K": 30,
          "N": 27,
          "P": 8,
          "index": 1894,
          "ph": 6.008386283
         },
         {
          "K": 33,
          "N": 22,
          "P": 8,
          "index": 1895,
          "ph": 5.665785202
         },
         {
          "K": 32,
          "N": 28,
          "P": 27,
          "index": 1896,
          "ph": 5.764615485
         },
         {
          "K": 26,
          "N": 23,
          "P": 21,
          "index": 1897,
          "ph": 5.901495544
         },
         {
          "K": 34,
          "N": 37,
          "P": 5,
          "index": 1898,
          "ph": 5.779032666
         },
         {
          "K": 29,
          "N": 19,
          "P": 26,
          "index": 1899,
          "ph": 5.67154928
         },
         {
          "K": 24,
          "N": 133,
          "P": 47,
          "index": 1900,
          "ph": 7.231324765
         },
         {
          "K": 20,
          "N": 136,
          "P": 36,
          "index": 1901,
          "ph": 6.925412377
         },
         {
          "K": 18,
          "N": 104,
          "P": 47,
          "index": 1902,
          "ph": 7.633437412
         },
         {
          "K": 23,
          "N": 133,
          "P": 47,
          "index": 1903,
          "ph": 6.827354668
         },
         {
          "K": 23,
          "N": 126,
          "P": 38,
          "index": 1904,
          "ph": 6.176716425
         },
         {
          "K": 19,
          "N": 126,
          "P": 50,
          "index": 1905,
          "ph": 6.628722836
         },
         {
          "K": 20,
          "N": 113,
          "P": 41,
          "index": 1906,
          "ph": 7.256877571
         },
         {
          "K": 22,
          "N": 121,
          "P": 45,
          "index": 1907,
          "ph": 6.443785385
         },
         {
          "K": 16,
          "N": 121,
          "P": 47,
          "index": 1908,
          "ph": 7.723240151
         },
         {
          "K": 22,
          "N": 129,
          "P": 60,
          "index": 1909,
          "ph": 5.947448589
         },
         {
          "K": 25,
          "N": 107,
          "P": 45,
          "index": 1910,
          "ph": 7.227745516
         },
         {
          "K": 18,
          "N": 122,
          "P": 59,
          "index": 1911,
          "ph": 6.219469084
         },
         {
          "K": 15,
          "N": 140,
          "P": 38,
          "index": 1912,
          "ph": 6.021439523
         },
         {
          "K": 21,
          "N": 102,
          "P": 49,
          "index": 1913,
          "ph": 6.253343655
         },
         {
          "K": 25,
          "N": 111,
          "P": 40,
          "index": 1914,
          "ph": 6.187455799
         },
         {
          "K": 18,
          "N": 131,
          "P": 35,
          "index": 1915,
          "ph": 7.057693366
         },
         {
          "K": 16,
          "N": 135,
          "P": 43,
          "index": 1916,
          "ph": 6.720449769
         },
         {
          "K": 18,
          "N": 100,
          "P": 46,
          "index": 1917,
          "ph": 6.431689506
         },
         {
          "K": 24,
          "N": 123,
          "P": 39,
          "index": 1918,
          "ph": 7.453106264
         },
         {
          "K": 15,
          "N": 117,
          "P": 56,
          "index": 1919,
          "ph": 7.368258226
         },
         {
          "K": 24,
          "N": 121,
          "P": 36,
          "index": 1920,
          "ph": 7.352401887
         },
         {
          "K": 18,
          "N": 101,
          "P": 58,
          "index": 1921,
          "ph": 6.652143699
         },
         {
          "K": 24,
          "N": 107,
          "P": 42,
          "index": 1922,
          "ph": 6.144631795
         },
         {
          "K": 22,
          "N": 100,
          "P": 41,
          "index": 1923,
          "ph": 7.318802162
         },
         {
          "K": 21,
          "N": 125,
          "P": 39,
          "index": 1924,
          "ph": 7.954629324
         },
         {
          "K": 23,
          "N": 105,
          "P": 60,
          "index": 1925,
          "ph": 6.207652157
         },
         {
          "K": 19,
          "N": 102,
          "P": 46,
          "index": 1926,
          "ph": 6.631005298
         },
         {
          "K": 22,
          "N": 131,
          "P": 49,
          "index": 1927,
          "ph": 7.306918817
         },
         {
          "K": 15,
          "N": 139,
          "P": 35,
          "index": 1928,
          "ph": 5.898293044
         },
         {
          "K": 19,
          "N": 108,
          "P": 36,
          "index": 1929,
          "ph": 7.238566893
         },
         {
          "K": 23,
          "N": 118,
          "P": 45,
          "index": 1930,
          "ph": 7.977651226
         },
         {
          "K": 22,
          "N": 107,
          "P": 51,
          "index": 1931,
          "ph": 5.983075895
         },
         {
          "K": 17,
          "N": 125,
          "P": 60,
          "index": 1932,
          "ph": 6.785723961
         },
         {
          "K": 20,
          "N": 113,
          "P": 37,
          "index": 1933,
          "ph": 7.393441155
         },
         {
          "K": 16,
          "N": 131,
          "P": 52,
          "index": 1934,
          "ph": 6.486068274
         },
         {
          "K": 16,
          "N": 115,
          "P": 48,
          "index": 1935,
          "ph": 7.175934962
         },
         {
          "K": 25,
          "N": 113,
          "P": 38,
          "index": 1936,
          "ph": 7.388265888
         },
         {
          "K": 18,
          "N": 111,
          "P": 41,
          "index": 1937,
          "ph": 6.10539819
         },
         {
          "K": 19,
          "N": 111,
          "P": 53,
          "index": 1938,
          "ph": 6.419536555
         },
         {
          "K": 16,
          "N": 122,
          "P": 48,
          "index": 1939,
          "ph": 6.307585854
         },
         {
          "K": 17,
          "N": 108,
          "P": 46,
          "index": 1940,
          "ph": 6.93221485
         },
         {
          "K": 22,
          "N": 132,
          "P": 41,
          "index": 1941,
          "ph": 7.810865753
         },
         {
          "K": 17,
          "N": 103,
          "P": 42,
          "index": 1942,
          "ph": 6.527541661
         },
         {
          "K": 25,
          "N": 133,
          "P": 50,
          "index": 1943,
          "ph": 7.569454601
         },
         {
          "K": 18,
          "N": 127,
          "P": 37,
          "index": 1944,
          "ph": 7.041065585
         },
         {
          "K": 25,
          "N": 110,
          "P": 39,
          "index": 1945,
          "ph": 7.208795456
         },
         {
          "K": 19,
          "N": 131,
          "P": 38,
          "index": 1946,
          "ph": 6.814341946
         },
         {
          "K": 24,
          "N": 108,
          "P": 38,
          "index": 1947,
          "ph": 7.442217061
         },
         {
          "K": 17,
          "N": 122,
          "P": 40,
          "index": 1948,
          "ph": 6.854558957
         },
         {
          "K": 15,
          "N": 111,
          "P": 50,
          "index": 1949,
          "ph": 7.884550475
         },
         {
          "K": 17,
          "N": 140,
          "P": 40,
          "index": 1950,
          "ph": 6.006085786
         },
         {
          "K": 20,
          "N": 100,
          "P": 40,
          "index": 1951,
          "ph": 7.432043735
         },
         {
          "K": 16,
          "N": 123,
          "P": 50,
          "index": 1952,
          "ph": 6.498052108
         },
         {
          "K": 21,
          "N": 107,
          "P": 36,
          "index": 1953,
          "ph": 6.205263534
         },
         {
          "K": 19,
          "N": 118,
          "P": 50,
          "index": 1954,
          "ph": 6.360812227
         },
         {
          "K": 20,
          "N": 103,
          "P": 51,
          "index": 1955,
          "ph": 7.046607434
         },
         {
          "K": 19,
          "N": 133,
          "P": 57,
          "index": 1956,
          "ph": 7.947011366
         },
         {
          "K": 20,
          "N": 129,
          "P": 47,
          "index": 1957,
          "ph": 6.281913858
         },
         {
          "K": 19,
          "N": 116,
          "P": 52,
          "index": 1958,
          "ph": 6.114525877
         },
         {
          "K": 23,
          "N": 114,
          "P": 40,
          "index": 1959,
          "ph": 6.753978061
         },
         {
          "K": 17,
          "N": 131,
          "P": 60,
          "index": 1960,
          "ph": 7.425041316
         },
         {
          "K": 18,
          "N": 107,
          "P": 43,
          "index": 1961,
          "ph": 6.745104394
         },
         {
          "K": 21,
          "N": 123,
          "P": 44,
          "index": 1962,
          "ph": 7.641116569
         },
         {
          "K": 25,
          "N": 112,
          "P": 49,
          "index": 1963,
          "ph": 6.470135478
         },
         {
          "K": 15,
          "N": 119,
          "P": 44,
          "index": 1964,
          "ph": 7.091992365
         },
         {
          "K": 19,
          "N": 130,
          "P": 59,
          "index": 1965,
          "ph": 6.520403794
         },
         {
          "K": 24,
          "N": 127,
          "P": 53,
          "index": 1966,
          "ph": 6.127939628
         },
         {
          "K": 18,
          "N": 134,
          "P": 52,
          "index": 1967,
          "ph": 7.994679507
         },
         {
          "K": 18,
          "N": 109,
          "P": 36,
          "index": 1968,
          "ph": 7.524707577
         },
         {
          "K": 17,
          "N": 100,
          "P": 48,
          "index": 1969,
          "ph": 7.827877818
         },
         {
          "K": 19,
          "N": 132,
          "P": 52,
          "index": 1970,
          "ph": 6.436691764
         },
         {
          "K": 25,
          "N": 102,
          "P": 37,
          "index": 1971,
          "ph": 5.907930899
         },
         {
          "K": 22,
          "N": 111,
          "P": 39,
          "index": 1972,
          "ph": 6.135025006
         },
         {
          "K": 15,
          "N": 117,
          "P": 51,
          "index": 1973,
          "ph": 6.044556594
         },
         {
          "K": 24,
          "N": 136,
          "P": 36,
          "index": 1974,
          "ph": 7.59781958
         },
         {
          "K": 18,
          "N": 134,
          "P": 56,
          "index": 1975,
          "ph": 6.691268104
         },
         {
          "K": 15,
          "N": 112,
          "P": 54,
          "index": 1976,
          "ph": 6.175492306
         },
         {
          "K": 15,
          "N": 105,
          "P": 56,
          "index": 1977,
          "ph": 7.272316209
         },
         {
          "K": 15,
          "N": 140,
          "P": 45,
          "index": 1978,
          "ph": 5.801047545
         },
         {
          "K": 25,
          "N": 126,
          "P": 46,
          "index": 1979,
          "ph": 6.757457943
         },
         {
          "K": 24,
          "N": 106,
          "P": 49,
          "index": 1980,
          "ph": 6.983395573
         },
         {
          "K": 19,
          "N": 121,
          "P": 53,
          "index": 1981,
          "ph": 7.976889498
         },
         {
          "K": 17,
          "N": 108,
          "P": 60,
          "index": 1982,
          "ph": 6.558902588
         },
         {
          "K": 17,
          "N": 116,
          "P": 56,
          "index": 1983,
          "ph": 7.979090365
         },
         {
          "K": 19,
          "N": 100,
          "P": 52,
          "index": 1984,
          "ph": 7.903528673
         },
         {
          "K": 16,
          "N": 129,
          "P": 43,
          "index": 1985,
          "ph": 6.73210948
         },
         {
          "K": 23,
          "N": 118,
          "P": 44,
          "index": 1986,
          "ph": 6.691690476
         },
         {
          "K": 25,
          "N": 117,
          "P": 43,
          "index": 1987,
          "ph": 7.839849298
         },
         {
          "K": 21,
          "N": 126,
          "P": 37,
          "index": 1988,
          "ph": 6.61448588
         },
         {
          "K": 16,
          "N": 120,
          "P": 48,
          "index": 1989,
          "ph": 7.456971816
         },
         {
          "K": 16,
          "N": 102,
          "P": 45,
          "index": 1990,
          "ph": 7.2942193
         },
         {
          "K": 20,
          "N": 131,
          "P": 56,
          "index": 1991,
          "ph": 7.762647875
         },
         {
          "K": 17,
          "N": 114,
          "P": 40,
          "index": 1992,
          "ph": 6.363406102
         },
         {
          "K": 18,
          "N": 101,
          "P": 37,
          "index": 1993,
          "ph": 7.63737841
         },
         {
          "K": 20,
          "N": 106,
          "P": 46,
          "index": 1994,
          "ph": 6.200671976
         },
         {
          "K": 20,
          "N": 113,
          "P": 38,
          "index": 1995,
          "ph": 6.364729934
         },
         {
          "K": 21,
          "N": 102,
          "P": 53,
          "index": 1996,
          "ph": 6.913678684
         },
         {
          "K": 18,
          "N": 110,
          "P": 39,
          "index": 1997,
          "ph": 7.766259769
         },
         {
          "K": 15,
          "N": 107,
          "P": 58,
          "index": 1998,
          "ph": 7.55606399
         },
         {
          "K": 15,
          "N": 120,
          "P": 60,
          "index": 1999,
          "ph": 7.288377241
         },
         {
          "K": 38,
          "N": 89,
          "P": 47,
          "index": 2000,
          "ph": 6.002524871
         },
         {
          "K": 39,
          "N": 60,
          "P": 37,
          "index": 2001,
          "ph": 6.033485257
         },
         {
          "K": 45,
          "N": 63,
          "P": 41,
          "index": 2002,
          "ph": 7.121933579
         },
         {
          "K": 39,
          "N": 86,
          "P": 40,
          "index": 2003,
          "ph": 6.207459637
         },
         {
          "K": 40,
          "N": 96,
          "P": 41,
          "index": 2004,
          "ph": 6.090060478
         },
         {
          "K": 36,
          "N": 100,
          "P": 35,
          "index": 2005,
          "ph": 6.346715209
         },
         {
          "K": 43,
          "N": 63,
          "P": 37,
          "index": 2006,
          "ph": 6.661957897
         },
         {
          "K": 40,
          "N": 70,
          "P": 43,
          "index": 2007,
          "ph": 6.176860192
         },
         {
          "K": 44,
          "N": 67,
          "P": 55,
          "index": 2008,
          "ph": 7.251847296
         },
         {
          "K": 40,
          "N": 74,
          "P": 40,
          "index": 2009,
          "ph": 6.386259978
         },
         {
          "K": 44,
          "N": 89,
          "P": 53,
          "index": 2010,
          "ph": 7.319735475
         },
         {
          "K": 45,
          "N": 74,
          "P": 46,
          "index": 2011,
          "ph": 6.025028997
         },
         {
          "K": 38,
          "N": 89,
          "P": 41,
          "index": 2012,
          "ph": 6.344751947
         },
         {
          "K": 40,
          "N": 60,
          "P": 55,
          "index": 2013,
          "ph": 7.02777956
         },
         {
          "K": 38,
          "N": 67,
          "P": 43,
          "index": 2014,
          "ph": 7.299304715
         },
         {
          "K": 35,
          "N": 70,
          "P": 38,
          "index": 2015,
          "ph": 7.014063944
         },
         {
          "K": 38,
          "N": 74,
          "P": 49,
          "index": 2016,
          "ph": 7.488014404
         },
         {
          "K": 39,
          "N": 90,
          "P": 40,
          "index": 2017,
          "ph": 6.626503893
         },
         {
          "K": 44,
          "N": 82,
          "P": 35,
          "index": 2018,
          "ph": 6.239011
         },
         {
          "K": 37,
          "N": 73,
          "P": 45,
          "index": 2019,
          "ph": 6.742688094
         },
         {
          "K": 38,
          "N": 85,
          "P": 53,
          "index": 2020,
          "ph": 6.588017308
         },
         {
          "K": 36,
          "N": 81,
          "P": 56,
          "index": 2021,
          "ph": 7.097586415
         },
         {
          "K": 38,
          "N": 84,
          "P": 55,
          "index": 2022,
          "ph": 6.956682743
         },
         {
          "K": 42,
          "N": 80,
          "P": 45,
          "index": 2023,
          "ph": 7.380396262
         },
         {
          "K": 45,
          "N": 76,
          "P": 54,
          "index": 2024,
          "ph": 6.176618831
         },
         {
          "K": 39,
          "N": 76,
          "P": 56,
          "index": 2025,
          "ph": 6.551130445
         },
         {
          "K": 45,
          "N": 81,
          "P": 40,
          "index": 2026,
          "ph": 6.427726565
         },
         {
          "K": 45,
          "N": 76,
          "P": 44,
          "index": 2027,
          "ph": 6.740947635
         },
         {
          "K": 40,
          "N": 69,
          "P": 47,
          "index": 2028,
          "ph": 6.130136384
         },
         {
          "K": 45,
          "N": 82,
          "P": 40,
          "index": 2029,
          "ph": 6.667633355
         },
         {
          "K": 35,
          "N": 69,
          "P": 57,
          "index": 2030,
          "ph": 6.186814392
         },
         {
          "K": 38,
          "N": 81,
          "P": 36,
          "index": 2031,
          "ph": 6.334837865
         },
         {
          "K": 38,
          "N": 67,
          "P": 60,
          "index": 2032,
          "ph": 7.16214284
         },
         {
          "K": 40,
          "N": 72,
          "P": 51,
          "index": 2033,
          "ph": 7.422318499
         },
         {
          "K": 45,
          "N": 65,
          "P": 39,
          "index": 2034,
          "ph": 6.768001309
         },
         {
          "K": 43,
          "N": 78,
          "P": 50,
          "index": 2035,
          "ph": 6.348441469
         },
         {
          "K": 41,
          "N": 77,
          "P": 52,
          "index": 2036,
          "ph": 6.097294061
         },
         {
          "K": 42,
          "N": 89,
          "P": 52,
          "index": 2037,
          "ph": 6.14132902
         },
         {
          "K": 37,
          "N": 62,
          "P": 49,
          "index": 2038,
          "ph": 7.479248124
         },
         {
          "K": 45,
          "N": 90,
          "P": 48,
          "index": 2039,
          "ph": 6.509174789
         },
         {
          "K": 36,
          "N": 66,
          "P": 47,
          "index": 2040,
          "ph": 6.57256106
         },
         {
          "K": 39,
          "N": 80,
          "P": 52,
          "index": 2041,
          "ph": 7.165696848
         },
         {
          "K": 45,
          "N": 89,
          "P": 52,
          "index": 2042,
          "ph": 7.207457208
         },
         {
          "K": 44,
          "N": 77,
          "P": 51,
          "index": 2043,
          "ph": 7.124333547
         },
         {
          "K": 41,
          "N": 94,
          "P": 37,
          "index": 2044,
          "ph": 6.463538707
         },
         {
          "K": 35,
          "N": 75,
          "P": 41,
          "index": 2045,
          "ph": 6.856833064
         },
         {
          "K": 36,
          "N": 60,
          "P": 55,
          "index": 2046,
          "ph": 7.132389299
         },
         {
          "K": 35,
          "N": 62,
          "P": 56,
          "index": 2047,
          "ph": 6.235357638
         },
         {
          "K": 42,
          "N": 84,
          "P": 40,
          "index": 2048,
          "ph": 6.704273839
         },
         {
          "K": 40,
          "N": 100,
          "P": 56,
          "index": 2049,
          "ph": 7.433313409
         },
         {
          "K": 44,
          "N": 75,
          "P": 56,
          "index": 2050,
          "ph": 6.109478059
         },
         {
          "K": 42,
          "N": 78,
          "P": 46,
          "index": 2051,
          "ph": 7.095413294
         },
         {
          "K": 36,
          "N": 82,
          "P": 48,
          "index": 2052,
          "ph": 6.352076783
         },
         {
          "K": 41,
          "N": 100,
          "P": 58,
          "index": 2053,
          "ph": 6.658769991
         },
         {
          "K": 40,
          "N": 88,
          "P": 50,
          "index": 2054,
          "ph": 7.051822472
         },
         {
          "K": 40,
          "N": 67,
          "P": 41,
          "index": 2055,
          "ph": 7.333143205
         },
         {
          "K": 43,
          "N": 72,
          "P": 42,
          "index": 2056,
          "ph": 6.352771037
         },
         {
          "K": 43,
          "N": 89,
          "P": 40,
          "index": 2057,
          "ph": 7.124050134
         },
         {
          "K": 43,
          "N": 89,
          "P": 57,
          "index": 2058,
          "ph": 6.998787171
         },
         {
          "K": 44,
          "N": 61,
          "P": 41,
          "index": 2059,
          "ph": 6.537914958
         },
         {
          "K": 43,
          "N": 79,
          "P": 45,
          "index": 2060,
          "ph": 7.171054239
         },
         {
          "K": 43,
          "N": 84,
          "P": 40,
          "index": 2061,
          "ph": 7.228268228
         },
         {
          "K": 35,
          "N": 98,
          "P": 43,
          "index": 2062,
          "ph": 7.319952206
         },
         {
          "K": 44,
          "N": 75,
          "P": 36,
          "index": 2063,
          "ph": 6.613341343
         },
         {
          "K": 35,
          "N": 89,
          "P": 58,
          "index": 2064,
          "ph": 6.096838784
         },
         {
          "K": 37,
          "N": 91,
          "P": 41,
          "index": 2065,
          "ph": 6.132570523
         },
         {
          "K": 36,
          "N": 77,
          "P": 48,
          "index": 2066,
          "ph": 7.36008498
         },
         {
          "K": 35,
          "N": 66,
          "P": 58,
          "index": 2067,
          "ph": 7.321619041
         },
         {
          "K": 41,
          "N": 62,
          "P": 59,
          "index": 2068,
          "ph": 7.175170657
         },
         {
          "K": 35,
          "N": 82,
          "P": 35,
          "index": 2069,
          "ph": 7.299076163
         },
         {
          "K": 35,
          "N": 61,
          "P": 41,
          "index": 2070,
          "ph": 6.842966479
         },
         {
          "K": 38,
          "N": 99,
          "P": 57,
          "index": 2071,
          "ph": 6.356295568
         },
         {
          "K": 43,
          "N": 70,
          "P": 42,
          "index": 2072,
          "ph": 6.508342839
         },
         {
          "K": 35,
          "N": 90,
          "P": 59,
          "index": 2073,
          "ph": 7.098227926
         },
         {
          "K": 42,
          "N": 73,
          "P": 43,
          "index": 2074,
          "ph": 6.310699968
         },
         {
          "K": 44,
          "N": 67,
          "P": 46,
          "index": 2075,
          "ph": 7.093328631
         },
         {
          "K": 42,
          "N": 84,
          "P": 37,
          "index": 2076,
          "ph": 6.691074249
         },
         {
          "K": 36,
          "N": 72,
          "P": 41,
          "index": 2077,
          "ph": 6.187746776
         },
         {
          "K": 37,
          "N": 71,
          "P": 56,
          "index": 2078,
          "ph": 6.491506245
         },
         {
          "K": 38,
          "N": 64,
          "P": 53,
          "index": 2079,
          "ph": 6.855362875
         },
         {
          "K": 39,
          "N": 65,
          "P": 54,
          "index": 2080,
          "ph": 7.124571593
         },
         {
          "K": 37,
          "N": 60,
          "P": 58,
          "index": 2081,
          "ph": 6.067302109
         },
         {
          "K": 43,
          "N": 86,
          "P": 39,
          "index": 2082,
          "ph": 6.432051512
         },
         {
          "K": 44,
          "N": 90,
          "P": 50,
          "index": 2083,
          "ph": 6.253408852
         },
         {
          "K": 36,
          "N": 91,
          "P": 38,
          "index": 2084,
          "ph": 7.287318723
         },
         {
          "K": 38,
          "N": 87,
          "P": 48,
          "index": 2085,
          "ph": 7.161865733
         },
         {
          "K": 36,
          "N": 72,
          "P": 41,
          "index": 2086,
          "ph": 6.065898283
         },
         {
          "K": 35,
          "N": 71,
          "P": 54,
          "index": 2087,
          "ph": 7.311077075
         },
         {
          "K": 41,
          "N": 82,
          "P": 46,
          "index": 2088,
          "ph": 6.581693772
         },
         {
          "K": 43,
          "N": 71,
          "P": 52,
          "index": 2089,
          "ph": 6.732826127
         },
         {
          "K": 43,
          "N": 80,
          "P": 43,
          "index": 2090,
          "ph": 6.014572075
         },
         {
          "K": 43,
          "N": 77,
          "P": 55,
          "index": 2091,
          "ph": 6.663559451
         },
         {
          "K": 41,
          "N": 95,
          "P": 57,
          "index": 2092,
          "ph": 6.434610995
         },
         {
          "K": 35,
          "N": 63,
          "P": 47,
          "index": 2093,
          "ph": 7.432768147
         },
         {
          "K": 38,
          "N": 93,
          "P": 43,
          "index": 2094,
          "ph": 6.987332927
         },
         {
          "K": 43,
          "N": 87,
          "P": 44,
          "index": 2095,
          "ph": 6.718725189
         },
         {
          "K": 39,
          "N": 88,
          "P": 52,
          "index": 2096,
          "ph": 6.880204617
         },
         {
          "K": 37,
          "N": 90,
          "P": 39,
          "index": 2097,
          "ph": 6.86106911
         },
         {
          "K": 43,
          "N": 90,
          "P": 39,
          "index": 2098,
          "ph": 6.7693455
         },
         {
          "K": 43,
          "N": 84,
          "P": 38,
          "index": 2099,
          "ph": 7.26158085
         },
         {
          "K": 26,
          "N": 91,
          "P": 21,
          "index": 2100,
          "ph": 7.261313694
         },
         {
          "K": 26,
          "N": 107,
          "P": 21,
          "index": 2101,
          "ph": 7.235070264
         },
         {
          "K": 35,
          "N": 83,
          "P": 38,
          "index": 2102,
          "ph": 7.18915558
         },
         {
          "K": 31,
          "N": 108,
          "P": 24,
          "index": 2103,
          "ph": 6.431899748
         },
         {
          "K": 34,
          "N": 116,
          "P": 28,
          "index": 2104,
          "ph": 6.42321105
         },
         {
          "K": 25,
          "N": 116,
          "P": 23,
          "index": 2105,
          "ph": 6.869720196
         },
         {
          "K": 27,
          "N": 109,
          "P": 31,
          "index": 2106,
          "ph": 6.973839707
         },
         {
          "K": 34,
          "N": 89,
          "P": 25,
          "index": 2107,
          "ph": 7.184801627
         },
         {
          "K": 32,
          "N": 118,
          "P": 18,
          "index": 2108,
          "ph": 6.351823783
         },
         {
          "K": 34,
          "N": 111,
          "P": 32,
          "index": 2109,
          "ph": 6.392048018
         },
         {
          "K": 28,
          "N": 84,
          "P": 36,
          "index": 2110,
          "ph": 6.119892347
         },
         {
          "K": 25,
          "N": 85,
          "P": 33,
          "index": 2111,
          "ph": 6.910823945
         },
         {
          "K": 27,
          "N": 99,
          "P": 15,
          "index": 2112,
          "ph": 6.501157208
         },
         {
          "K": 31,
          "N": 81,
          "P": 30,
          "index": 2113,
          "ph": 7.027585559
         },
         {
          "K": 29,
          "N": 95,
          "P": 39,
          "index": 2114,
          "ph": 7.13411409
         },
         {
          "K": 30,
          "N": 81,
          "P": 34,
          "index": 2115,
          "ph": 6.647765997
         },
         {
          "K": 28,
          "N": 80,
          "P": 15,
          "index": 2116,
          "ph": 6.703270635
         },
         {
          "K": 26,
          "N": 104,
          "P": 20,
          "index": 2117,
          "ph": 7.493191968
         },
         {
          "K": 28,
          "N": 109,
          "P": 29,
          "index": 2118,
          "ph": 6.724688503
         },
         {
          "K": 26,
          "N": 100,
          "P": 32,
          "index": 2119,
          "ph": 6.043485685
         },
         {
          "K": 28,
          "N": 100,
          "P": 24,
          "index": 2120,
          "ph": 7.101661011
         },
         {
          "K": 28,
          "N": 83,
          "P": 21,
          "index": 2121,
          "ph": 7.466900683
         },
         {
          "K": 28,
          "N": 120,
          "P": 23,
          "index": 2122,
          "ph": 6.877799264
         },
         {
          "K": 30,
          "N": 104,
          "P": 26,
          "index": 2123,
          "ph": 6.410992833
         },
         {
          "K": 31,
          "N": 108,
          "P": 33,
          "index": 2124,
          "ph": 7.393825704
         },
         {
          "K": 26,
          "N": 91,
          "P": 25,
          "index": 2125,
          "ph": 7.482414225
         },
         {
          "K": 27,
          "N": 86,
          "P": 26,
          "index": 2126,
          "ph": 6.081172981
         },
         {
          "K": 27,
          "N": 98,
          "P": 18,
          "index": 2127,
          "ph": 6.516312148
         },
         {
          "K": 31,
          "N": 111,
          "P": 27,
          "index": 2128,
          "ph": 6.043330951
         },
         {
          "K": 35,
          "N": 84,
          "P": 39,
          "index": 2129,
          "ph": 6.959404135
         },
         {
          "K": 27,
          "N": 98,
          "P": 27,
          "index": 2130,
          "ph": 7.238109556
         },
         {
          "K": 34,
          "N": 118,
          "P": 21,
          "index": 2131,
          "ph": 7.234258375
         },
         {
          "K": 31,
          "N": 103,
          "P": 27,
          "index": 2132,
          "ph": 6.691541233
         },
         {
          "K": 33,
          "N": 82,
          "P": 24,
          "index": 2133,
          "ph": 6.809593554
         },
         {
          "K": 35,
          "N": 86,
          "P": 31,
          "index": 2134,
          "ph": 6.485761419
         },
         {
          "K": 35,
          "N": 88,
          "P": 35,
          "index": 2135,
          "ph": 6.784460602
         },
         {
          "K": 29,
          "N": 84,
          "P": 27,
          "index": 2136,
          "ph": 7.167092586
         },
         {
          "K": 33,
          "N": 120,
          "P": 40,
          "index": 2137,
          "ph": 6.73410539
         },
         {
          "K": 30,
          "N": 106,
          "P": 40,
          "index": 2138,
          "ph": 6.779984384
         },
         {
          "K": 33,
          "N": 113,
          "P": 21,
          "index": 2139,
          "ph": 7.277422738
         },
         {
          "K": 25,
          "N": 117,
          "P": 34,
          "index": 2140,
          "ph": 7.21270048
         },
         {
          "K": 25,
          "N": 80,
          "P": 30,
          "index": 2141,
          "ph": 7.487266991
         },
         {
          "K": 27,
          "N": 88,
          "P": 21,
          "index": 2142,
          "ph": 7.231166546
         },
         {
          "K": 34,
          "N": 113,
          "P": 33,
          "index": 2143,
          "ph": 6.559817161
         },
         {
          "K": 28,
          "N": 87,
          "P": 23,
          "index": 2144,
          "ph": 6.979590627
         },
         {
          "K": 29,
          "N": 113,
          "P": 15,
          "index": 2145,
          "ph": 6.779230041
         },
         {
          "K": 30,
          "N": 98,
          "P": 29,
          "index": 2146,
          "ph": 6.217974349
         },
         {
          "K": 27,
          "N": 97,
          "P": 29,
          "index": 2147,
          "ph": 7.205078785
         },
         {
          "K": 32,
          "N": 85,
          "P": 35,
          "index": 2148,
          "ph": 6.854011265
         },
         {
          "K": 35,
          "N": 82,
          "P": 29,
          "index": 2149,
          "ph": 6.246872394
         },
         {
          "K": 25,
          "N": 103,
          "P": 33,
          "index": 2150,
          "ph": 6.911066044
         },
         {
          "K": 28,
          "N": 112,
          "P": 17,
          "index": 2151,
          "ph": 6.777417989
         },
         {
          "K": 33,
          "N": 99,
          "P": 19,
          "index": 2152,
          "ph": 6.273741983
         },
         {
          "K": 34,
          "N": 120,
          "P": 20,
          "index": 2153,
          "ph": 6.906124587
         },
         {
          "K": 28,
          "N": 114,
          "P": 27,
          "index": 2154,
          "ph": 7.162802357
         },
         {
          "K": 35,
          "N": 100,
          "P": 40,
          "index": 2155,
          "ph": 6.955787351
         },
         {
          "K": 25,
          "N": 108,
          "P": 35,
          "index": 2156,
          "ph": 6.971963169
         },
         {
          "K": 30,
          "N": 115,
          "P": 31,
          "index": 2157,
          "ph": 6.840927967
         },
         {
          "K": 30,
          "N": 87,
          "P": 28,
          "index": 2158,
          "ph": 6.536676653
         },
         {
          "K": 26,
          "N": 82,
          "P": 24,
          "index": 2159,
          "ph": 6.089443603
         },
         {
          "K": 27,
          "N": 94,
          "P": 26,
          "index": 2160,
          "ph": 7.456460375
         },
         {
          "K": 35,
          "N": 87,
          "P": 28,
          "index": 2161,
          "ph": 6.759211911
         },
         {
          "K": 35,
          "N": 118,
          "P": 40,
          "index": 2162,
          "ph": 7.460174812
         },
         {
          "K": 29,
          "N": 87,
          "P": 38,
          "index": 2163,
          "ph": 6.652642579
         },
         {
          "K": 30,
          "N": 92,
          "P": 40,
          "index": 2164,
          "ph": 6.026287448
         },
         {
          "K": 26,
          "N": 97,
          "P": 22,
          "index": 2165,
          "ph": 6.074190142
         },
         {
          "K": 32,
          "N": 99,
          "P": 40,
          "index": 2166,
          "ph": 7.045543056
         },
         {
          "K": 33,
          "N": 89,
          "P": 28,
          "index": 2167,
          "ph": 6.993236001
         },
         {
          "K": 29,
          "N": 112,
          "P": 39,
          "index": 2168,
          "ph": 6.726528895
         },
         {
          "K": 26,
          "N": 111,
          "P": 28,
          "index": 2169,
          "ph": 6.937352845
         },
         {
          "K": 26,
          "N": 114,
          "P": 20,
          "index": 2170,
          "ph": 7.27905689
         },
         {
          "K": 30,
          "N": 117,
          "P": 26,
          "index": 2171,
          "ph": 7.079850922
         },
         {
          "K": 31,
          "N": 111,
          "P": 29,
          "index": 2172,
          "ph": 6.136286518
         },
         {
          "K": 28,
          "N": 119,
          "P": 30,
          "index": 2173,
          "ph": 6.505203696
         },
         {
          "K": 33,
          "N": 116,
          "P": 40,
          "index": 2174,
          "ph": 7.042089492
         },
         {
          "K": 35,
          "N": 95,
          "P": 37,
          "index": 2175,
          "ph": 6.348337519
         },
         {
          "K": 33,
          "N": 86,
          "P": 40,
          "index": 2176,
          "ph": 7.432322234
         },
         {
          "K": 32,
          "N": 117,
          "P": 37,
          "index": 2177,
          "ph": 6.787658922
         },
         {
          "K": 35,
          "N": 105,
          "P": 18,
          "index": 2178,
          "ph": 6.743417121
         },
         {
          "K": 25,
          "N": 109,
          "P": 23,
          "index": 2179,
          "ph": 7.00733163
         },
         {
          "K": 31,
          "N": 80,
          "P": 18,
          "index": 2180,
          "ph": 7.303033217
         },
         {
          "K": 26,
          "N": 101,
          "P": 31,
          "index": 2181,
          "ph": 6.861235184
         },
         {
          "K": 33,
          "N": 103,
          "P": 33,
          "index": 2182,
          "ph": 7.131435858
         },
         {
          "K": 27,
          "N": 93,
          "P": 26,
          "index": 2183,
          "ph": 7.288211994
         },
         {
          "K": 28,
          "N": 104,
          "P": 35,
          "index": 2184,
          "ph": 6.983732393
         },
         {
          "K": 25,
          "N": 116,
          "P": 36,
          "index": 2185,
          "ph": 6.172090205
         },
         {
          "K": 29,
          "N": 107,
          "P": 38,
          "index": 2186,
          "ph": 6.35118177
         },
         {
          "K": 33,
          "N": 101,
          "P": 33,
          "index": 2187,
          "ph": 6.908671379
         },
         {
          "K": 31,
          "N": 107,
          "P": 31,
          "index": 2188,
          "ph": 6.766184468
         },
         {
          "K": 30,
          "N": 99,
          "P": 16,
          "index": 2189,
          "ph": 6.392791654
         },
         {
          "K": 30,
          "N": 103,
          "P": 40,
          "index": 2190,
          "ph": 6.348316257
         },
         {
          "K": 34,
          "N": 118,
          "P": 31,
          "index": 2191,
          "ph": 6.123796057
         },
         {
          "K": 35,
          "N": 106,
          "P": 21,
          "index": 2192,
          "ph": 7.428523634
         },
         {
          "K": 34,
          "N": 116,
          "P": 38,
          "index": 2193,
          "ph": 6.020947179
         },
         {
          "K": 26,
          "N": 97,
          "P": 35,
          "index": 2194,
          "ph": 6.334610249
         },
         {
          "K": 32,
          "N": 107,
          "P": 34,
          "index": 2195,
          "ph": 6.78006386
         },
         {
          "K": 27,
          "N": 99,
          "P": 15,
          "index": 2196,
          "ph": 6.086922359
         },
         {
          "K": 30,
          "N": 118,
          "P": 33,
          "index": 2197,
          "ph": 6.362607851
         },
         {
          "K": 34,
          "N": 117,
          "P": 32,
          "index": 2198,
          "ph": 6.758792552
         },
         {
          "K": 30,
          "N": 104,
          "P": 18,
          "index": 2199,
          "ph": 6.779832611
         }
        ],
        "schema": {
         "fields": [
          {
           "name": "index",
           "type": "integer"
          },
          {
           "name": "N",
           "type": "integer"
          },
          {
           "name": "P",
           "type": "integer"
          },
          {
           "name": "K",
           "type": "integer"
          },
          {
           "name": "ph",
           "type": "number"
          }
         ],
         "pandas_version": "1.4.0",
         "primaryKey": [
          "index"
         ]
        }
       },
       "total_rows": 2200,
       "truncation_type": null
      },
      "text/html": [
       "<div>\n",
       "<style scoped>\n",
       "    .dataframe tbody tr th:only-of-type {\n",
       "        vertical-align: middle;\n",
       "    }\n",
       "\n",
       "    .dataframe tbody tr th {\n",
       "        vertical-align: top;\n",
       "    }\n",
       "\n",
       "    .dataframe thead th {\n",
       "        text-align: right;\n",
       "    }\n",
       "</style>\n",
       "<table border=\"1\" class=\"dataframe\">\n",
       "  <thead>\n",
       "    <tr style=\"text-align: right;\">\n",
       "      <th></th>\n",
       "      <th>N</th>\n",
       "      <th>P</th>\n",
       "      <th>K</th>\n",
       "      <th>ph</th>\n",
       "    </tr>\n",
       "  </thead>\n",
       "  <tbody>\n",
       "    <tr>\n",
       "      <th>0</th>\n",
       "      <td>90</td>\n",
       "      <td>42</td>\n",
       "      <td>43</td>\n",
       "      <td>6.502985</td>\n",
       "    </tr>\n",
       "    <tr>\n",
       "      <th>1</th>\n",
       "      <td>85</td>\n",
       "      <td>58</td>\n",
       "      <td>41</td>\n",
       "      <td>7.038096</td>\n",
       "    </tr>\n",
       "    <tr>\n",
       "      <th>2</th>\n",
       "      <td>60</td>\n",
       "      <td>55</td>\n",
       "      <td>44</td>\n",
       "      <td>7.840207</td>\n",
       "    </tr>\n",
       "    <tr>\n",
       "      <th>3</th>\n",
       "      <td>74</td>\n",
       "      <td>35</td>\n",
       "      <td>40</td>\n",
       "      <td>6.980401</td>\n",
       "    </tr>\n",
       "    <tr>\n",
       "      <th>4</th>\n",
       "      <td>78</td>\n",
       "      <td>42</td>\n",
       "      <td>42</td>\n",
       "      <td>7.628473</td>\n",
       "    </tr>\n",
       "    <tr>\n",
       "      <th>...</th>\n",
       "      <td>...</td>\n",
       "      <td>...</td>\n",
       "      <td>...</td>\n",
       "      <td>...</td>\n",
       "    </tr>\n",
       "    <tr>\n",
       "      <th>2195</th>\n",
       "      <td>107</td>\n",
       "      <td>34</td>\n",
       "      <td>32</td>\n",
       "      <td>6.780064</td>\n",
       "    </tr>\n",
       "    <tr>\n",
       "      <th>2196</th>\n",
       "      <td>99</td>\n",
       "      <td>15</td>\n",
       "      <td>27</td>\n",
       "      <td>6.086922</td>\n",
       "    </tr>\n",
       "    <tr>\n",
       "      <th>2197</th>\n",
       "      <td>118</td>\n",
       "      <td>33</td>\n",
       "      <td>30</td>\n",
       "      <td>6.362608</td>\n",
       "    </tr>\n",
       "    <tr>\n",
       "      <th>2198</th>\n",
       "      <td>117</td>\n",
       "      <td>32</td>\n",
       "      <td>34</td>\n",
       "      <td>6.758793</td>\n",
       "    </tr>\n",
       "    <tr>\n",
       "      <th>2199</th>\n",
       "      <td>104</td>\n",
       "      <td>18</td>\n",
       "      <td>30</td>\n",
       "      <td>6.779833</td>\n",
       "    </tr>\n",
       "  </tbody>\n",
       "</table>\n",
       "<p>2200 rows × 4 columns</p>\n",
       "</div>"
      ],
      "text/plain": [
       "        N   P   K        ph\n",
       "0      90  42  43  6.502985\n",
       "1      85  58  41  7.038096\n",
       "2      60  55  44  7.840207\n",
       "3      74  35  40  6.980401\n",
       "4      78  42  42  7.628473\n",
       "...   ...  ..  ..       ...\n",
       "2195  107  34  32  6.780064\n",
       "2196   99  15  27  6.086922\n",
       "2197  118  33  30  6.362608\n",
       "2198  117  32  34  6.758793\n",
       "2199  104  18  30  6.779833\n",
       "\n",
       "[2200 rows x 4 columns]"
      ]
     },
     "execution_count": 53,
     "metadata": {},
     "output_type": "execute_result"
    }
   ],
   "source": [
    "X"
   ]
  },
  {
   "cell_type": "code",
   "execution_count": 53,
   "id": "4fbb3ad3-52b3-4d7e-ac52-ea7ca2e546d8",
   "metadata": {
    "executionCancelledAt": null,
    "executionTime": 48,
    "lastExecutedAt": 1696447918933,
    "lastScheduledRunId": null,
    "lastSuccessfullyExecutedCode": "",
    "outputsMetadata": {
     "0": {
      "height": 56,
      "type": "stream"
     }
    }
   },
   "outputs": [],
   "source": []
  },
  {
   "cell_type": "code",
   "execution_count": 54,
   "id": "0de085c8-49f1-47c9-a24d-09afeb2111ba",
   "metadata": {
    "executionCancelledAt": null,
    "executionTime": null,
    "lastExecutedAt": null,
    "lastScheduledRunId": null,
    "lastSuccessfullyExecutedCode": null,
    "outputsMetadata": {
     "0": {
      "height": 95,
      "type": "stream"
     }
    }
   },
   "outputs": [
    {
     "name": "stdout",
     "output_type": "stream",
     "text": [
      "F1-score for N: 0.10507916708090527\n",
      "F1-score for P: 0.10457380486654515\n",
      "F1-score for K: 0.2007873036107074\n",
      "F1-score for ph: 0.04532731061152114\n"
     ]
    }
   ],
   "source": [
    "for feature in [\"N\", \"P\", \"K\", \"ph\"]:\n",
    "    log_reg = LogisticRegression(\n",
    "        max_iter=2000,\n",
    "        multi_class=\"multinomial\",\n",
    "    )\n",
    "    log_reg.fit(X_train[[feature]], y_train)\n",
    "    y_pred = log_reg.predict(X_test[[feature]])\n",
    "    f1 = f1_score(y_test, y_pred, average=\"weighted\")\n",
    "    print(f\"F1-score for {feature}: {f1}\")"
   ]
  },
  {
   "cell_type": "code",
   "execution_count": 55,
   "id": "0bf749c9-3845-4d7d-8711-8e5ae3319d13",
   "metadata": {
    "executionCancelledAt": null,
    "executionTime": 260,
    "lastExecutedAt": 1696447984666,
    "lastScheduledRunId": null,
    "lastSuccessfullyExecutedCode": "# Calculate the correlation matrix\ncrops_corr = crops[[\"N\", \"P\", \"K\", \"ph\"]].corr()\n\n# Create a heatmap using seaborn\nsns.heatmap(crops_corr, annot=True)\nplt.show()\n"
   },
   "outputs": [
    {
     "data": {
      "image/png": "[encoded data removed]",
      "text/plain": [
       "<Figure size 640x480 with 2 Axes>"
      ]
     },
     "metadata": {},
     "output_type": "display_data"
    }
   ],
   "source": [
    "# Calculate the correlation matrix\n",
    "crops_corr = crops[[\"N\", \"P\", \"K\", \"ph\"]].corr()\n",
    "\n",
    "# Create a heatmap using seaborn\n",
    "sns.heatmap(crops_corr, annot=True)\n",
    "plt.show()\n"
   ]
  },
  {
   "cell_type": "markdown",
   "id": "76e2c3fd",
   "metadata": {},
   "source": [
    "P has the lowest corr. So final features are: N,K and pH"
   ]
  },
  {
   "cell_type": "code",
   "execution_count": 56,
   "id": "88f8ea14-6107-4b2b-bda9-21784243b532",
   "metadata": {
    "executionCancelledAt": null,
    "executionTime": 1294,
    "lastExecutedAt": 1696447985960,
    "lastScheduledRunId": null,
    "lastSuccessfullyExecutedCode": "# Select the final features for the model\nfinal_features = [\"N\", \"K\", \"ph\"]\n\n# Split the data with the final features\nX_train, X_test, y_train, y_test = train_test_split(\n    crops[final_features],\n    crops[\"crop\"],\n    test_size=0.2,\n    random_state=42\n)\n\n# Train a new model and evaluate performance\nlog_reg = LogisticRegression(\n    max_iter=2000, \n    multi_class=\"multinomial\"\n)\nlog_reg.fit(X_train, y_train)\ny_pred = log_reg.predict(X_test)\nmodel_performance = f1_score(y_test, y_pred, average=\"weighted\")\nprint(model_performance)",
    "outputsMetadata": {
     "0": {
      "height": 36,
      "type": "stream"
     }
    }
   },
   "outputs": [
    {
     "name": "stdout",
     "output_type": "stream",
     "text": [
      "0.558010495235685\n"
     ]
    }
   ],
   "source": [
    "# Select the final features for the model\n",
    "final_features = [\"N\", \"K\", \"ph\"]\n",
    "\n",
    "# Split the data with the final features\n",
    "X_train, X_test, y_train, y_test = train_test_split(\n",
    "    crops[final_features],\n",
    "    crops[\"crop\"],\n",
    "    test_size=0.2,\n",
    "    random_state=42\n",
    ")\n",
    "\n",
    "# Train a new model and evaluate performance\n",
    "log_reg = LogisticRegression(\n",
    "    max_iter=2000, \n",
    "    multi_class=\"multinomial\"\n",
    ")\n",
    "log_reg.fit(X_train, y_train)\n",
    "y_pred = log_reg.predict(X_test)\n",
    "model_performance = f1_score(y_test, y_pred, average=\"weighted\")\n",
    "print(model_performance)"
   ]
  }
 ],
 "metadata": {
  "colab": {
   "name": "Welcome to DataCamp Workspaces.ipynb",
   "provenance": []
  },
  "kernelspec": {
   "display_name": "Python 3 (ipykernel)",
   "language": "python",
   "name": "python3"
  },
  "language_info": {
   "codemirror_mode": {
    "name": "ipython",
    "version": 3
   },
   "file_extension": ".py",
   "mimetype": "text/x-python",
   "name": "python",
   "nbconvert_exporter": "python",
   "pygments_lexer": "ipython3",
   "version": "3.10.9"
  }
 },
 "nbformat": 4,
 "nbformat_minor": 5
}
